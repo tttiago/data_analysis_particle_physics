{
 "cells": [
  {
   "cell_type": "code",
   "execution_count": null,
   "metadata": {},
   "outputs": [],
   "source": [
    "from joblib import dump, load\n",
    "from pathlib import Path\n",
    "\n",
    "import matplotlib.pyplot as plt\n",
    "import numpy as np\n",
    "import pandas as pd"
   ]
  },
  {
   "cell_type": "code",
   "execution_count": null,
   "metadata": {},
   "outputs": [],
   "source": [
    "# For handling grid search parallelization\n",
    "import os\n",
    "os.environ['JOBLIB_TEMP_FOLDER'] = '/tmp'"
   ]
  },
  {
   "cell_type": "markdown",
   "metadata": {},
   "source": [
    "## Load data"
   ]
  },
  {
   "cell_type": "code",
   "execution_count": null,
   "metadata": {},
   "outputs": [],
   "source": [
    "path = Path('.')\n",
    "data_path = path / 'data'\n",
    "searches_path = path / 'searches'\n",
    "models_path = path / 'models'"
   ]
  },
  {
   "cell_type": "code",
   "execution_count": null,
   "metadata": {},
   "outputs": [],
   "source": [
    "\n",
    "train_xs = pd.read_pickle(data_path/'train_xs.pkl')\n",
    "valid_xs = pd.read_pickle(data_path/'valid_xs.pkl')\n",
    "train_y = pd.read_pickle(data_path/'train_y.pkl')\n",
    "valid_y = pd.read_pickle(data_path/'valid_y.pkl')\n",
    "weights = pd.read_pickle(data_path/'weights.pkl')"
   ]
  },
  {
   "cell_type": "code",
   "execution_count": null,
   "metadata": {},
   "outputs": [],
   "source": [
    "train_indices = train_xs.index\n",
    "valid_indices = valid_xs.index"
   ]
  },
  {
   "cell_type": "code",
   "execution_count": null,
   "metadata": {},
   "outputs": [],
   "source": [
    "valid_frac = 0.05"
   ]
  },
  {
   "cell_type": "markdown",
   "metadata": {},
   "source": [
    "## Train models"
   ]
  },
  {
   "cell_type": "code",
   "execution_count": null,
   "metadata": {},
   "outputs": [],
   "source": [
    "import sklearn.metrics as metrics\n",
    "from sklearn.model_selection import RandomizedSearchCV\n",
    "from sklearn.ensemble import RandomForestClassifier, HistGradientBoostingClassifier"
   ]
  },
  {
   "cell_type": "markdown",
   "metadata": {},
   "source": [
    "### Random Forest"
   ]
  },
  {
   "cell_type": "code",
   "execution_count": null,
   "metadata": {},
   "outputs": [
    {
     "data": {
      "text/html": [
       "<style>#sk-container-id-1 {color: black;background-color: white;}#sk-container-id-1 pre{padding: 0;}#sk-container-id-1 div.sk-toggleable {background-color: white;}#sk-container-id-1 label.sk-toggleable__label {cursor: pointer;display: block;width: 100%;margin-bottom: 0;padding: 0.3em;box-sizing: border-box;text-align: center;}#sk-container-id-1 label.sk-toggleable__label-arrow:before {content: \"▸\";float: left;margin-right: 0.25em;color: #696969;}#sk-container-id-1 label.sk-toggleable__label-arrow:hover:before {color: black;}#sk-container-id-1 div.sk-estimator:hover label.sk-toggleable__label-arrow:before {color: black;}#sk-container-id-1 div.sk-toggleable__content {max-height: 0;max-width: 0;overflow: hidden;text-align: left;background-color: #f0f8ff;}#sk-container-id-1 div.sk-toggleable__content pre {margin: 0.2em;color: black;border-radius: 0.25em;background-color: #f0f8ff;}#sk-container-id-1 input.sk-toggleable__control:checked~div.sk-toggleable__content {max-height: 200px;max-width: 100%;overflow: auto;}#sk-container-id-1 input.sk-toggleable__control:checked~label.sk-toggleable__label-arrow:before {content: \"▾\";}#sk-container-id-1 div.sk-estimator input.sk-toggleable__control:checked~label.sk-toggleable__label {background-color: #d4ebff;}#sk-container-id-1 div.sk-label input.sk-toggleable__control:checked~label.sk-toggleable__label {background-color: #d4ebff;}#sk-container-id-1 input.sk-hidden--visually {border: 0;clip: rect(1px 1px 1px 1px);clip: rect(1px, 1px, 1px, 1px);height: 1px;margin: -1px;overflow: hidden;padding: 0;position: absolute;width: 1px;}#sk-container-id-1 div.sk-estimator {font-family: monospace;background-color: #f0f8ff;border: 1px dotted black;border-radius: 0.25em;box-sizing: border-box;margin-bottom: 0.5em;}#sk-container-id-1 div.sk-estimator:hover {background-color: #d4ebff;}#sk-container-id-1 div.sk-parallel-item::after {content: \"\";width: 100%;border-bottom: 1px solid gray;flex-grow: 1;}#sk-container-id-1 div.sk-label:hover label.sk-toggleable__label {background-color: #d4ebff;}#sk-container-id-1 div.sk-serial::before {content: \"\";position: absolute;border-left: 1px solid gray;box-sizing: border-box;top: 0;bottom: 0;left: 50%;z-index: 0;}#sk-container-id-1 div.sk-serial {display: flex;flex-direction: column;align-items: center;background-color: white;padding-right: 0.2em;padding-left: 0.2em;position: relative;}#sk-container-id-1 div.sk-item {position: relative;z-index: 1;}#sk-container-id-1 div.sk-parallel {display: flex;align-items: stretch;justify-content: center;background-color: white;position: relative;}#sk-container-id-1 div.sk-item::before, #sk-container-id-1 div.sk-parallel-item::before {content: \"\";position: absolute;border-left: 1px solid gray;box-sizing: border-box;top: 0;bottom: 0;left: 50%;z-index: -1;}#sk-container-id-1 div.sk-parallel-item {display: flex;flex-direction: column;z-index: 1;position: relative;background-color: white;}#sk-container-id-1 div.sk-parallel-item:first-child::after {align-self: flex-end;width: 50%;}#sk-container-id-1 div.sk-parallel-item:last-child::after {align-self: flex-start;width: 50%;}#sk-container-id-1 div.sk-parallel-item:only-child::after {width: 0;}#sk-container-id-1 div.sk-dashed-wrapped {border: 1px dashed gray;margin: 0 0.4em 0.5em 0.4em;box-sizing: border-box;padding-bottom: 0.4em;background-color: white;}#sk-container-id-1 div.sk-label label {font-family: monospace;font-weight: bold;display: inline-block;line-height: 1.2em;}#sk-container-id-1 div.sk-label-container {text-align: center;}#sk-container-id-1 div.sk-container {/* jupyter's `normalize.less` sets `[hidden] { display: none; }` but bootstrap.min.css set `[hidden] { display: none !important; }` so we also need the `!important` here to be able to override the default hidden behavior on the sphinx rendered scikit-learn.org. See: https://github.com/scikit-learn/scikit-learn/issues/21755 */display: inline-block !important;position: relative;}#sk-container-id-1 div.sk-text-repr-fallback {display: none;}</style><div id=\"sk-container-id-1\" class=\"sk-top-container\"><div class=\"sk-text-repr-fallback\"><pre>RandomForestClassifier(max_leaf_nodes=16, n_jobs=-2)</pre><b>In a Jupyter environment, please rerun this cell to show the HTML representation or trust the notebook. <br />On GitHub, the HTML representation is unable to render, please try loading this page with nbviewer.org.</b></div><div class=\"sk-container\" hidden><div class=\"sk-item\"><div class=\"sk-estimator sk-toggleable\"><input class=\"sk-toggleable__control sk-hidden--visually\" id=\"sk-estimator-id-1\" type=\"checkbox\" checked><label for=\"sk-estimator-id-1\" class=\"sk-toggleable__label sk-toggleable__label-arrow\">RandomForestClassifier</label><div class=\"sk-toggleable__content\"><pre>RandomForestClassifier(max_leaf_nodes=16, n_jobs=-2)</pre></div></div></div></div></div>"
      ],
      "text/plain": [
       "RandomForestClassifier(max_leaf_nodes=16, n_jobs=-2)"
      ]
     },
     "execution_count": null,
     "metadata": {},
     "output_type": "execute_result"
    }
   ],
   "source": [
    "m1 = RandomForestClassifier(max_leaf_nodes=16, n_jobs=-2)\n",
    "m1.fit(train_xs, train_y, sample_weight=weights[train_indices])"
   ]
  },
  {
   "cell_type": "code",
   "execution_count": null,
   "metadata": {},
   "outputs": [
    {
     "data": {
      "image/png": "[encoded data removed]",
      "text/plain": [
       "<Figure size 640x480 with 1 Axes>"
      ]
     },
     "metadata": {},
     "output_type": "display_data"
    }
   ],
   "source": [
    "cm = metrics.ConfusionMatrixDisplay.from_estimator(m1, valid_xs, valid_y, \n",
    "                                           sample_weight=weights[valid_indices]/valid_frac,\n",
    "                                           cmap='Blues', display_labels=['background', 'signal'], \n",
    "                                           colorbar=False, values_format='.2f')"
   ]
  },
  {
   "cell_type": "code",
   "execution_count": null,
   "metadata": {},
   "outputs": [
    {
     "name": "stdout",
     "output_type": "stream",
     "text": [
      "#signals / #backgrounds: 3.62\n"
     ]
    }
   ],
   "source": [
    "print(f'#signals / #backgrounds: {cm.confusion_matrix[1, 1] / cm.confusion_matrix[0, 1]:.2f}')"
   ]
  },
  {
   "cell_type": "code",
   "execution_count": null,
   "metadata": {},
   "outputs": [
    {
     "data": {
      "text/plain": [
       "149.10897969115254"
      ]
     },
     "execution_count": null,
     "metadata": {},
     "output_type": "execute_result"
    }
   ],
   "source": [
    "probs = m1.predict_proba(valid_xs)\n",
    "probs.max()"
   ]
  },
  {
   "cell_type": "code",
   "execution_count": null,
   "metadata": {},
   "outputs": [
    {
     "data": {
      "text/plain": [
       "array([9.06124627e-05, 0.00000000e+00, 2.43876291e-04, 3.11726513e-05,\n",
       "       1.21443783e-04, 9.94386643e-05, 8.60676572e-02, 5.62523099e-02,\n",
       "       7.49938868e-02, 1.10457841e-01, 1.53973515e-01, 2.67462261e-02,\n",
       "       2.01728470e-02, 4.14767486e-02, 6.85866495e-02, 1.10024828e-01,\n",
       "       1.77222762e-02, 4.66420810e-02, 2.33008843e-02, 9.61107592e-02,\n",
       "       2.89570435e-02, 2.27436499e-02, 1.51842532e-02])"
      ]
     },
     "execution_count": null,
     "metadata": {},
     "output_type": "execute_result"
    }
   ],
   "source": [
    "m1.feature_importances_"
   ]
  },
  {
   "cell_type": "code",
   "execution_count": null,
   "metadata": {},
   "outputs": [
    {
     "data": {
      "text/html": [
       "<style>#sk-container-id-3 {color: black;background-color: white;}#sk-container-id-3 pre{padding: 0;}#sk-container-id-3 div.sk-toggleable {background-color: white;}#sk-container-id-3 label.sk-toggleable__label {cursor: pointer;display: block;width: 100%;margin-bottom: 0;padding: 0.3em;box-sizing: border-box;text-align: center;}#sk-container-id-3 label.sk-toggleable__label-arrow:before {content: \"▸\";float: left;margin-right: 0.25em;color: #696969;}#sk-container-id-3 label.sk-toggleable__label-arrow:hover:before {color: black;}#sk-container-id-3 div.sk-estimator:hover label.sk-toggleable__label-arrow:before {color: black;}#sk-container-id-3 div.sk-toggleable__content {max-height: 0;max-width: 0;overflow: hidden;text-align: left;background-color: #f0f8ff;}#sk-container-id-3 div.sk-toggleable__content pre {margin: 0.2em;color: black;border-radius: 0.25em;background-color: #f0f8ff;}#sk-container-id-3 input.sk-toggleable__control:checked~div.sk-toggleable__content {max-height: 200px;max-width: 100%;overflow: auto;}#sk-container-id-3 input.sk-toggleable__control:checked~label.sk-toggleable__label-arrow:before {content: \"▾\";}#sk-container-id-3 div.sk-estimator input.sk-toggleable__control:checked~label.sk-toggleable__label {background-color: #d4ebff;}#sk-container-id-3 div.sk-label input.sk-toggleable__control:checked~label.sk-toggleable__label {background-color: #d4ebff;}#sk-container-id-3 input.sk-hidden--visually {border: 0;clip: rect(1px 1px 1px 1px);clip: rect(1px, 1px, 1px, 1px);height: 1px;margin: -1px;overflow: hidden;padding: 0;position: absolute;width: 1px;}#sk-container-id-3 div.sk-estimator {font-family: monospace;background-color: #f0f8ff;border: 1px dotted black;border-radius: 0.25em;box-sizing: border-box;margin-bottom: 0.5em;}#sk-container-id-3 div.sk-estimator:hover {background-color: #d4ebff;}#sk-container-id-3 div.sk-parallel-item::after {content: \"\";width: 100%;border-bottom: 1px solid gray;flex-grow: 1;}#sk-container-id-3 div.sk-label:hover label.sk-toggleable__label {background-color: #d4ebff;}#sk-container-id-3 div.sk-serial::before {content: \"\";position: absolute;border-left: 1px solid gray;box-sizing: border-box;top: 0;bottom: 0;left: 50%;z-index: 0;}#sk-container-id-3 div.sk-serial {display: flex;flex-direction: column;align-items: center;background-color: white;padding-right: 0.2em;padding-left: 0.2em;position: relative;}#sk-container-id-3 div.sk-item {position: relative;z-index: 1;}#sk-container-id-3 div.sk-parallel {display: flex;align-items: stretch;justify-content: center;background-color: white;position: relative;}#sk-container-id-3 div.sk-item::before, #sk-container-id-3 div.sk-parallel-item::before {content: \"\";position: absolute;border-left: 1px solid gray;box-sizing: border-box;top: 0;bottom: 0;left: 50%;z-index: -1;}#sk-container-id-3 div.sk-parallel-item {display: flex;flex-direction: column;z-index: 1;position: relative;background-color: white;}#sk-container-id-3 div.sk-parallel-item:first-child::after {align-self: flex-end;width: 50%;}#sk-container-id-3 div.sk-parallel-item:last-child::after {align-self: flex-start;width: 50%;}#sk-container-id-3 div.sk-parallel-item:only-child::after {width: 0;}#sk-container-id-3 div.sk-dashed-wrapped {border: 1px dashed gray;margin: 0 0.4em 0.5em 0.4em;box-sizing: border-box;padding-bottom: 0.4em;background-color: white;}#sk-container-id-3 div.sk-label label {font-family: monospace;font-weight: bold;display: inline-block;line-height: 1.2em;}#sk-container-id-3 div.sk-label-container {text-align: center;}#sk-container-id-3 div.sk-container {/* jupyter's `normalize.less` sets `[hidden] { display: none; }` but bootstrap.min.css set `[hidden] { display: none !important; }` so we also need the `!important` here to be able to override the default hidden behavior on the sphinx rendered scikit-learn.org. See: https://github.com/scikit-learn/scikit-learn/issues/21755 */display: inline-block !important;position: relative;}#sk-container-id-3 div.sk-text-repr-fallback {display: none;}</style><div id=\"sk-container-id-3\" class=\"sk-top-container\"><div class=\"sk-text-repr-fallback\"><pre>RandomForestClassifier(max_leaf_nodes=16, n_jobs=-2)</pre><b>In a Jupyter environment, please rerun this cell to show the HTML representation or trust the notebook. <br />On GitHub, the HTML representation is unable to render, please try loading this page with nbviewer.org.</b></div><div class=\"sk-container\" hidden><div class=\"sk-item\"><div class=\"sk-estimator sk-toggleable\"><input class=\"sk-toggleable__control sk-hidden--visually\" id=\"sk-estimator-id-3\" type=\"checkbox\" checked><label for=\"sk-estimator-id-3\" class=\"sk-toggleable__label sk-toggleable__label-arrow\">RandomForestClassifier</label><div class=\"sk-toggleable__content\"><pre>RandomForestClassifier(max_leaf_nodes=16, n_jobs=-2)</pre></div></div></div></div></div>"
      ],
      "text/plain": [
       "RandomForestClassifier(max_leaf_nodes=16, n_jobs=-2)"
      ]
     },
     "execution_count": null,
     "metadata": {},
     "output_type": "execute_result"
    }
   ],
   "source": [
    "m2 = RandomForestClassifier(max_leaf_nodes=16, n_jobs=-2)\n",
    "m2.fit(train_xs, train_y)"
   ]
  },
  {
   "cell_type": "code",
   "execution_count": null,
   "metadata": {},
   "outputs": [
    {
     "data": {
      "image/png": "[encoded data removed]",
      "text/plain": [
       "<Figure size 640x480 with 1 Axes>"
      ]
     },
     "metadata": {},
     "output_type": "display_data"
    }
   ],
   "source": [
    "cm = metrics.ConfusionMatrixDisplay.from_estimator(m2, valid_xs, valid_y, \n",
    "                                           sample_weight=weights[valid_indices]/valid_frac,\n",
    "                                           cmap='Blues', display_labels=['background', 'signal'], \n",
    "                                           colorbar=False, values_format='.2f')"
   ]
  },
  {
   "cell_type": "code",
   "execution_count": null,
   "metadata": {},
   "outputs": [
    {
     "name": "stdout",
     "output_type": "stream",
     "text": [
      "#signals / #backgrounds: 4.23\n"
     ]
    }
   ],
   "source": [
    "print(f'#signals / #backgrounds: {cm.confusion_matrix[1, 1] / cm.confusion_matrix[0, 1]:.2f}')"
   ]
  },
  {
   "cell_type": "code",
   "execution_count": null,
   "metadata": {},
   "outputs": [
    {
     "data": {
      "text/plain": [
       "0.858564560951517"
      ]
     },
     "execution_count": null,
     "metadata": {},
     "output_type": "execute_result"
    }
   ],
   "source": [
    "probs = m2.predict_proba(valid_xs)\n",
    "probs.max()"
   ]
  },
  {
   "cell_type": "markdown",
   "metadata": {},
   "source": [
    "#### RF Hyperparameter tuning"
   ]
  },
  {
   "cell_type": "code",
   "execution_count": null,
   "metadata": {},
   "outputs": [],
   "source": [
    "# Create a weighted metric decorator\n",
    "def weighted_metric(metric):\n",
    "    def weighted_metric_impl(y_true, y_pred, sample_weight):\n",
    "        return metric(y_true, y_pred, sample_weight=sample_weight.loc[y_true.index.values].values.flatten())\n",
    "    return weighted_metric_impl\n",
    "\n",
    "# Create a weighted precision metric\n",
    "weighted_precision_score = weighted_metric(metrics.precision_score)"
   ]
  },
  {
   "cell_type": "code",
   "execution_count": null,
   "metadata": {},
   "outputs": [],
   "source": [
    "def weighted_true_positives(y_true, y_pred, sample_weight):\n",
    "    cm = metrics.confusion_matrix(y_true, y_pred, sample_weight=sample_weight.loc[y_true.index.values].values.flatten())\n",
    "    return cm[1, 1]/cm.sum().sum()"
   ]
  },
  {
   "cell_type": "code",
   "execution_count": null,
   "metadata": {},
   "outputs": [],
   "source": [
    "#merge train xs and valid xs\n",
    "xs = pd.concat([train_xs, valid_xs])\n",
    "y = pd.concat([train_y, valid_y])\n",
    "sample_weights = pd.concat([weights[train_indices], weights[valid_indices]])"
   ]
  },
  {
   "cell_type": "code",
   "execution_count": null,
   "metadata": {},
   "outputs": [],
   "source": [
    "score_params = {'sample_weight': sample_weights}\n",
    "scoring = {'precision': metrics.make_scorer(weighted_precision_score, **score_params),\n",
    "           'true_positives': metrics.make_scorer(weighted_true_positives, **score_params)}"
   ]
  },
  {
   "cell_type": "code",
   "execution_count": null,
   "metadata": {},
   "outputs": [],
   "source": [
    "rf = RandomForestClassifier(n_jobs=-3)\n",
    "\n",
    "param_dist = {'n_estimators': np.linspace(10, 100, 10, dtype=int), \n",
    "              'max_leaf_nodes': [2**i for i in range(1, 9)],\n",
    "              'bootstrap': [True, False],\n",
    "              'class_weight': [None, 'balanced'] + [{0: x, 1:1} for x in np.linspace(1.5, 6, 10)]}\n",
    "\n",
    "random_search = RandomizedSearchCV(rf, param_distributions=param_dist, cv=5, scoring=scoring,\n",
    "                                   return_train_score=True, verbose=4, n_iter=25,\n",
    "                                   refit=False)"
   ]
  },
  {
   "cell_type": "code",
   "execution_count": null,
   "metadata": {},
   "outputs": [
    {
     "name": "stdout",
     "output_type": "stream",
     "text": [
      "Fitting 5 folds for each of 25 candidates, totalling 125 fits\n",
      "[CV 1/5] END bootstrap=True, class_weight=None, max_leaf_nodes=128, n_estimators=60; precision: (train=0.822, test=0.818) true_positives: (train=0.624, test=0.608) total time= 1.1min\n",
      "[CV 2/5] END bootstrap=True, class_weight=None, max_leaf_nodes=128, n_estimators=60; precision: (train=0.821, test=0.821) true_positives: (train=0.623, test=0.632) total time= 1.1min\n",
      "[CV 3/5] END bootstrap=True, class_weight=None, max_leaf_nodes=128, n_estimators=60; precision: (train=0.821, test=0.817) true_positives: (train=0.622, test=0.621) total time= 1.1min\n",
      "[CV 4/5] END bootstrap=True, class_weight=None, max_leaf_nodes=128, n_estimators=60; precision: (train=0.820, test=0.823) true_positives: (train=0.623, test=0.620) total time= 1.0min\n",
      "[CV 5/5] END bootstrap=True, class_weight=None, max_leaf_nodes=128, n_estimators=60; precision: (train=0.820, test=0.823) true_positives: (train=0.622, test=0.631) total time= 1.1min\n",
      "[CV 1/5] END bootstrap=False, class_weight={0: 2.5, 1: 1}, max_leaf_nodes=8, n_estimators=50; precision: (train=0.878, test=0.870) true_positives: (train=0.355, test=0.344) total time=  36.0s\n",
      "[CV 2/5] END bootstrap=False, class_weight={0: 2.5, 1: 1}, max_leaf_nodes=8, n_estimators=50; precision: (train=0.869, test=0.876) true_positives: (train=0.370, test=0.376) total time=  32.4s\n",
      "[CV 3/5] END bootstrap=False, class_weight={0: 2.5, 1: 1}, max_leaf_nodes=8, n_estimators=50; precision: (train=0.873, test=0.880) true_positives: (train=0.371, test=0.372) total time=  32.9s\n",
      "[CV 4/5] END bootstrap=False, class_weight={0: 2.5, 1: 1}, max_leaf_nodes=8, n_estimators=50; precision: (train=0.876, test=0.862) true_positives: (train=0.365, test=0.362) total time=  40.4s\n",
      "[CV 5/5] END bootstrap=False, class_weight={0: 2.5, 1: 1}, max_leaf_nodes=8, n_estimators=50; precision: (train=0.871, test=0.872) true_positives: (train=0.358, test=0.365) total time=  37.5s\n",
      "[CV 1/5] END bootstrap=False, class_weight=balanced, max_leaf_nodes=32, n_estimators=10; precision: (train=0.854, test=0.847) true_positives: (train=0.479, test=0.464) total time=  14.7s\n",
      "[CV 2/5] END bootstrap=False, class_weight=balanced, max_leaf_nodes=32, n_estimators=10; precision: (train=0.852, test=0.855) true_positives: (train=0.510, test=0.517) total time=  12.6s\n",
      "[CV 3/5] END bootstrap=False, class_weight=balanced, max_leaf_nodes=32, n_estimators=10; precision: (train=0.857, test=0.857) true_positives: (train=0.487, test=0.487) total time=  12.9s\n",
      "[CV 4/5] END bootstrap=False, class_weight=balanced, max_leaf_nodes=32, n_estimators=10; precision: (train=0.853, test=0.846) true_positives: (train=0.450, test=0.447) total time=  13.7s\n",
      "[CV 5/5] END bootstrap=False, class_weight=balanced, max_leaf_nodes=32, n_estimators=10; precision: (train=0.852, test=0.854) true_positives: (train=0.492, test=0.499) total time=  12.6s\n"
     ]
    },
    {
     "name": "stderr",
     "output_type": "stream",
     "text": [
      "/home/tiago/mambaforge/envs/fastai/lib/python3.10/site-packages/sklearn/metrics/_classification.py:1344: UndefinedMetricWarning: Precision is ill-defined and being set to 0.0 due to no predicted samples. Use `zero_division` parameter to control this behavior.\n",
      "  _warn_prf(average, modifier, msg_start, len(result))\n",
      "/home/tiago/mambaforge/envs/fastai/lib/python3.10/site-packages/sklearn/metrics/_classification.py:1344: UndefinedMetricWarning: Precision is ill-defined and being set to 0.0 due to no predicted samples. Use `zero_division` parameter to control this behavior.\n",
      "  _warn_prf(average, modifier, msg_start, len(result))\n"
     ]
    },
    {
     "name": "stdout",
     "output_type": "stream",
     "text": [
      "[CV 1/5] END bootstrap=False, class_weight={0: 6.0, 1: 1}, max_leaf_nodes=8, n_estimators=20; precision: (train=0.000, test=0.000) true_positives: (train=0.000, test=0.000) total time=  16.5s\n"
     ]
    },
    {
     "name": "stderr",
     "output_type": "stream",
     "text": [
      "/home/tiago/mambaforge/envs/fastai/lib/python3.10/site-packages/sklearn/metrics/_classification.py:1344: UndefinedMetricWarning: Precision is ill-defined and being set to 0.0 due to no predicted samples. Use `zero_division` parameter to control this behavior.\n",
      "  _warn_prf(average, modifier, msg_start, len(result))\n",
      "/home/tiago/mambaforge/envs/fastai/lib/python3.10/site-packages/sklearn/metrics/_classification.py:1344: UndefinedMetricWarning: Precision is ill-defined and being set to 0.0 due to no predicted samples. Use `zero_division` parameter to control this behavior.\n",
      "  _warn_prf(average, modifier, msg_start, len(result))\n"
     ]
    },
    {
     "name": "stdout",
     "output_type": "stream",
     "text": [
      "[CV 2/5] END bootstrap=False, class_weight={0: 6.0, 1: 1}, max_leaf_nodes=8, n_estimators=20; precision: (train=0.000, test=0.000) true_positives: (train=0.000, test=0.000) total time=  19.5s\n"
     ]
    },
    {
     "name": "stderr",
     "output_type": "stream",
     "text": [
      "/home/tiago/mambaforge/envs/fastai/lib/python3.10/site-packages/sklearn/metrics/_classification.py:1344: UndefinedMetricWarning: Precision is ill-defined and being set to 0.0 due to no predicted samples. Use `zero_division` parameter to control this behavior.\n",
      "  _warn_prf(average, modifier, msg_start, len(result))\n",
      "/home/tiago/mambaforge/envs/fastai/lib/python3.10/site-packages/sklearn/metrics/_classification.py:1344: UndefinedMetricWarning: Precision is ill-defined and being set to 0.0 due to no predicted samples. Use `zero_division` parameter to control this behavior.\n",
      "  _warn_prf(average, modifier, msg_start, len(result))\n"
     ]
    },
    {
     "name": "stdout",
     "output_type": "stream",
     "text": [
      "[CV 3/5] END bootstrap=False, class_weight={0: 6.0, 1: 1}, max_leaf_nodes=8, n_estimators=20; precision: (train=0.000, test=0.000) true_positives: (train=0.000, test=0.000) total time=  17.9s\n",
      "[CV 4/5] END bootstrap=False, class_weight={0: 6.0, 1: 1}, max_leaf_nodes=8, n_estimators=20; precision: (train=0.889, test=0.850) true_positives: (train=0.003, test=0.003) total time=  15.9s\n"
     ]
    },
    {
     "name": "stderr",
     "output_type": "stream",
     "text": [
      "/home/tiago/mambaforge/envs/fastai/lib/python3.10/site-packages/sklearn/metrics/_classification.py:1344: UndefinedMetricWarning: Precision is ill-defined and being set to 0.0 due to no predicted samples. Use `zero_division` parameter to control this behavior.\n",
      "  _warn_prf(average, modifier, msg_start, len(result))\n",
      "/home/tiago/mambaforge/envs/fastai/lib/python3.10/site-packages/sklearn/metrics/_classification.py:1344: UndefinedMetricWarning: Precision is ill-defined and being set to 0.0 due to no predicted samples. Use `zero_division` parameter to control this behavior.\n",
      "  _warn_prf(average, modifier, msg_start, len(result))\n"
     ]
    },
    {
     "name": "stdout",
     "output_type": "stream",
     "text": [
      "[CV 5/5] END bootstrap=False, class_weight={0: 6.0, 1: 1}, max_leaf_nodes=8, n_estimators=20; precision: (train=0.000, test=0.000) true_positives: (train=0.000, test=0.000) total time=  15.5s\n",
      "[CV 1/5] END bootstrap=False, class_weight=None, max_leaf_nodes=16, n_estimators=30; precision: (train=0.807, test=0.800) true_positives: (train=0.646, test=0.629) total time=  25.5s\n",
      "[CV 2/5] END bootstrap=False, class_weight=None, max_leaf_nodes=16, n_estimators=30; precision: (train=0.808, test=0.814) true_positives: (train=0.629, test=0.639) total time=  27.1s\n",
      "[CV 3/5] END bootstrap=False, class_weight=None, max_leaf_nodes=16, n_estimators=30; precision: (train=0.813, test=0.806) true_positives: (train=0.627, test=0.626) total time=  30.4s\n",
      "[CV 4/5] END bootstrap=False, class_weight=None, max_leaf_nodes=16, n_estimators=30; precision: (train=0.801, test=0.812) true_positives: (train=0.640, test=0.636) total time=  28.5s\n",
      "[CV 5/5] END bootstrap=False, class_weight=None, max_leaf_nodes=16, n_estimators=30; precision: (train=0.799, test=0.798) true_positives: (train=0.646, test=0.654) total time=  28.3s\n",
      "[CV 1/5] END bootstrap=True, class_weight={0: 2.0, 1: 1}, max_leaf_nodes=16, n_estimators=40; precision: (train=0.862, test=0.854) true_positives: (train=0.484, test=0.468) total time=  28.8s\n",
      "[CV 2/5] END bootstrap=True, class_weight={0: 2.0, 1: 1}, max_leaf_nodes=16, n_estimators=40; precision: (train=0.853, test=0.853) true_positives: (train=0.471, test=0.478) total time=  36.4s\n",
      "[CV 3/5] END bootstrap=True, class_weight={0: 2.0, 1: 1}, max_leaf_nodes=16, n_estimators=40; precision: (train=0.854, test=0.856) true_positives: (train=0.461, test=0.463) total time=  37.1s\n",
      "[CV 4/5] END bootstrap=True, class_weight={0: 2.0, 1: 1}, max_leaf_nodes=16, n_estimators=40; precision: (train=0.858, test=0.855) true_positives: (train=0.466, test=0.463) total time=  42.1s\n",
      "[CV 5/5] END bootstrap=True, class_weight={0: 2.0, 1: 1}, max_leaf_nodes=16, n_estimators=40; precision: (train=0.852, test=0.861) true_positives: (train=0.470, test=0.478) total time=  40.3s\n",
      "[CV 1/5] END bootstrap=False, class_weight={0: 1.5, 1: 1}, max_leaf_nodes=256, n_estimators=100; precision: (train=0.848, test=0.833) true_positives: (train=0.557, test=0.541) total time= 3.6min\n",
      "[CV 2/5] END bootstrap=False, class_weight={0: 1.5, 1: 1}, max_leaf_nodes=256, n_estimators=100; precision: (train=0.846, test=0.845) true_positives: (train=0.558, test=0.565) total time= 3.3min\n",
      "[CV 3/5] END bootstrap=False, class_weight={0: 1.5, 1: 1}, max_leaf_nodes=256, n_estimators=100; precision: (train=0.847, test=0.843) true_positives: (train=0.558, test=0.555) total time= 3.3min\n",
      "[CV 4/5] END bootstrap=False, class_weight={0: 1.5, 1: 1}, max_leaf_nodes=256, n_estimators=100; precision: (train=0.844, test=0.848) true_positives: (train=0.561, test=0.558) total time= 3.4min\n",
      "[CV 5/5] END bootstrap=False, class_weight={0: 1.5, 1: 1}, max_leaf_nodes=256, n_estimators=100; precision: (train=0.845, test=0.851) true_positives: (train=0.556, test=0.564) total time= 3.7min\n",
      "[CV 1/5] END bootstrap=True, class_weight={0: 3.0, 1: 1}, max_leaf_nodes=4, n_estimators=40; precision: (train=0.896, test=0.857) true_positives: (train=0.123, test=0.117) total time=  17.6s\n",
      "[CV 2/5] END bootstrap=True, class_weight={0: 3.0, 1: 1}, max_leaf_nodes=4, n_estimators=40; precision: (train=0.914, test=0.926) true_positives: (train=0.128, test=0.133) total time=  18.5s\n",
      "[CV 3/5] END bootstrap=True, class_weight={0: 3.0, 1: 1}, max_leaf_nodes=4, n_estimators=40; precision: (train=0.906, test=0.919) true_positives: (train=0.091, test=0.092) total time=  18.8s\n",
      "[CV 4/5] END bootstrap=True, class_weight={0: 3.0, 1: 1}, max_leaf_nodes=4, n_estimators=40; precision: (train=0.895, test=0.872) true_positives: (train=0.106, test=0.103) total time=  19.1s\n",
      "[CV 5/5] END bootstrap=True, class_weight={0: 3.0, 1: 1}, max_leaf_nodes=4, n_estimators=40; precision: (train=0.886, test=0.882) true_positives: (train=0.240, test=0.248) total time=  16.8s\n",
      "[CV 1/5] END bootstrap=False, class_weight={0: 2.0, 1: 1}, max_leaf_nodes=16, n_estimators=70; precision: (train=0.854, test=0.845) true_positives: (train=0.470, test=0.457) total time= 1.2min\n",
      "[CV 2/5] END bootstrap=False, class_weight={0: 2.0, 1: 1}, max_leaf_nodes=16, n_estimators=70; precision: (train=0.858, test=0.857) true_positives: (train=0.475, test=0.482) total time= 1.1min\n",
      "[CV 3/5] END bootstrap=False, class_weight={0: 2.0, 1: 1}, max_leaf_nodes=16, n_estimators=70; precision: (train=0.852, test=0.850) true_positives: (train=0.497, test=0.496) total time= 1.1min\n",
      "[CV 4/5] END bootstrap=False, class_weight={0: 2.0, 1: 1}, max_leaf_nodes=16, n_estimators=70; precision: (train=0.863, test=0.862) true_positives: (train=0.469, test=0.466) total time= 1.1min\n",
      "[CV 5/5] END bootstrap=False, class_weight={0: 2.0, 1: 1}, max_leaf_nodes=16, n_estimators=70; precision: (train=0.859, test=0.864) true_positives: (train=0.491, test=0.500) total time= 1.1min\n",
      "[CV 1/5] END bootstrap=True, class_weight={0: 4.0, 1: 1}, max_leaf_nodes=32, n_estimators=70; precision: (train=0.891, test=0.876) true_positives: (train=0.246, test=0.236) total time=  55.2s\n",
      "[CV 2/5] END bootstrap=True, class_weight={0: 4.0, 1: 1}, max_leaf_nodes=32, n_estimators=70; precision: (train=0.892, test=0.908) true_positives: (train=0.203, test=0.205) total time=  55.4s\n",
      "[CV 3/5] END bootstrap=True, class_weight={0: 4.0, 1: 1}, max_leaf_nodes=32, n_estimators=70; precision: (train=0.891, test=0.900) true_positives: (train=0.219, test=0.221) total time=  52.7s\n",
      "[CV 4/5] END bootstrap=True, class_weight={0: 4.0, 1: 1}, max_leaf_nodes=32, n_estimators=70; precision: (train=0.892, test=0.896) true_positives: (train=0.198, test=0.195) total time=  45.5s\n",
      "[CV 5/5] END bootstrap=True, class_weight={0: 4.0, 1: 1}, max_leaf_nodes=32, n_estimators=70; precision: (train=0.892, test=0.886) true_positives: (train=0.204, test=0.207) total time=  52.1s\n",
      "[CV 1/5] END bootstrap=True, class_weight={0: 2.5, 1: 1}, max_leaf_nodes=64, n_estimators=10; precision: (train=0.872, test=0.855) true_positives: (train=0.401, test=0.387) total time=  10.3s\n",
      "[CV 2/5] END bootstrap=True, class_weight={0: 2.5, 1: 1}, max_leaf_nodes=64, n_estimators=10; precision: (train=0.867, test=0.867) true_positives: (train=0.391, test=0.395) total time=   9.8s\n",
      "[CV 3/5] END bootstrap=True, class_weight={0: 2.5, 1: 1}, max_leaf_nodes=64, n_estimators=10; precision: (train=0.868, test=0.873) true_positives: (train=0.387, test=0.387) total time=  10.4s\n",
      "[CV 4/5] END bootstrap=True, class_weight={0: 2.5, 1: 1}, max_leaf_nodes=64, n_estimators=10; precision: (train=0.873, test=0.861) true_positives: (train=0.406, test=0.402) total time=  11.0s\n",
      "[CV 5/5] END bootstrap=True, class_weight={0: 2.5, 1: 1}, max_leaf_nodes=64, n_estimators=10; precision: (train=0.869, test=0.873) true_positives: (train=0.400, test=0.407) total time=  11.6s\n",
      "[CV 1/5] END bootstrap=True, class_weight=None, max_leaf_nodes=16, n_estimators=20; precision: (train=0.807, test=0.800) true_positives: (train=0.635, test=0.619) total time=  13.6s\n",
      "[CV 2/5] END bootstrap=True, class_weight=None, max_leaf_nodes=16, n_estimators=20; precision: (train=0.811, test=0.817) true_positives: (train=0.624, test=0.633) total time=  13.7s\n",
      "[CV 3/5] END bootstrap=True, class_weight=None, max_leaf_nodes=16, n_estimators=20; precision: (train=0.809, test=0.801) true_positives: (train=0.630, test=0.629) total time=  14.1s\n",
      "[CV 4/5] END bootstrap=True, class_weight=None, max_leaf_nodes=16, n_estimators=20; precision: (train=0.803, test=0.812) true_positives: (train=0.639, test=0.636) total time=  13.7s\n",
      "[CV 5/5] END bootstrap=True, class_weight=None, max_leaf_nodes=16, n_estimators=20; precision: (train=0.805, test=0.809) true_positives: (train=0.638, test=0.648) total time=  14.2s\n",
      "[CV 1/5] END bootstrap=False, class_weight=balanced, max_leaf_nodes=4, n_estimators=70; precision: (train=0.838, test=0.831) true_positives: (train=0.472, test=0.458) total time=  39.7s\n",
      "[CV 2/5] END bootstrap=False, class_weight=balanced, max_leaf_nodes=4, n_estimators=70; precision: (train=0.851, test=0.853) true_positives: (train=0.517, test=0.524) total time=  39.1s\n",
      "[CV 3/5] END bootstrap=False, class_weight=balanced, max_leaf_nodes=4, n_estimators=70; precision: (train=0.841, test=0.842) true_positives: (train=0.474, test=0.476) total time=  40.9s\n",
      "[CV 4/5] END bootstrap=False, class_weight=balanced, max_leaf_nodes=4, n_estimators=70; precision: (train=0.851, test=0.850) true_positives: (train=0.508, test=0.507) total time=  39.4s\n",
      "[CV 5/5] END bootstrap=False, class_weight=balanced, max_leaf_nodes=4, n_estimators=70; precision: (train=0.845, test=0.846) true_positives: (train=0.450, test=0.457) total time=  39.8s\n"
     ]
    },
    {
     "name": "stderr",
     "output_type": "stream",
     "text": [
      "/home/tiago/mambaforge/envs/fastai/lib/python3.10/site-packages/sklearn/metrics/_classification.py:1344: UndefinedMetricWarning: Precision is ill-defined and being set to 0.0 due to no predicted samples. Use `zero_division` parameter to control this behavior.\n",
      "  _warn_prf(average, modifier, msg_start, len(result))\n",
      "/home/tiago/mambaforge/envs/fastai/lib/python3.10/site-packages/sklearn/metrics/_classification.py:1344: UndefinedMetricWarning: Precision is ill-defined and being set to 0.0 due to no predicted samples. Use `zero_division` parameter to control this behavior.\n",
      "  _warn_prf(average, modifier, msg_start, len(result))\n"
     ]
    },
    {
     "name": "stdout",
     "output_type": "stream",
     "text": [
      "[CV 1/5] END bootstrap=True, class_weight={0: 6.0, 1: 1}, max_leaf_nodes=4, n_estimators=40; precision: (train=0.000, test=0.000) true_positives: (train=0.000, test=0.000) total time=  16.2s\n"
     ]
    },
    {
     "name": "stderr",
     "output_type": "stream",
     "text": [
      "/home/tiago/mambaforge/envs/fastai/lib/python3.10/site-packages/sklearn/metrics/_classification.py:1344: UndefinedMetricWarning: Precision is ill-defined and being set to 0.0 due to no predicted samples. Use `zero_division` parameter to control this behavior.\n",
      "  _warn_prf(average, modifier, msg_start, len(result))\n",
      "/home/tiago/mambaforge/envs/fastai/lib/python3.10/site-packages/sklearn/metrics/_classification.py:1344: UndefinedMetricWarning: Precision is ill-defined and being set to 0.0 due to no predicted samples. Use `zero_division` parameter to control this behavior.\n",
      "  _warn_prf(average, modifier, msg_start, len(result))\n"
     ]
    },
    {
     "name": "stdout",
     "output_type": "stream",
     "text": [
      "[CV 2/5] END bootstrap=True, class_weight={0: 6.0, 1: 1}, max_leaf_nodes=4, n_estimators=40; precision: (train=0.000, test=0.000) true_positives: (train=0.000, test=0.000) total time=  17.2s\n"
     ]
    },
    {
     "name": "stderr",
     "output_type": "stream",
     "text": [
      "/home/tiago/mambaforge/envs/fastai/lib/python3.10/site-packages/sklearn/metrics/_classification.py:1344: UndefinedMetricWarning: Precision is ill-defined and being set to 0.0 due to no predicted samples. Use `zero_division` parameter to control this behavior.\n",
      "  _warn_prf(average, modifier, msg_start, len(result))\n",
      "/home/tiago/mambaforge/envs/fastai/lib/python3.10/site-packages/sklearn/metrics/_classification.py:1344: UndefinedMetricWarning: Precision is ill-defined and being set to 0.0 due to no predicted samples. Use `zero_division` parameter to control this behavior.\n",
      "  _warn_prf(average, modifier, msg_start, len(result))\n"
     ]
    },
    {
     "name": "stdout",
     "output_type": "stream",
     "text": [
      "[CV 3/5] END bootstrap=True, class_weight={0: 6.0, 1: 1}, max_leaf_nodes=4, n_estimators=40; precision: (train=0.000, test=0.000) true_positives: (train=0.000, test=0.000) total time=  17.3s\n"
     ]
    },
    {
     "name": "stderr",
     "output_type": "stream",
     "text": [
      "/home/tiago/mambaforge/envs/fastai/lib/python3.10/site-packages/sklearn/metrics/_classification.py:1344: UndefinedMetricWarning: Precision is ill-defined and being set to 0.0 due to no predicted samples. Use `zero_division` parameter to control this behavior.\n",
      "  _warn_prf(average, modifier, msg_start, len(result))\n",
      "/home/tiago/mambaforge/envs/fastai/lib/python3.10/site-packages/sklearn/metrics/_classification.py:1344: UndefinedMetricWarning: Precision is ill-defined and being set to 0.0 due to no predicted samples. Use `zero_division` parameter to control this behavior.\n",
      "  _warn_prf(average, modifier, msg_start, len(result))\n"
     ]
    },
    {
     "name": "stdout",
     "output_type": "stream",
     "text": [
      "[CV 4/5] END bootstrap=True, class_weight={0: 6.0, 1: 1}, max_leaf_nodes=4, n_estimators=40; precision: (train=0.000, test=0.000) true_positives: (train=0.000, test=0.000) total time=  16.4s\n"
     ]
    },
    {
     "name": "stderr",
     "output_type": "stream",
     "text": [
      "/home/tiago/mambaforge/envs/fastai/lib/python3.10/site-packages/sklearn/metrics/_classification.py:1344: UndefinedMetricWarning: Precision is ill-defined and being set to 0.0 due to no predicted samples. Use `zero_division` parameter to control this behavior.\n",
      "  _warn_prf(average, modifier, msg_start, len(result))\n",
      "/home/tiago/mambaforge/envs/fastai/lib/python3.10/site-packages/sklearn/metrics/_classification.py:1344: UndefinedMetricWarning: Precision is ill-defined and being set to 0.0 due to no predicted samples. Use `zero_division` parameter to control this behavior.\n",
      "  _warn_prf(average, modifier, msg_start, len(result))\n"
     ]
    },
    {
     "name": "stdout",
     "output_type": "stream",
     "text": [
      "[CV 5/5] END bootstrap=True, class_weight={0: 6.0, 1: 1}, max_leaf_nodes=4, n_estimators=40; precision: (train=0.000, test=0.000) true_positives: (train=0.000, test=0.000) total time=  16.5s\n",
      "[CV 1/5] END bootstrap=False, class_weight=None, max_leaf_nodes=64, n_estimators=80; precision: (train=0.819, test=0.813) true_positives: (train=0.628, test=0.611) total time= 1.6min\n",
      "[CV 2/5] END bootstrap=False, class_weight=None, max_leaf_nodes=64, n_estimators=80; precision: (train=0.817, test=0.818) true_positives: (train=0.622, test=0.631) total time= 1.6min\n",
      "[CV 3/5] END bootstrap=False, class_weight=None, max_leaf_nodes=64, n_estimators=80; precision: (train=0.819, test=0.813) true_positives: (train=0.624, test=0.622) total time= 1.6min\n",
      "[CV 4/5] END bootstrap=False, class_weight=None, max_leaf_nodes=64, n_estimators=80; precision: (train=0.817, test=0.822) true_positives: (train=0.624, test=0.620) total time= 1.6min\n",
      "[CV 5/5] END bootstrap=False, class_weight=None, max_leaf_nodes=64, n_estimators=80; precision: (train=0.817, test=0.818) true_positives: (train=0.626, test=0.636) total time= 1.6min\n",
      "[CV 1/5] END bootstrap=False, class_weight={0: 3.0, 1: 1}, max_leaf_nodes=32, n_estimators=90; precision: (train=0.882, test=0.871) true_positives: (train=0.332, test=0.321) total time= 1.8min\n",
      "[CV 2/5] END bootstrap=False, class_weight={0: 3.0, 1: 1}, max_leaf_nodes=32, n_estimators=90; precision: (train=0.874, test=0.884) true_positives: (train=0.329, test=0.332) total time= 1.8min\n",
      "[CV 3/5] END bootstrap=False, class_weight={0: 3.0, 1: 1}, max_leaf_nodes=32, n_estimators=90; precision: (train=0.875, test=0.887) true_positives: (train=0.339, test=0.340) total time= 1.8min\n",
      "[CV 4/5] END bootstrap=False, class_weight={0: 3.0, 1: 1}, max_leaf_nodes=32, n_estimators=90; precision: (train=0.883, test=0.874) true_positives: (train=0.329, test=0.325) total time= 1.8min\n",
      "[CV 5/5] END bootstrap=False, class_weight={0: 3.0, 1: 1}, max_leaf_nodes=32, n_estimators=90; precision: (train=0.883, test=0.882) true_positives: (train=0.329, test=0.337) total time= 1.8min\n",
      "[CV 1/5] END bootstrap=True, class_weight={0: 6.0, 1: 1}, max_leaf_nodes=256, n_estimators=70; precision: (train=0.925, test=0.886) true_positives: (train=0.144, test=0.133) total time= 1.4min\n",
      "[CV 2/5] END bootstrap=True, class_weight={0: 6.0, 1: 1}, max_leaf_nodes=256, n_estimators=70; precision: (train=0.918, test=0.918) true_positives: (train=0.143, test=0.143) total time= 1.3min\n",
      "[CV 3/5] END bootstrap=True, class_weight={0: 6.0, 1: 1}, max_leaf_nodes=256, n_estimators=70; precision: (train=0.918, test=0.916) true_positives: (train=0.133, test=0.132) total time= 1.2min\n",
      "[CV 4/5] END bootstrap=True, class_weight={0: 6.0, 1: 1}, max_leaf_nodes=256, n_estimators=70; precision: (train=0.917, test=0.922) true_positives: (train=0.137, test=0.133) total time= 1.3min\n",
      "[CV 5/5] END bootstrap=True, class_weight={0: 6.0, 1: 1}, max_leaf_nodes=256, n_estimators=70; precision: (train=0.924, test=0.913) true_positives: (train=0.133, test=0.137) total time= 1.7min\n",
      "[CV 1/5] END bootstrap=False, class_weight={0: 1.5, 1: 1}, max_leaf_nodes=16, n_estimators=90; precision: (train=0.837, test=0.822) true_positives: (train=0.581, test=0.565) total time= 2.1min\n",
      "[CV 2/5] END bootstrap=False, class_weight={0: 1.5, 1: 1}, max_leaf_nodes=16, n_estimators=90; precision: (train=0.835, test=0.839) true_positives: (train=0.574, test=0.584) total time= 1.9min\n",
      "[CV 3/5] END bootstrap=False, class_weight={0: 1.5, 1: 1}, max_leaf_nodes=16, n_estimators=90; precision: (train=0.837, test=0.831) true_positives: (train=0.578, test=0.575) total time= 1.8min\n",
      "[CV 4/5] END bootstrap=False, class_weight={0: 1.5, 1: 1}, max_leaf_nodes=16, n_estimators=90; precision: (train=0.835, test=0.839) true_positives: (train=0.578, test=0.577) total time= 1.5min\n",
      "[CV 5/5] END bootstrap=False, class_weight={0: 1.5, 1: 1}, max_leaf_nodes=16, n_estimators=90; precision: (train=0.834, test=0.838) true_positives: (train=0.579, test=0.588) total time= 1.5min\n",
      "[CV 1/5] END bootstrap=False, class_weight={0: 5.5, 1: 1}, max_leaf_nodes=16, n_estimators=50; precision: (train=0.937, test=0.872) true_positives: (train=0.037, test=0.033) total time=  55.3s\n",
      "[CV 2/5] END bootstrap=False, class_weight={0: 5.5, 1: 1}, max_leaf_nodes=16, n_estimators=50; precision: (train=0.942, test=0.970) true_positives: (train=0.025, test=0.026) total time=  51.0s\n",
      "[CV 3/5] END bootstrap=False, class_weight={0: 5.5, 1: 1}, max_leaf_nodes=16, n_estimators=50; precision: (train=0.935, test=0.915) true_positives: (train=0.027, test=0.026) total time=  52.9s\n",
      "[CV 4/5] END bootstrap=False, class_weight={0: 5.5, 1: 1}, max_leaf_nodes=16, n_estimators=50; precision: (train=0.910, test=0.918) true_positives: (train=0.037, test=0.037) total time=  47.7s\n",
      "[CV 5/5] END bootstrap=False, class_weight={0: 5.5, 1: 1}, max_leaf_nodes=16, n_estimators=50; precision: (train=1.001, test=0.989) true_positives: (train=0.001, test=0.001) total time=  49.7s\n",
      "[CV 1/5] END bootstrap=False, class_weight={0: 1.5, 1: 1}, max_leaf_nodes=128, n_estimators=10; precision: (train=0.847, test=0.830) true_positives: (train=0.559, test=0.543) total time=  19.8s\n",
      "[CV 2/5] END bootstrap=False, class_weight={0: 1.5, 1: 1}, max_leaf_nodes=128, n_estimators=10; precision: (train=0.846, test=0.850) true_positives: (train=0.547, test=0.554) total time=  19.8s\n",
      "[CV 3/5] END bootstrap=False, class_weight={0: 1.5, 1: 1}, max_leaf_nodes=128, n_estimators=10; precision: (train=0.842, test=0.836) true_positives: (train=0.555, test=0.550) total time=  20.8s\n",
      "[CV 4/5] END bootstrap=False, class_weight={0: 1.5, 1: 1}, max_leaf_nodes=128, n_estimators=10; precision: (train=0.839, test=0.845) true_positives: (train=0.562, test=0.561) total time=  24.6s\n",
      "[CV 5/5] END bootstrap=False, class_weight={0: 1.5, 1: 1}, max_leaf_nodes=128, n_estimators=10; precision: (train=0.842, test=0.853) true_positives: (train=0.559, test=0.567) total time=  20.7s\n",
      "[CV 1/5] END bootstrap=True, class_weight={0: 1.5, 1: 1}, max_leaf_nodes=8, n_estimators=50; precision: (train=0.832, test=0.823) true_positives: (train=0.592, test=0.576) total time=  29.3s\n",
      "[CV 2/5] END bootstrap=True, class_weight={0: 1.5, 1: 1}, max_leaf_nodes=8, n_estimators=50; precision: (train=0.829, test=0.835) true_positives: (train=0.587, test=0.595) total time=  29.7s\n",
      "[CV 3/5] END bootstrap=True, class_weight={0: 1.5, 1: 1}, max_leaf_nodes=8, n_estimators=50; precision: (train=0.833, test=0.824) true_positives: (train=0.579, test=0.577) total time=  28.6s\n",
      "[CV 4/5] END bootstrap=True, class_weight={0: 1.5, 1: 1}, max_leaf_nodes=8, n_estimators=50; precision: (train=0.830, test=0.835) true_positives: (train=0.579, test=0.578) total time=  28.9s\n",
      "[CV 5/5] END bootstrap=True, class_weight={0: 1.5, 1: 1}, max_leaf_nodes=8, n_estimators=50; precision: (train=0.828, test=0.828) true_positives: (train=0.575, test=0.583) total time=  28.4s\n",
      "[CV 1/5] END bootstrap=True, class_weight={0: 1.5, 1: 1}, max_leaf_nodes=16, n_estimators=30; precision: (train=0.838, test=0.826) true_positives: (train=0.574, test=0.558) total time=  23.2s\n",
      "[CV 2/5] END bootstrap=True, class_weight={0: 1.5, 1: 1}, max_leaf_nodes=16, n_estimators=30; precision: (train=0.837, test=0.841) true_positives: (train=0.576, test=0.586) total time=  23.1s\n",
      "[CV 3/5] END bootstrap=True, class_weight={0: 1.5, 1: 1}, max_leaf_nodes=16, n_estimators=30; precision: (train=0.833, test=0.831) true_positives: (train=0.583, test=0.581) total time=  22.9s\n",
      "[CV 4/5] END bootstrap=True, class_weight={0: 1.5, 1: 1}, max_leaf_nodes=16, n_estimators=30; precision: (train=0.836, test=0.839) true_positives: (train=0.581, test=0.580) total time=  21.8s\n",
      "[CV 5/5] END bootstrap=True, class_weight={0: 1.5, 1: 1}, max_leaf_nodes=16, n_estimators=30; precision: (train=0.832, test=0.834) true_positives: (train=0.578, test=0.587) total time=  22.4s\n",
      "[CV 1/5] END bootstrap=False, class_weight=balanced, max_leaf_nodes=256, n_estimators=20; precision: (train=0.864, test=0.847) true_positives: (train=0.499, test=0.480) total time=  44.8s\n",
      "[CV 2/5] END bootstrap=False, class_weight=balanced, max_leaf_nodes=256, n_estimators=20; precision: (train=0.860, test=0.859) true_positives: (train=0.498, test=0.504) total time=  48.7s\n",
      "[CV 3/5] END bootstrap=False, class_weight=balanced, max_leaf_nodes=256, n_estimators=20; precision: (train=0.861, test=0.860) true_positives: (train=0.494, test=0.491) total time=  41.8s\n",
      "[CV 4/5] END bootstrap=False, class_weight=balanced, max_leaf_nodes=256, n_estimators=20; precision: (train=0.863, test=0.859) true_positives: (train=0.490, test=0.486) total time=  41.0s\n",
      "[CV 5/5] END bootstrap=False, class_weight=balanced, max_leaf_nodes=256, n_estimators=20; precision: (train=0.860, test=0.866) true_positives: (train=0.502, test=0.510) total time=  41.2s\n",
      "[CV 1/5] END bootstrap=False, class_weight={0: 2.5, 1: 1}, max_leaf_nodes=256, n_estimators=100; precision: (train=0.877, test=0.861) true_positives: (train=0.412, test=0.399) total time= 3.2min\n",
      "[CV 2/5] END bootstrap=False, class_weight={0: 2.5, 1: 1}, max_leaf_nodes=256, n_estimators=100; precision: (train=0.873, test=0.878) true_positives: (train=0.413, test=0.416) total time= 3.1min\n",
      "[CV 3/5] END bootstrap=False, class_weight={0: 2.5, 1: 1}, max_leaf_nodes=256, n_estimators=100; precision: (train=0.872, test=0.878) true_positives: (train=0.408, test=0.407) total time= 3.1min\n",
      "[CV 4/5] END bootstrap=False, class_weight={0: 2.5, 1: 1}, max_leaf_nodes=256, n_estimators=100; precision: (train=0.875, test=0.863) true_positives: (train=0.407, test=0.403) total time= 3.1min\n",
      "[CV 5/5] END bootstrap=False, class_weight={0: 2.5, 1: 1}, max_leaf_nodes=256, n_estimators=100; precision: (train=0.873, test=0.871) true_positives: (train=0.406, test=0.413) total time= 3.0min\n",
      "[CV 1/5] END bootstrap=False, class_weight=None, max_leaf_nodes=8, n_estimators=90; precision: (train=0.796, test=0.793) true_positives: (train=0.654, test=0.638) total time=  58.8s\n",
      "[CV 2/5] END bootstrap=False, class_weight=None, max_leaf_nodes=8, n_estimators=90; precision: (train=0.787, test=0.787) true_positives: (train=0.663, test=0.673) total time=  59.2s\n",
      "[CV 3/5] END bootstrap=False, class_weight=None, max_leaf_nodes=8, n_estimators=90; precision: (train=0.792, test=0.785) true_positives: (train=0.658, test=0.658) total time=  59.0s\n",
      "[CV 4/5] END bootstrap=False, class_weight=None, max_leaf_nodes=8, n_estimators=90; precision: (train=0.795, test=0.806) true_positives: (train=0.653, test=0.650) total time=  58.9s\n",
      "[CV 5/5] END bootstrap=False, class_weight=None, max_leaf_nodes=8, n_estimators=90; precision: (train=0.795, test=0.797) true_positives: (train=0.653, test=0.664) total time=  59.4s\n"
     ]
    },
    {
     "data": {
      "text/html": [
       "<style>#sk-container-id-4 {color: black;background-color: white;}#sk-container-id-4 pre{padding: 0;}#sk-container-id-4 div.sk-toggleable {background-color: white;}#sk-container-id-4 label.sk-toggleable__label {cursor: pointer;display: block;width: 100%;margin-bottom: 0;padding: 0.3em;box-sizing: border-box;text-align: center;}#sk-container-id-4 label.sk-toggleable__label-arrow:before {content: \"▸\";float: left;margin-right: 0.25em;color: #696969;}#sk-container-id-4 label.sk-toggleable__label-arrow:hover:before {color: black;}#sk-container-id-4 div.sk-estimator:hover label.sk-toggleable__label-arrow:before {color: black;}#sk-container-id-4 div.sk-toggleable__content {max-height: 0;max-width: 0;overflow: hidden;text-align: left;background-color: #f0f8ff;}#sk-container-id-4 div.sk-toggleable__content pre {margin: 0.2em;color: black;border-radius: 0.25em;background-color: #f0f8ff;}#sk-container-id-4 input.sk-toggleable__control:checked~div.sk-toggleable__content {max-height: 200px;max-width: 100%;overflow: auto;}#sk-container-id-4 input.sk-toggleable__control:checked~label.sk-toggleable__label-arrow:before {content: \"▾\";}#sk-container-id-4 div.sk-estimator input.sk-toggleable__control:checked~label.sk-toggleable__label {background-color: #d4ebff;}#sk-container-id-4 div.sk-label input.sk-toggleable__control:checked~label.sk-toggleable__label {background-color: #d4ebff;}#sk-container-id-4 input.sk-hidden--visually {border: 0;clip: rect(1px 1px 1px 1px);clip: rect(1px, 1px, 1px, 1px);height: 1px;margin: -1px;overflow: hidden;padding: 0;position: absolute;width: 1px;}#sk-container-id-4 div.sk-estimator {font-family: monospace;background-color: #f0f8ff;border: 1px dotted black;border-radius: 0.25em;box-sizing: border-box;margin-bottom: 0.5em;}#sk-container-id-4 div.sk-estimator:hover {background-color: #d4ebff;}#sk-container-id-4 div.sk-parallel-item::after {content: \"\";width: 100%;border-bottom: 1px solid gray;flex-grow: 1;}#sk-container-id-4 div.sk-label:hover label.sk-toggleable__label {background-color: #d4ebff;}#sk-container-id-4 div.sk-serial::before {content: \"\";position: absolute;border-left: 1px solid gray;box-sizing: border-box;top: 0;bottom: 0;left: 50%;z-index: 0;}#sk-container-id-4 div.sk-serial {display: flex;flex-direction: column;align-items: center;background-color: white;padding-right: 0.2em;padding-left: 0.2em;position: relative;}#sk-container-id-4 div.sk-item {position: relative;z-index: 1;}#sk-container-id-4 div.sk-parallel {display: flex;align-items: stretch;justify-content: center;background-color: white;position: relative;}#sk-container-id-4 div.sk-item::before, #sk-container-id-4 div.sk-parallel-item::before {content: \"\";position: absolute;border-left: 1px solid gray;box-sizing: border-box;top: 0;bottom: 0;left: 50%;z-index: -1;}#sk-container-id-4 div.sk-parallel-item {display: flex;flex-direction: column;z-index: 1;position: relative;background-color: white;}#sk-container-id-4 div.sk-parallel-item:first-child::after {align-self: flex-end;width: 50%;}#sk-container-id-4 div.sk-parallel-item:last-child::after {align-self: flex-start;width: 50%;}#sk-container-id-4 div.sk-parallel-item:only-child::after {width: 0;}#sk-container-id-4 div.sk-dashed-wrapped {border: 1px dashed gray;margin: 0 0.4em 0.5em 0.4em;box-sizing: border-box;padding-bottom: 0.4em;background-color: white;}#sk-container-id-4 div.sk-label label {font-family: monospace;font-weight: bold;display: inline-block;line-height: 1.2em;}#sk-container-id-4 div.sk-label-container {text-align: center;}#sk-container-id-4 div.sk-container {/* jupyter's `normalize.less` sets `[hidden] { display: none; }` but bootstrap.min.css set `[hidden] { display: none !important; }` so we also need the `!important` here to be able to override the default hidden behavior on the sphinx rendered scikit-learn.org. See: https://github.com/scikit-learn/scikit-learn/issues/21755 */display: inline-block !important;position: relative;}#sk-container-id-4 div.sk-text-repr-fallback {display: none;}</style><div id=\"sk-container-id-4\" class=\"sk-top-container\"><div class=\"sk-text-repr-fallback\"><pre>RandomizedSearchCV(cv=5, estimator=RandomForestClassifier(n_jobs=-3), n_iter=25,\n",
       "                   param_distributions={&#x27;bootstrap&#x27;: [True, False],\n",
       "                                        &#x27;class_weight&#x27;: [None, &#x27;balanced&#x27;,\n",
       "                                                         {0: 1.5, 1: 1},\n",
       "                                                         {0: 2.0, 1: 1},\n",
       "                                                         {0: 2.5, 1: 1},\n",
       "                                                         {0: 3.0, 1: 1},\n",
       "                                                         {0: 3.5, 1: 1},\n",
       "                                                         {0: 4.0, 1: 1},\n",
       "                                                         {0: 4.5, 1: 1},\n",
       "                                                         {0: 5.0, 1: 1},\n",
       "                                                         {0: 5.5, 1: 1},\n",
       "                                                         {0: 6.0, 1: 1}],\n",
       "                                        &#x27;max_leaf_nodes&#x27;: [2, 4, 8, 16, 32, 64,\n",
       "                                                           128, 256],\n",
       "                                        &#x27;n_estimators&#x27;: array([ 10,  20,  30,...\n",
       "380343     0.001118\n",
       "948045     0.000141\n",
       "Name: rescaled_weight, Length: 958093, dtype: float64),\n",
       "                            &#x27;true_positives&#x27;: make_scorer(weighted_true_positives, sample_weight=336596     0.000622\n",
       "1046443    0.000402\n",
       "994441     0.000627\n",
       "131389     0.000868\n",
       "45434      0.000367\n",
       "             ...   \n",
       "957916    -0.001084\n",
       "557435     0.009622\n",
       "834372     0.000635\n",
       "380343     0.001118\n",
       "948045     0.000141\n",
       "Name: rescaled_weight, Length: 958093, dtype: float64)},\n",
       "                   verbose=4)</pre><b>In a Jupyter environment, please rerun this cell to show the HTML representation or trust the notebook. <br />On GitHub, the HTML representation is unable to render, please try loading this page with nbviewer.org.</b></div><div class=\"sk-container\" hidden><div class=\"sk-item sk-dashed-wrapped\"><div class=\"sk-label-container\"><div class=\"sk-label sk-toggleable\"><input class=\"sk-toggleable__control sk-hidden--visually\" id=\"sk-estimator-id-4\" type=\"checkbox\" ><label for=\"sk-estimator-id-4\" class=\"sk-toggleable__label sk-toggleable__label-arrow\">RandomizedSearchCV</label><div class=\"sk-toggleable__content\"><pre>RandomizedSearchCV(cv=5, estimator=RandomForestClassifier(n_jobs=-3), n_iter=25,\n",
       "                   param_distributions={&#x27;bootstrap&#x27;: [True, False],\n",
       "                                        &#x27;class_weight&#x27;: [None, &#x27;balanced&#x27;,\n",
       "                                                         {0: 1.5, 1: 1},\n",
       "                                                         {0: 2.0, 1: 1},\n",
       "                                                         {0: 2.5, 1: 1},\n",
       "                                                         {0: 3.0, 1: 1},\n",
       "                                                         {0: 3.5, 1: 1},\n",
       "                                                         {0: 4.0, 1: 1},\n",
       "                                                         {0: 4.5, 1: 1},\n",
       "                                                         {0: 5.0, 1: 1},\n",
       "                                                         {0: 5.5, 1: 1},\n",
       "                                                         {0: 6.0, 1: 1}],\n",
       "                                        &#x27;max_leaf_nodes&#x27;: [2, 4, 8, 16, 32, 64,\n",
       "                                                           128, 256],\n",
       "                                        &#x27;n_estimators&#x27;: array([ 10,  20,  30,...\n",
       "380343     0.001118\n",
       "948045     0.000141\n",
       "Name: rescaled_weight, Length: 958093, dtype: float64),\n",
       "                            &#x27;true_positives&#x27;: make_scorer(weighted_true_positives, sample_weight=336596     0.000622\n",
       "1046443    0.000402\n",
       "994441     0.000627\n",
       "131389     0.000868\n",
       "45434      0.000367\n",
       "             ...   \n",
       "957916    -0.001084\n",
       "557435     0.009622\n",
       "834372     0.000635\n",
       "380343     0.001118\n",
       "948045     0.000141\n",
       "Name: rescaled_weight, Length: 958093, dtype: float64)},\n",
       "                   verbose=4)</pre></div></div></div><div class=\"sk-parallel\"><div class=\"sk-parallel-item\"><div class=\"sk-item\"><div class=\"sk-label-container\"><div class=\"sk-label sk-toggleable\"><input class=\"sk-toggleable__control sk-hidden--visually\" id=\"sk-estimator-id-5\" type=\"checkbox\" ><label for=\"sk-estimator-id-5\" class=\"sk-toggleable__label sk-toggleable__label-arrow\">estimator: RandomForestClassifier</label><div class=\"sk-toggleable__content\"><pre>RandomForestClassifier(n_jobs=-3)</pre></div></div></div><div class=\"sk-serial\"><div class=\"sk-item\"><div class=\"sk-estimator sk-toggleable\"><input class=\"sk-toggleable__control sk-hidden--visually\" id=\"sk-estimator-id-6\" type=\"checkbox\" ><label for=\"sk-estimator-id-6\" class=\"sk-toggleable__label sk-toggleable__label-arrow\">RandomForestClassifier</label><div class=\"sk-toggleable__content\"><pre>RandomForestClassifier(n_jobs=-3)</pre></div></div></div></div></div></div></div></div></div></div>"
      ],
      "text/plain": [
       "RandomizedSearchCV(cv=5, estimator=RandomForestClassifier(n_jobs=-3), n_iter=25,\n",
       "                   param_distributions={'bootstrap': [True, False],\n",
       "                                        'class_weight': [None, 'balanced',\n",
       "                                                         {0: 1.5, 1: 1},\n",
       "                                                         {0: 2.0, 1: 1},\n",
       "                                                         {0: 2.5, 1: 1},\n",
       "                                                         {0: 3.0, 1: 1},\n",
       "                                                         {0: 3.5, 1: 1},\n",
       "                                                         {0: 4.0, 1: 1},\n",
       "                                                         {0: 4.5, 1: 1},\n",
       "                                                         {0: 5.0, 1: 1},\n",
       "                                                         {0: 5.5, 1: 1},\n",
       "                                                         {0: 6.0, 1: 1}],\n",
       "                                        'max_leaf_nodes': [2, 4, 8, 16, 32, 64,\n",
       "                                                           128, 256],\n",
       "                                        'n_estimators': array([ 10,  20,  30,...\n",
       "380343     0.001118\n",
       "948045     0.000141\n",
       "Name: rescaled_weight, Length: 958093, dtype: float64),\n",
       "                            'true_positives': make_scorer(weighted_true_positives, sample_weight=336596     0.000622\n",
       "1046443    0.000402\n",
       "994441     0.000627\n",
       "131389     0.000868\n",
       "45434      0.000367\n",
       "             ...   \n",
       "957916    -0.001084\n",
       "557435     0.009622\n",
       "834372     0.000635\n",
       "380343     0.001118\n",
       "948045     0.000141\n",
       "Name: rescaled_weight, Length: 958093, dtype: float64)},\n",
       "                   verbose=4)"
      ]
     },
     "execution_count": null,
     "metadata": {},
     "output_type": "execute_result"
    }
   ],
   "source": [
    "random_search.fit(xs, y)"
   ]
  },
  {
   "cell_type": "code",
   "execution_count": null,
   "metadata": {},
   "outputs": [
    {
     "name": "stdout",
     "output_type": "stream",
     "text": [
      "loaded file\n"
     ]
    }
   ],
   "source": [
    "fname = 'rf_random_search.pkl'\n",
    "if not (searches_path/fname).exists():\n",
    "    random_search_results = pd.DataFrame(random_search.cv_results_)\n",
    "    # Split params into separate columns, class_weights and max_leaf_nodes\n",
    "    params = random_search_results.params.apply(pd.Series)\n",
    "    random_search_results = pd.concat([random_search_results, params], axis=1).drop('params', axis=1)\n",
    "    # Drop split0, split1, ... columns\n",
    "    random_search_results = random_search_results.loc[:, ~random_search_results.columns.str.startswith('split')]\n",
    "    random_search_results = random_search_results.loc[:, ~random_search_results.columns.str.startswith('std')]\n",
    "    random_search_results.to_pickle(searches_path/fname)\n",
    "else:\n",
    "    print('loaded file')\n",
    "    random_search_results = pd.read_pickle(searches_path/fname)    "
   ]
  },
  {
   "cell_type": "code",
   "execution_count": null,
   "metadata": {},
   "outputs": [
    {
     "data": {
      "text/html": [
       "<div>\n",
       "<style scoped>\n",
       "    .dataframe tbody tr th:only-of-type {\n",
       "        vertical-align: middle;\n",
       "    }\n",
       "\n",
       "    .dataframe tbody tr th {\n",
       "        vertical-align: top;\n",
       "    }\n",
       "\n",
       "    .dataframe thead th {\n",
       "        text-align: right;\n",
       "    }\n",
       "</style>\n",
       "<table border=\"1\" class=\"dataframe\">\n",
       "  <thead>\n",
       "    <tr style=\"text-align: right;\">\n",
       "      <th></th>\n",
       "      <th>mean_fit_time</th>\n",
       "      <th>mean_score_time</th>\n",
       "      <th>mean_test_precision</th>\n",
       "      <th>rank_test_precision</th>\n",
       "      <th>mean_train_precision</th>\n",
       "      <th>mean_test_true_positives</th>\n",
       "      <th>rank_test_true_positives</th>\n",
       "      <th>mean_train_true_positives</th>\n",
       "      <th>n_estimators</th>\n",
       "      <th>max_leaf_nodes</th>\n",
       "      <th>class_weight</th>\n",
       "      <th>bootstrap</th>\n",
       "    </tr>\n",
       "  </thead>\n",
       "  <tbody>\n",
       "    <tr>\n",
       "      <th>0</th>\n",
       "      <td>65.310528</td>\n",
       "      <td>0.496248</td>\n",
       "      <td>0.820194</td>\n",
       "      <td>19</td>\n",
       "      <td>0.820733</td>\n",
       "      <td>0.622693</td>\n",
       "      <td>5</td>\n",
       "      <td>0.622933</td>\n",
       "      <td>60</td>\n",
       "      <td>128</td>\n",
       "      <td>None</td>\n",
       "      <td>True</td>\n",
       "    </tr>\n",
       "    <tr>\n",
       "      <th>1</th>\n",
       "      <td>35.537254</td>\n",
       "      <td>0.314332</td>\n",
       "      <td>0.872204</td>\n",
       "      <td>6</td>\n",
       "      <td>0.873368</td>\n",
       "      <td>0.363648</td>\n",
       "      <td>18</td>\n",
       "      <td>0.363702</td>\n",
       "      <td>50</td>\n",
       "      <td>8</td>\n",
       "      <td>{0: 2.5, 1: 1}</td>\n",
       "      <td>False</td>\n",
       "    </tr>\n",
       "    <tr>\n",
       "      <th>2</th>\n",
       "      <td>13.120171</td>\n",
       "      <td>0.197271</td>\n",
       "      <td>0.851719</td>\n",
       "      <td>12</td>\n",
       "      <td>0.853600</td>\n",
       "      <td>0.482886</td>\n",
       "      <td>13</td>\n",
       "      <td>0.483742</td>\n",
       "      <td>10</td>\n",
       "      <td>32</td>\n",
       "      <td>balanced</td>\n",
       "      <td>False</td>\n",
       "    </tr>\n",
       "    <tr>\n",
       "      <th>3</th>\n",
       "      <td>16.855565</td>\n",
       "      <td>0.210204</td>\n",
       "      <td>0.169982</td>\n",
       "      <td>24</td>\n",
       "      <td>0.177807</td>\n",
       "      <td>0.000577</td>\n",
       "      <td>24</td>\n",
       "      <td>0.000590</td>\n",
       "      <td>20</td>\n",
       "      <td>8</td>\n",
       "      <td>{0: 6.0, 1: 1}</td>\n",
       "      <td>False</td>\n",
       "    </tr>\n",
       "    <tr>\n",
       "      <th>4</th>\n",
       "      <td>27.641873</td>\n",
       "      <td>0.305916</td>\n",
       "      <td>0.806077</td>\n",
       "      <td>22</td>\n",
       "      <td>0.805708</td>\n",
       "      <td>0.637065</td>\n",
       "      <td>2</td>\n",
       "      <td>0.637705</td>\n",
       "      <td>30</td>\n",
       "      <td>16</td>\n",
       "      <td>None</td>\n",
       "      <td>False</td>\n",
       "    </tr>\n",
       "    <tr>\n",
       "      <th>5</th>\n",
       "      <td>36.482733</td>\n",
       "      <td>0.462178</td>\n",
       "      <td>0.855597</td>\n",
       "      <td>11</td>\n",
       "      <td>0.856071</td>\n",
       "      <td>0.470140</td>\n",
       "      <td>15</td>\n",
       "      <td>0.470453</td>\n",
       "      <td>40</td>\n",
       "      <td>16</td>\n",
       "      <td>{0: 2.0, 1: 1}</td>\n",
       "      <td>True</td>\n",
       "    </tr>\n",
       "    <tr>\n",
       "      <th>6</th>\n",
       "      <td>206.384191</td>\n",
       "      <td>0.865930</td>\n",
       "      <td>0.844067</td>\n",
       "      <td>14</td>\n",
       "      <td>0.845974</td>\n",
       "      <td>0.556500</td>\n",
       "      <td>9</td>\n",
       "      <td>0.557927</td>\n",
       "      <td>100</td>\n",
       "      <td>256</td>\n",
       "      <td>{0: 1.5, 1: 1}</td>\n",
       "      <td>False</td>\n",
       "    </tr>\n",
       "    <tr>\n",
       "      <th>7</th>\n",
       "      <td>17.802113</td>\n",
       "      <td>0.330838</td>\n",
       "      <td>0.891464</td>\n",
       "      <td>4</td>\n",
       "      <td>0.899292</td>\n",
       "      <td>0.138713</td>\n",
       "      <td>21</td>\n",
       "      <td>0.137352</td>\n",
       "      <td>40</td>\n",
       "      <td>4</td>\n",
       "      <td>{0: 3.0, 1: 1}</td>\n",
       "      <td>True</td>\n",
       "    </tr>\n",
       "    <tr>\n",
       "      <th>8</th>\n",
       "      <td>66.440716</td>\n",
       "      <td>0.394479</td>\n",
       "      <td>0.855762</td>\n",
       "      <td>10</td>\n",
       "      <td>0.857181</td>\n",
       "      <td>0.480244</td>\n",
       "      <td>14</td>\n",
       "      <td>0.480349</td>\n",
       "      <td>70</td>\n",
       "      <td>16</td>\n",
       "      <td>{0: 2.0, 1: 1}</td>\n",
       "      <td>False</td>\n",
       "    </tr>\n",
       "    <tr>\n",
       "      <th>9</th>\n",
       "      <td>51.781717</td>\n",
       "      <td>0.411473</td>\n",
       "      <td>0.892986</td>\n",
       "      <td>3</td>\n",
       "      <td>0.891587</td>\n",
       "      <td>0.212937</td>\n",
       "      <td>20</td>\n",
       "      <td>0.214199</td>\n",
       "      <td>70</td>\n",
       "      <td>32</td>\n",
       "      <td>{0: 4.0, 1: 1}</td>\n",
       "      <td>True</td>\n",
       "    </tr>\n",
       "    <tr>\n",
       "      <th>10</th>\n",
       "      <td>10.390407</td>\n",
       "      <td>0.217654</td>\n",
       "      <td>0.865719</td>\n",
       "      <td>8</td>\n",
       "      <td>0.869822</td>\n",
       "      <td>0.395634</td>\n",
       "      <td>17</td>\n",
       "      <td>0.397155</td>\n",
       "      <td>10</td>\n",
       "      <td>64</td>\n",
       "      <td>{0: 2.5, 1: 1}</td>\n",
       "      <td>True</td>\n",
       "    </tr>\n",
       "    <tr>\n",
       "      <th>11</th>\n",
       "      <td>13.611466</td>\n",
       "      <td>0.247865</td>\n",
       "      <td>0.807725</td>\n",
       "      <td>21</td>\n",
       "      <td>0.806928</td>\n",
       "      <td>0.632953</td>\n",
       "      <td>3</td>\n",
       "      <td>0.633245</td>\n",
       "      <td>20</td>\n",
       "      <td>16</td>\n",
       "      <td>None</td>\n",
       "      <td>True</td>\n",
       "    </tr>\n",
       "    <tr>\n",
       "      <th>12</th>\n",
       "      <td>39.380115</td>\n",
       "      <td>0.405554</td>\n",
       "      <td>0.844343</td>\n",
       "      <td>13</td>\n",
       "      <td>0.845254</td>\n",
       "      <td>0.484374</td>\n",
       "      <td>12</td>\n",
       "      <td>0.484170</td>\n",
       "      <td>70</td>\n",
       "      <td>4</td>\n",
       "      <td>balanced</td>\n",
       "      <td>False</td>\n",
       "    </tr>\n",
       "    <tr>\n",
       "      <th>13</th>\n",
       "      <td>16.423302</td>\n",
       "      <td>0.291074</td>\n",
       "      <td>0.000000</td>\n",
       "      <td>25</td>\n",
       "      <td>0.000000</td>\n",
       "      <td>0.000000</td>\n",
       "      <td>25</td>\n",
       "      <td>0.000000</td>\n",
       "      <td>40</td>\n",
       "      <td>4</td>\n",
       "      <td>{0: 6.0, 1: 1}</td>\n",
       "      <td>True</td>\n",
       "    </tr>\n",
       "    <tr>\n",
       "      <th>14</th>\n",
       "      <td>96.835527</td>\n",
       "      <td>0.566449</td>\n",
       "      <td>0.816730</td>\n",
       "      <td>20</td>\n",
       "      <td>0.817982</td>\n",
       "      <td>0.624210</td>\n",
       "      <td>4</td>\n",
       "      <td>0.624686</td>\n",
       "      <td>80</td>\n",
       "      <td>64</td>\n",
       "      <td>None</td>\n",
       "      <td>False</td>\n",
       "    </tr>\n",
       "    <tr>\n",
       "      <th>15</th>\n",
       "      <td>107.721773</td>\n",
       "      <td>0.616741</td>\n",
       "      <td>0.879622</td>\n",
       "      <td>5</td>\n",
       "      <td>0.879304</td>\n",
       "      <td>0.331070</td>\n",
       "      <td>19</td>\n",
       "      <td>0.331361</td>\n",
       "      <td>90</td>\n",
       "      <td>32</td>\n",
       "      <td>{0: 3.0, 1: 1}</td>\n",
       "      <td>False</td>\n",
       "    </tr>\n",
       "    <tr>\n",
       "      <th>16</th>\n",
       "      <td>82.477311</td>\n",
       "      <td>0.746408</td>\n",
       "      <td>0.910984</td>\n",
       "      <td>2</td>\n",
       "      <td>0.920504</td>\n",
       "      <td>0.135767</td>\n",
       "      <td>22</td>\n",
       "      <td>0.137759</td>\n",
       "      <td>70</td>\n",
       "      <td>256</td>\n",
       "      <td>{0: 6.0, 1: 1}</td>\n",
       "      <td>True</td>\n",
       "    </tr>\n",
       "    <tr>\n",
       "      <th>17</th>\n",
       "      <td>104.730129</td>\n",
       "      <td>0.585665</td>\n",
       "      <td>0.833800</td>\n",
       "      <td>17</td>\n",
       "      <td>0.835552</td>\n",
       "      <td>0.577875</td>\n",
       "      <td>8</td>\n",
       "      <td>0.578269</td>\n",
       "      <td>90</td>\n",
       "      <td>16</td>\n",
       "      <td>{0: 1.5, 1: 1}</td>\n",
       "      <td>False</td>\n",
       "    </tr>\n",
       "    <tr>\n",
       "      <th>18</th>\n",
       "      <td>50.974275</td>\n",
       "      <td>0.358000</td>\n",
       "      <td>0.932575</td>\n",
       "      <td>1</td>\n",
       "      <td>0.944861</td>\n",
       "      <td>0.024602</td>\n",
       "      <td>23</td>\n",
       "      <td>0.025296</td>\n",
       "      <td>50</td>\n",
       "      <td>16</td>\n",
       "      <td>{0: 5.5, 1: 1}</td>\n",
       "      <td>False</td>\n",
       "    </tr>\n",
       "    <tr>\n",
       "      <th>19</th>\n",
       "      <td>20.902288</td>\n",
       "      <td>0.249256</td>\n",
       "      <td>0.842912</td>\n",
       "      <td>15</td>\n",
       "      <td>0.843150</td>\n",
       "      <td>0.554994</td>\n",
       "      <td>10</td>\n",
       "      <td>0.556220</td>\n",
       "      <td>10</td>\n",
       "      <td>128</td>\n",
       "      <td>{0: 1.5, 1: 1}</td>\n",
       "      <td>False</td>\n",
       "    </tr>\n",
       "    <tr>\n",
       "      <th>20</th>\n",
       "      <td>28.559199</td>\n",
       "      <td>0.399587</td>\n",
       "      <td>0.828989</td>\n",
       "      <td>18</td>\n",
       "      <td>0.830215</td>\n",
       "      <td>0.581918</td>\n",
       "      <td>6</td>\n",
       "      <td>0.582572</td>\n",
       "      <td>50</td>\n",
       "      <td>8</td>\n",
       "      <td>{0: 1.5, 1: 1}</td>\n",
       "      <td>True</td>\n",
       "    </tr>\n",
       "    <tr>\n",
       "      <th>21</th>\n",
       "      <td>22.346169</td>\n",
       "      <td>0.312019</td>\n",
       "      <td>0.834347</td>\n",
       "      <td>16</td>\n",
       "      <td>0.835112</td>\n",
       "      <td>0.578320</td>\n",
       "      <td>7</td>\n",
       "      <td>0.578326</td>\n",
       "      <td>30</td>\n",
       "      <td>16</td>\n",
       "      <td>{0: 1.5, 1: 1}</td>\n",
       "      <td>True</td>\n",
       "    </tr>\n",
       "    <tr>\n",
       "      <th>22</th>\n",
       "      <td>43.191130</td>\n",
       "      <td>0.326851</td>\n",
       "      <td>0.858085</td>\n",
       "      <td>9</td>\n",
       "      <td>0.861479</td>\n",
       "      <td>0.494272</td>\n",
       "      <td>11</td>\n",
       "      <td>0.496615</td>\n",
       "      <td>20</td>\n",
       "      <td>256</td>\n",
       "      <td>balanced</td>\n",
       "      <td>False</td>\n",
       "    </tr>\n",
       "    <tr>\n",
       "      <th>23</th>\n",
       "      <td>185.319376</td>\n",
       "      <td>0.844174</td>\n",
       "      <td>0.870297</td>\n",
       "      <td>7</td>\n",
       "      <td>0.874118</td>\n",
       "      <td>0.407587</td>\n",
       "      <td>16</td>\n",
       "      <td>0.409128</td>\n",
       "      <td>100</td>\n",
       "      <td>256</td>\n",
       "      <td>{0: 2.5, 1: 1}</td>\n",
       "      <td>False</td>\n",
       "    </tr>\n",
       "    <tr>\n",
       "      <th>24</th>\n",
       "      <td>58.549049</td>\n",
       "      <td>0.487371</td>\n",
       "      <td>0.793412</td>\n",
       "      <td>23</td>\n",
       "      <td>0.793174</td>\n",
       "      <td>0.656586</td>\n",
       "      <td>1</td>\n",
       "      <td>0.656241</td>\n",
       "      <td>90</td>\n",
       "      <td>8</td>\n",
       "      <td>None</td>\n",
       "      <td>False</td>\n",
       "    </tr>\n",
       "  </tbody>\n",
       "</table>\n",
       "</div>"
      ],
      "text/plain": [
       "    mean_fit_time  mean_score_time  mean_test_precision  rank_test_precision  \\\n",
       "0       65.310528         0.496248             0.820194                   19   \n",
       "1       35.537254         0.314332             0.872204                    6   \n",
       "2       13.120171         0.197271             0.851719                   12   \n",
       "3       16.855565         0.210204             0.169982                   24   \n",
       "4       27.641873         0.305916             0.806077                   22   \n",
       "5       36.482733         0.462178             0.855597                   11   \n",
       "6      206.384191         0.865930             0.844067                   14   \n",
       "7       17.802113         0.330838             0.891464                    4   \n",
       "8       66.440716         0.394479             0.855762                   10   \n",
       "9       51.781717         0.411473             0.892986                    3   \n",
       "10      10.390407         0.217654             0.865719                    8   \n",
       "11      13.611466         0.247865             0.807725                   21   \n",
       "12      39.380115         0.405554             0.844343                   13   \n",
       "13      16.423302         0.291074             0.000000                   25   \n",
       "14      96.835527         0.566449             0.816730                   20   \n",
       "15     107.721773         0.616741             0.879622                    5   \n",
       "16      82.477311         0.746408             0.910984                    2   \n",
       "17     104.730129         0.585665             0.833800                   17   \n",
       "18      50.974275         0.358000             0.932575                    1   \n",
       "19      20.902288         0.249256             0.842912                   15   \n",
       "20      28.559199         0.399587             0.828989                   18   \n",
       "21      22.346169         0.312019             0.834347                   16   \n",
       "22      43.191130         0.326851             0.858085                    9   \n",
       "23     185.319376         0.844174             0.870297                    7   \n",
       "24      58.549049         0.487371             0.793412                   23   \n",
       "\n",
       "    mean_train_precision  mean_test_true_positives  rank_test_true_positives  \\\n",
       "0               0.820733                  0.622693                         5   \n",
       "1               0.873368                  0.363648                        18   \n",
       "2               0.853600                  0.482886                        13   \n",
       "3               0.177807                  0.000577                        24   \n",
       "4               0.805708                  0.637065                         2   \n",
       "5               0.856071                  0.470140                        15   \n",
       "6               0.845974                  0.556500                         9   \n",
       "7               0.899292                  0.138713                        21   \n",
       "8               0.857181                  0.480244                        14   \n",
       "9               0.891587                  0.212937                        20   \n",
       "10              0.869822                  0.395634                        17   \n",
       "11              0.806928                  0.632953                         3   \n",
       "12              0.845254                  0.484374                        12   \n",
       "13              0.000000                  0.000000                        25   \n",
       "14              0.817982                  0.624210                         4   \n",
       "15              0.879304                  0.331070                        19   \n",
       "16              0.920504                  0.135767                        22   \n",
       "17              0.835552                  0.577875                         8   \n",
       "18              0.944861                  0.024602                        23   \n",
       "19              0.843150                  0.554994                        10   \n",
       "20              0.830215                  0.581918                         6   \n",
       "21              0.835112                  0.578320                         7   \n",
       "22              0.861479                  0.494272                        11   \n",
       "23              0.874118                  0.407587                        16   \n",
       "24              0.793174                  0.656586                         1   \n",
       "\n",
       "    mean_train_true_positives  n_estimators  max_leaf_nodes    class_weight  \\\n",
       "0                    0.622933            60             128            None   \n",
       "1                    0.363702            50               8  {0: 2.5, 1: 1}   \n",
       "2                    0.483742            10              32        balanced   \n",
       "3                    0.000590            20               8  {0: 6.0, 1: 1}   \n",
       "4                    0.637705            30              16            None   \n",
       "5                    0.470453            40              16  {0: 2.0, 1: 1}   \n",
       "6                    0.557927           100             256  {0: 1.5, 1: 1}   \n",
       "7                    0.137352            40               4  {0: 3.0, 1: 1}   \n",
       "8                    0.480349            70              16  {0: 2.0, 1: 1}   \n",
       "9                    0.214199            70              32  {0: 4.0, 1: 1}   \n",
       "10                   0.397155            10              64  {0: 2.5, 1: 1}   \n",
       "11                   0.633245            20              16            None   \n",
       "12                   0.484170            70               4        balanced   \n",
       "13                   0.000000            40               4  {0: 6.0, 1: 1}   \n",
       "14                   0.624686            80              64            None   \n",
       "15                   0.331361            90              32  {0: 3.0, 1: 1}   \n",
       "16                   0.137759            70             256  {0: 6.0, 1: 1}   \n",
       "17                   0.578269            90              16  {0: 1.5, 1: 1}   \n",
       "18                   0.025296            50              16  {0: 5.5, 1: 1}   \n",
       "19                   0.556220            10             128  {0: 1.5, 1: 1}   \n",
       "20                   0.582572            50               8  {0: 1.5, 1: 1}   \n",
       "21                   0.578326            30              16  {0: 1.5, 1: 1}   \n",
       "22                   0.496615            20             256        balanced   \n",
       "23                   0.409128           100             256  {0: 2.5, 1: 1}   \n",
       "24                   0.656241            90               8            None   \n",
       "\n",
       "    bootstrap  \n",
       "0        True  \n",
       "1       False  \n",
       "2       False  \n",
       "3       False  \n",
       "4       False  \n",
       "5        True  \n",
       "6       False  \n",
       "7        True  \n",
       "8       False  \n",
       "9        True  \n",
       "10       True  \n",
       "11       True  \n",
       "12      False  \n",
       "13       True  \n",
       "14      False  \n",
       "15      False  \n",
       "16       True  \n",
       "17      False  \n",
       "18      False  \n",
       "19      False  \n",
       "20       True  \n",
       "21       True  \n",
       "22      False  \n",
       "23      False  \n",
       "24      False  "
      ]
     },
     "execution_count": null,
     "metadata": {},
     "output_type": "execute_result"
    }
   ],
   "source": [
    "random_search_results"
   ]
  },
  {
   "cell_type": "code",
   "execution_count": null,
   "metadata": {},
   "outputs": [
    {
     "data": {
      "text/html": [
       "<div>\n",
       "<style scoped>\n",
       "    .dataframe tbody tr th:only-of-type {\n",
       "        vertical-align: middle;\n",
       "    }\n",
       "\n",
       "    .dataframe tbody tr th {\n",
       "        vertical-align: top;\n",
       "    }\n",
       "\n",
       "    .dataframe thead th {\n",
       "        text-align: right;\n",
       "    }\n",
       "</style>\n",
       "<table border=\"1\" class=\"dataframe\">\n",
       "  <thead>\n",
       "    <tr style=\"text-align: right;\">\n",
       "      <th></th>\n",
       "      <th>mean_fit_time</th>\n",
       "      <th>mean_score_time</th>\n",
       "      <th>mean_test_precision</th>\n",
       "      <th>rank_test_precision</th>\n",
       "      <th>mean_train_precision</th>\n",
       "      <th>mean_test_true_positives</th>\n",
       "      <th>rank_test_true_positives</th>\n",
       "      <th>mean_train_true_positives</th>\n",
       "      <th>n_estimators</th>\n",
       "      <th>max_leaf_nodes</th>\n",
       "      <th>class_weight</th>\n",
       "      <th>bootstrap</th>\n",
       "    </tr>\n",
       "  </thead>\n",
       "  <tbody>\n",
       "    <tr>\n",
       "      <th>1</th>\n",
       "      <td>35.537254</td>\n",
       "      <td>0.314332</td>\n",
       "      <td>0.872204</td>\n",
       "      <td>6</td>\n",
       "      <td>0.873368</td>\n",
       "      <td>0.363648</td>\n",
       "      <td>18</td>\n",
       "      <td>0.363702</td>\n",
       "      <td>50</td>\n",
       "      <td>8</td>\n",
       "      <td>{0: 2.5, 1: 1}</td>\n",
       "      <td>False</td>\n",
       "    </tr>\n",
       "    <tr>\n",
       "      <th>23</th>\n",
       "      <td>185.319376</td>\n",
       "      <td>0.844174</td>\n",
       "      <td>0.870297</td>\n",
       "      <td>7</td>\n",
       "      <td>0.874118</td>\n",
       "      <td>0.407587</td>\n",
       "      <td>16</td>\n",
       "      <td>0.409128</td>\n",
       "      <td>100</td>\n",
       "      <td>256</td>\n",
       "      <td>{0: 2.5, 1: 1}</td>\n",
       "      <td>False</td>\n",
       "    </tr>\n",
       "    <tr>\n",
       "      <th>10</th>\n",
       "      <td>10.390407</td>\n",
       "      <td>0.217654</td>\n",
       "      <td>0.865719</td>\n",
       "      <td>8</td>\n",
       "      <td>0.869822</td>\n",
       "      <td>0.395634</td>\n",
       "      <td>17</td>\n",
       "      <td>0.397155</td>\n",
       "      <td>10</td>\n",
       "      <td>64</td>\n",
       "      <td>{0: 2.5, 1: 1}</td>\n",
       "      <td>True</td>\n",
       "    </tr>\n",
       "    <tr>\n",
       "      <th>22</th>\n",
       "      <td>43.191130</td>\n",
       "      <td>0.326851</td>\n",
       "      <td>0.858085</td>\n",
       "      <td>9</td>\n",
       "      <td>0.861479</td>\n",
       "      <td>0.494272</td>\n",
       "      <td>11</td>\n",
       "      <td>0.496615</td>\n",
       "      <td>20</td>\n",
       "      <td>256</td>\n",
       "      <td>balanced</td>\n",
       "      <td>False</td>\n",
       "    </tr>\n",
       "    <tr>\n",
       "      <th>8</th>\n",
       "      <td>66.440716</td>\n",
       "      <td>0.394479</td>\n",
       "      <td>0.855762</td>\n",
       "      <td>10</td>\n",
       "      <td>0.857181</td>\n",
       "      <td>0.480244</td>\n",
       "      <td>14</td>\n",
       "      <td>0.480349</td>\n",
       "      <td>70</td>\n",
       "      <td>16</td>\n",
       "      <td>{0: 2.0, 1: 1}</td>\n",
       "      <td>False</td>\n",
       "    </tr>\n",
       "  </tbody>\n",
       "</table>\n",
       "</div>"
      ],
      "text/plain": [
       "    mean_fit_time  mean_score_time  mean_test_precision  rank_test_precision  \\\n",
       "1       35.537254         0.314332             0.872204                    6   \n",
       "23     185.319376         0.844174             0.870297                    7   \n",
       "10      10.390407         0.217654             0.865719                    8   \n",
       "22      43.191130         0.326851             0.858085                    9   \n",
       "8       66.440716         0.394479             0.855762                   10   \n",
       "\n",
       "    mean_train_precision  mean_test_true_positives  rank_test_true_positives  \\\n",
       "1               0.873368                  0.363648                        18   \n",
       "23              0.874118                  0.407587                        16   \n",
       "10              0.869822                  0.395634                        17   \n",
       "22              0.861479                  0.494272                        11   \n",
       "8               0.857181                  0.480244                        14   \n",
       "\n",
       "    mean_train_true_positives  n_estimators  max_leaf_nodes    class_weight  \\\n",
       "1                    0.363702            50               8  {0: 2.5, 1: 1}   \n",
       "23                   0.409128           100             256  {0: 2.5, 1: 1}   \n",
       "10                   0.397155            10              64  {0: 2.5, 1: 1}   \n",
       "22                   0.496615            20             256        balanced   \n",
       "8                    0.480349            70              16  {0: 2.0, 1: 1}   \n",
       "\n",
       "    bootstrap  \n",
       "1       False  \n",
       "23      False  \n",
       "10       True  \n",
       "22      False  \n",
       "8       False  "
      ]
     },
     "execution_count": null,
     "metadata": {},
     "output_type": "execute_result"
    }
   ],
   "source": [
    "random_search_results.query('mean_test_precision > 0.8 and mean_test_true_positives > 0.35').sort_values('mean_test_precision', ascending=False).head()"
   ]
  },
  {
   "cell_type": "markdown",
   "metadata": {},
   "source": [
    "#### Best RF"
   ]
  },
  {
   "cell_type": "code",
   "execution_count": null,
   "metadata": {},
   "outputs": [
    {
     "name": "stdout",
     "output_type": "stream",
     "text": [
      "loaded file\n"
     ]
    }
   ],
   "source": [
    "fname = 'best_rf.joblib'\n",
    "if not (models_path/fname).exists():\n",
    "    m1 = RandomForestClassifier(n_estimators=100, max_leaf_nodes=256, class_weight={0: 2.5, 1: 1}, bootstrap=False, n_jobs=-3)\n",
    "    m1.fit(xs, y)\n",
    "    dump(m1, models_path/fname)\n",
    "else:\n",
    "    print('loaded file')\n",
    "    m1 = load(models_path/fname)"
   ]
  },
  {
   "cell_type": "code",
   "execution_count": null,
   "metadata": {},
   "outputs": [
    {
     "data": {
      "text/plain": [
       "array([5.59872537e-04, 1.07236295e-03, 1.38805316e-03, 1.49306238e-03,\n",
       "       2.04077990e-03, 1.36836855e-03, 5.14914214e-02, 2.43496201e-02,\n",
       "       2.70394834e-02, 4.53524165e-01, 3.05002777e-01, 4.00438165e-02,\n",
       "       9.83204069e-03, 1.12757698e-02, 7.43281989e-06, 2.92724213e-02,\n",
       "       8.41056465e-03, 1.05506763e-02, 3.66315390e-06, 1.25961168e-02,\n",
       "       4.93174322e-03, 3.74258156e-03, 3.20662001e-06])"
      ]
     },
     "execution_count": null,
     "metadata": {},
     "output_type": "execute_result"
    }
   ],
   "source": [
    "m1.feature_importances_"
   ]
  },
  {
   "cell_type": "code",
   "execution_count": null,
   "metadata": {},
   "outputs": [
    {
     "data": {
      "image/png": "[encoded data removed]",
      "text/plain": [
       "<Figure size 1000x600 with 1 Axes>"
      ]
     },
     "metadata": {},
     "output_type": "display_data"
    }
   ],
   "source": [
    "plt.style.use('seaborn-v0_8-poster')\n",
    "plt.figure(figsize=(10, 6))\n",
    "feat_importances = pd.Series(m1.feature_importances_, index=train_xs.columns)\n",
    "feat_importances = feat_importances.nlargest(10)\n",
    "feat_importances.plot(kind='barh')\n",
    "ax = plt.gca()\n",
    "ax.set_xlabel('Relative Importance')\n",
    "ax.set_ylabel('Feature');"
   ]
  },
  {
   "cell_type": "markdown",
   "metadata": {},
   "source": [
    "### BDT"
   ]
  },
  {
   "cell_type": "code",
   "execution_count": null,
   "metadata": {},
   "outputs": [
    {
     "data": {
      "text/html": [
       "<style>#sk-container-id-6 {color: black;background-color: white;}#sk-container-id-6 pre{padding: 0;}#sk-container-id-6 div.sk-toggleable {background-color: white;}#sk-container-id-6 label.sk-toggleable__label {cursor: pointer;display: block;width: 100%;margin-bottom: 0;padding: 0.3em;box-sizing: border-box;text-align: center;}#sk-container-id-6 label.sk-toggleable__label-arrow:before {content: \"▸\";float: left;margin-right: 0.25em;color: #696969;}#sk-container-id-6 label.sk-toggleable__label-arrow:hover:before {color: black;}#sk-container-id-6 div.sk-estimator:hover label.sk-toggleable__label-arrow:before {color: black;}#sk-container-id-6 div.sk-toggleable__content {max-height: 0;max-width: 0;overflow: hidden;text-align: left;background-color: #f0f8ff;}#sk-container-id-6 div.sk-toggleable__content pre {margin: 0.2em;color: black;border-radius: 0.25em;background-color: #f0f8ff;}#sk-container-id-6 input.sk-toggleable__control:checked~div.sk-toggleable__content {max-height: 200px;max-width: 100%;overflow: auto;}#sk-container-id-6 input.sk-toggleable__control:checked~label.sk-toggleable__label-arrow:before {content: \"▾\";}#sk-container-id-6 div.sk-estimator input.sk-toggleable__control:checked~label.sk-toggleable__label {background-color: #d4ebff;}#sk-container-id-6 div.sk-label input.sk-toggleable__control:checked~label.sk-toggleable__label {background-color: #d4ebff;}#sk-container-id-6 input.sk-hidden--visually {border: 0;clip: rect(1px 1px 1px 1px);clip: rect(1px, 1px, 1px, 1px);height: 1px;margin: -1px;overflow: hidden;padding: 0;position: absolute;width: 1px;}#sk-container-id-6 div.sk-estimator {font-family: monospace;background-color: #f0f8ff;border: 1px dotted black;border-radius: 0.25em;box-sizing: border-box;margin-bottom: 0.5em;}#sk-container-id-6 div.sk-estimator:hover {background-color: #d4ebff;}#sk-container-id-6 div.sk-parallel-item::after {content: \"\";width: 100%;border-bottom: 1px solid gray;flex-grow: 1;}#sk-container-id-6 div.sk-label:hover label.sk-toggleable__label {background-color: #d4ebff;}#sk-container-id-6 div.sk-serial::before {content: \"\";position: absolute;border-left: 1px solid gray;box-sizing: border-box;top: 0;bottom: 0;left: 50%;z-index: 0;}#sk-container-id-6 div.sk-serial {display: flex;flex-direction: column;align-items: center;background-color: white;padding-right: 0.2em;padding-left: 0.2em;position: relative;}#sk-container-id-6 div.sk-item {position: relative;z-index: 1;}#sk-container-id-6 div.sk-parallel {display: flex;align-items: stretch;justify-content: center;background-color: white;position: relative;}#sk-container-id-6 div.sk-item::before, #sk-container-id-6 div.sk-parallel-item::before {content: \"\";position: absolute;border-left: 1px solid gray;box-sizing: border-box;top: 0;bottom: 0;left: 50%;z-index: -1;}#sk-container-id-6 div.sk-parallel-item {display: flex;flex-direction: column;z-index: 1;position: relative;background-color: white;}#sk-container-id-6 div.sk-parallel-item:first-child::after {align-self: flex-end;width: 50%;}#sk-container-id-6 div.sk-parallel-item:last-child::after {align-self: flex-start;width: 50%;}#sk-container-id-6 div.sk-parallel-item:only-child::after {width: 0;}#sk-container-id-6 div.sk-dashed-wrapped {border: 1px dashed gray;margin: 0 0.4em 0.5em 0.4em;box-sizing: border-box;padding-bottom: 0.4em;background-color: white;}#sk-container-id-6 div.sk-label label {font-family: monospace;font-weight: bold;display: inline-block;line-height: 1.2em;}#sk-container-id-6 div.sk-label-container {text-align: center;}#sk-container-id-6 div.sk-container {/* jupyter's `normalize.less` sets `[hidden] { display: none; }` but bootstrap.min.css set `[hidden] { display: none !important; }` so we also need the `!important` here to be able to override the default hidden behavior on the sphinx rendered scikit-learn.org. See: https://github.com/scikit-learn/scikit-learn/issues/21755 */display: inline-block !important;position: relative;}#sk-container-id-6 div.sk-text-repr-fallback {display: none;}</style><div id=\"sk-container-id-6\" class=\"sk-top-container\"><div class=\"sk-text-repr-fallback\"><pre>HistGradientBoostingClassifier()</pre><b>In a Jupyter environment, please rerun this cell to show the HTML representation or trust the notebook. <br />On GitHub, the HTML representation is unable to render, please try loading this page with nbviewer.org.</b></div><div class=\"sk-container\" hidden><div class=\"sk-item\"><div class=\"sk-estimator sk-toggleable\"><input class=\"sk-toggleable__control sk-hidden--visually\" id=\"sk-estimator-id-8\" type=\"checkbox\" checked><label for=\"sk-estimator-id-8\" class=\"sk-toggleable__label sk-toggleable__label-arrow\">HistGradientBoostingClassifier</label><div class=\"sk-toggleable__content\"><pre>HistGradientBoostingClassifier()</pre></div></div></div></div></div>"
      ],
      "text/plain": [
       "HistGradientBoostingClassifier()"
      ]
     },
     "execution_count": null,
     "metadata": {},
     "output_type": "execute_result"
    }
   ],
   "source": [
    "bdt1 = HistGradientBoostingClassifier()\n",
    "bdt1.fit(train_xs, train_y)"
   ]
  },
  {
   "cell_type": "code",
   "execution_count": null,
   "metadata": {},
   "outputs": [
    {
     "name": "stdout",
     "output_type": "stream",
     "text": [
      "[[ 377.20571191  215.20999243]\n",
      " [ 198.05205543 1231.69744004]]\n",
      "#signals / #backgrounds: 5.72\n"
     ]
    }
   ],
   "source": [
    "cm = metrics.confusion_matrix(valid_y, bdt1.predict(valid_xs), sample_weight=weights[valid_indices]/valid_frac)\n",
    "print(cm)\n",
    "print(f'#signals / #backgrounds: {cm[1, 1] / cm[0, 1]:.2f}')"
   ]
  },
  {
   "cell_type": "markdown",
   "metadata": {},
   "source": [
    "#### Hyperparameter tuning"
   ]
  },
  {
   "cell_type": "code",
   "execution_count": null,
   "metadata": {},
   "outputs": [],
   "source": [
    "#merge train xs and valid xs\n",
    "xs = pd.concat([train_xs, valid_xs])\n",
    "y = pd.concat([train_y, valid_y])\n",
    "sample_weights = pd.concat([weights[train_indices], weights[valid_indices]])"
   ]
  },
  {
   "cell_type": "code",
   "execution_count": null,
   "metadata": {},
   "outputs": [],
   "source": [
    "score_params = {'sample_weight': sample_weights}\n",
    "scoring = {'precision': metrics.make_scorer(weighted_precision_score, **score_params),\n",
    "           'true_positives': metrics.make_scorer(weighted_true_positives, **score_params)}"
   ]
  },
  {
   "cell_type": "code",
   "execution_count": null,
   "metadata": {},
   "outputs": [],
   "source": [
    "bdt = HistGradientBoostingClassifier()\n",
    "\n",
    "param_dist = {'learning_rate': [0.001, 0.01, 0.1],\n",
    "              'max_depth': [3, 5, 7, 9],\n",
    "              'min_samples_leaf': [1, 5, 10, 20],\n",
    "              'l2_regularization': [0.0, 0.1, 0.01, 0.001],\n",
    "              'max_bins': [63, 127, 255],\n",
    "              'max_iter': [50, 100, 200, 500, 1000],\n",
    "              'class_weight': [None, 'balanced'] + [{0: x, 1:1} for x in np.linspace(1.5, 6, 10)]}\n",
    "\n",
    "random_search = RandomizedSearchCV(bdt, param_distributions=param_dist, cv=5, scoring=scoring,\n",
    "                                   return_train_score=True, verbose=4, n_iter=25,\n",
    "                                   n_jobs=5, refit=False)"
   ]
  },
  {
   "cell_type": "code",
   "execution_count": null,
   "metadata": {},
   "outputs": [
    {
     "name": "stdout",
     "output_type": "stream",
     "text": [
      "Fitting 5 folds for each of 25 candidates, totalling 125 fits\n",
      "[CV 4/5] END class_weight={0: 4.5, 1: 1}, l2_regularization=0.01, learning_rate=0.1, max_bins=255, max_depth=7, max_iter=200, min_samples_leaf=5; precision: (train=0.904, test=0.892) true_positives: (train=0.285, test=0.279) total time= 1.0min\n",
      "[CV 3/5] END class_weight={0: 4.5, 1: 1}, l2_regularization=0.01, learning_rate=0.1, max_bins=255, max_depth=7, max_iter=200, min_samples_leaf=5; precision: (train=0.900, test=0.897) true_positives: (train=0.287, test=0.284) total time= 1.0min\n",
      "[CV 2/5] END class_weight={0: 4.5, 1: 1}, l2_regularization=0.01, learning_rate=0.1, max_bins=255, max_depth=7, max_iter=200, min_samples_leaf=5; precision: (train=0.899, test=0.903) true_positives: (train=0.286, test=0.290) total time= 1.1min\n",
      "[CV 1/5] END class_weight={0: 4.5, 1: 1}, l2_regularization=0.01, learning_rate=0.1, max_bins=255, max_depth=7, max_iter=200, min_samples_leaf=5; precision: (train=0.903, test=0.885) true_positives: (train=0.288, test=0.276) total time= 1.1min\n",
      "[CV 5/5] END class_weight={0: 4.5, 1: 1}, l2_regularization=0.01, learning_rate=0.1, max_bins=255, max_depth=7, max_iter=200, min_samples_leaf=5; precision: (train=0.902, test=0.895) true_positives: (train=0.285, test=0.289) total time= 1.1min\n",
      "[CV 2/5] END class_weight={0: 6.0, 1: 1}, l2_regularization=0.1, learning_rate=0.01, max_bins=63, max_depth=9, max_iter=200, min_samples_leaf=20; precision: (train=0.894, test=0.891) true_positives: (train=0.138, test=0.140) total time= 1.7min\n",
      "[CV 1/5] END class_weight={0: 6.0, 1: 1}, l2_regularization=0.1, learning_rate=0.01, max_bins=63, max_depth=9, max_iter=200, min_samples_leaf=20; precision: (train=0.902, test=0.883) true_positives: (train=0.142, test=0.134) total time= 1.7min\n",
      "[CV 3/5] END class_weight={0: 6.0, 1: 1}, l2_regularization=0.1, learning_rate=0.01, max_bins=63, max_depth=9, max_iter=200, min_samples_leaf=20; precision: (train=0.894, test=0.891) true_positives: (train=0.138, test=0.139) total time= 1.7min\n",
      "[CV 5/5] END class_weight={0: 6.0, 1: 1}, l2_regularization=0.1, learning_rate=0.01, max_bins=63, max_depth=9, max_iter=200, min_samples_leaf=20; precision: (train=0.895, test=0.900) true_positives: (train=0.138, test=0.144) total time= 1.7min\n",
      "[CV 4/5] END class_weight={0: 6.0, 1: 1}, l2_regularization=0.1, learning_rate=0.01, max_bins=63, max_depth=9, max_iter=200, min_samples_leaf=20; precision: (train=0.899, test=0.896) true_positives: (train=0.135, test=0.131) total time= 1.7min\n"
     ]
    },
    {
     "name": "stderr",
     "output_type": "stream",
     "text": [
      "/home/tiago/mambaforge/envs/fastai/lib/python3.10/site-packages/sklearn/metrics/_classification.py:1344: UndefinedMetricWarning: Precision is ill-defined and being set to 0.0 due to no predicted samples. Use `zero_division` parameter to control this behavior.\n",
      "  _warn_prf(average, modifier, msg_start, len(result))\n",
      "/home/tiago/mambaforge/envs/fastai/lib/python3.10/site-packages/sklearn/metrics/_classification.py:1344: UndefinedMetricWarning: Precision is ill-defined and being set to 0.0 due to no predicted samples. Use `zero_division` parameter to control this behavior.\n",
      "  _warn_prf(average, modifier, msg_start, len(result))\n",
      "/home/tiago/mambaforge/envs/fastai/lib/python3.10/site-packages/sklearn/metrics/_classification.py:1344: UndefinedMetricWarning: Precision is ill-defined and being set to 0.0 due to no predicted samples. Use `zero_division` parameter to control this behavior.\n",
      "  _warn_prf(average, modifier, msg_start, len(result))\n",
      "/home/tiago/mambaforge/envs/fastai/lib/python3.10/site-packages/sklearn/metrics/_classification.py:1344: UndefinedMetricWarning: Precision is ill-defined and being set to 0.0 due to no predicted samples. Use `zero_division` parameter to control this behavior.\n",
      "  _warn_prf(average, modifier, msg_start, len(result))\n"
     ]
    },
    {
     "name": "stdout",
     "output_type": "stream",
     "text": [
      "[CV 1/5] END class_weight={0: 5.0, 1: 1}, l2_regularization=0.0, learning_rate=0.001, max_bins=127, max_depth=5, max_iter=50, min_samples_leaf=10; precision: (train=0.000, test=0.000) true_positives: (train=0.000, test=0.000) total time=  27.2s\n"
     ]
    },
    {
     "name": "stderr",
     "output_type": "stream",
     "text": [
      "/home/tiago/mambaforge/envs/fastai/lib/python3.10/site-packages/sklearn/metrics/_classification.py:1344: UndefinedMetricWarning: Precision is ill-defined and being set to 0.0 due to no predicted samples. Use `zero_division` parameter to control this behavior.\n",
      "  _warn_prf(average, modifier, msg_start, len(result))\n",
      "/home/tiago/mambaforge/envs/fastai/lib/python3.10/site-packages/sklearn/metrics/_classification.py:1344: UndefinedMetricWarning: Precision is ill-defined and being set to 0.0 due to no predicted samples. Use `zero_division` parameter to control this behavior.\n",
      "  _warn_prf(average, modifier, msg_start, len(result))\n"
     ]
    },
    {
     "name": "stdout",
     "output_type": "stream",
     "text": [
      "[CV 2/5] END class_weight={0: 5.0, 1: 1}, l2_regularization=0.0, learning_rate=0.001, max_bins=127, max_depth=5, max_iter=50, min_samples_leaf=10; precision: (train=0.000, test=0.000) true_positives: (train=0.000, test=0.000) total time=  27.4s\n"
     ]
    },
    {
     "name": "stderr",
     "output_type": "stream",
     "text": [
      "/home/tiago/mambaforge/envs/fastai/lib/python3.10/site-packages/sklearn/metrics/_classification.py:1344: UndefinedMetricWarning: Precision is ill-defined and being set to 0.0 due to no predicted samples. Use `zero_division` parameter to control this behavior.\n",
      "  _warn_prf(average, modifier, msg_start, len(result))\n",
      "/home/tiago/mambaforge/envs/fastai/lib/python3.10/site-packages/sklearn/metrics/_classification.py:1344: UndefinedMetricWarning: Precision is ill-defined and being set to 0.0 due to no predicted samples. Use `zero_division` parameter to control this behavior.\n",
      "  _warn_prf(average, modifier, msg_start, len(result))\n"
     ]
    },
    {
     "name": "stdout",
     "output_type": "stream",
     "text": [
      "[CV 3/5] END class_weight={0: 5.0, 1: 1}, l2_regularization=0.0, learning_rate=0.001, max_bins=127, max_depth=5, max_iter=50, min_samples_leaf=10; precision: (train=0.000, test=0.000) true_positives: (train=0.000, test=0.000) total time=  27.5s\n"
     ]
    },
    {
     "name": "stderr",
     "output_type": "stream",
     "text": [
      "/home/tiago/mambaforge/envs/fastai/lib/python3.10/site-packages/sklearn/metrics/_classification.py:1344: UndefinedMetricWarning: Precision is ill-defined and being set to 0.0 due to no predicted samples. Use `zero_division` parameter to control this behavior.\n",
      "  _warn_prf(average, modifier, msg_start, len(result))\n"
     ]
    },
    {
     "name": "stdout",
     "output_type": "stream",
     "text": [
      "[CV 4/5] END class_weight={0: 5.0, 1: 1}, l2_regularization=0.0, learning_rate=0.001, max_bins=127, max_depth=5, max_iter=50, min_samples_leaf=10; precision: (train=0.000, test=0.000) true_positives: (train=0.000, test=0.000) total time=  27.7s\n"
     ]
    },
    {
     "name": "stderr",
     "output_type": "stream",
     "text": [
      "/home/tiago/mambaforge/envs/fastai/lib/python3.10/site-packages/sklearn/metrics/_classification.py:1344: UndefinedMetricWarning: Precision is ill-defined and being set to 0.0 due to no predicted samples. Use `zero_division` parameter to control this behavior.\n",
      "  _warn_prf(average, modifier, msg_start, len(result))\n"
     ]
    },
    {
     "name": "stdout",
     "output_type": "stream",
     "text": [
      "[CV 5/5] END class_weight={0: 5.0, 1: 1}, l2_regularization=0.0, learning_rate=0.001, max_bins=127, max_depth=5, max_iter=50, min_samples_leaf=10; precision: (train=0.000, test=0.000) true_positives: (train=0.000, test=0.000) total time=  27.7s\n",
      "[CV 1/5] END class_weight={0: 4.5, 1: 1}, l2_regularization=0.0, learning_rate=0.01, max_bins=63, max_depth=9, max_iter=50, min_samples_leaf=5; precision: (train=0.928, test=0.962) true_positives: (train=0.014, test=0.013) total time=  23.5s\n",
      "[CV 2/5] END class_weight={0: 4.5, 1: 1}, l2_regularization=0.0, learning_rate=0.01, max_bins=63, max_depth=9, max_iter=50, min_samples_leaf=5; precision: (train=0.935, test=0.930) true_positives: (train=0.020, test=0.022) total time=  23.7s\n",
      "[CV 3/5] END class_weight={0: 4.5, 1: 1}, l2_regularization=0.0, learning_rate=0.01, max_bins=63, max_depth=9, max_iter=50, min_samples_leaf=5; precision: (train=0.935, test=0.941) true_positives: (train=0.015, test=0.015) total time=  23.9s\n",
      "[CV 4/5] END class_weight={0: 4.5, 1: 1}, l2_regularization=0.0, learning_rate=0.01, max_bins=63, max_depth=9, max_iter=50, min_samples_leaf=5; precision: (train=0.931, test=0.938) true_positives: (train=0.016, test=0.015) total time=  26.8s\n",
      "[CV 5/5] END class_weight={0: 4.5, 1: 1}, l2_regularization=0.0, learning_rate=0.01, max_bins=63, max_depth=9, max_iter=50, min_samples_leaf=5; precision: (train=0.940, test=0.939) true_positives: (train=0.018, test=0.019) total time=  27.4s\n",
      "[CV 1/5] END class_weight={0: 4.5, 1: 1}, l2_regularization=0.0, learning_rate=0.01, max_bins=127, max_depth=3, max_iter=200, min_samples_leaf=20; precision: (train=0.857, test=0.849) true_positives: (train=0.194, test=0.182) total time=  46.3s\n",
      "[CV 2/5] END class_weight={0: 4.5, 1: 1}, l2_regularization=0.0, learning_rate=0.01, max_bins=127, max_depth=3, max_iter=200, min_samples_leaf=20; precision: (train=0.853, test=0.861) true_positives: (train=0.190, test=0.195) total time=  47.8s\n",
      "[CV 5/5] END class_weight={0: 4.5, 1: 1}, l2_regularization=0.0, learning_rate=0.01, max_bins=127, max_depth=3, max_iter=200, min_samples_leaf=20; precision: (train=0.849, test=0.841) true_positives: (train=0.174, test=0.179) total time=  45.4s\n",
      "[CV 3/5] END class_weight={0: 4.5, 1: 1}, l2_regularization=0.0, learning_rate=0.01, max_bins=127, max_depth=3, max_iter=200, min_samples_leaf=20; precision: (train=0.851, test=0.846) true_positives: (train=0.183, test=0.185) total time=  54.6s\n",
      "[CV 4/5] END class_weight={0: 4.5, 1: 1}, l2_regularization=0.0, learning_rate=0.01, max_bins=127, max_depth=3, max_iter=200, min_samples_leaf=20; precision: (train=0.850, test=0.860) true_positives: (train=0.187, test=0.186) total time=  52.1s\n",
      "[CV 4/5] END class_weight={0: 5.5, 1: 1}, l2_regularization=0.01, learning_rate=0.01, max_bins=63, max_depth=3, max_iter=1000, min_samples_leaf=5; precision: (train=0.887, test=0.888) true_positives: (train=0.201, test=0.199) total time= 3.4min\n",
      "[CV 1/5] END class_weight={0: 5.5, 1: 1}, l2_regularization=0.01, learning_rate=0.01, max_bins=63, max_depth=3, max_iter=1000, min_samples_leaf=5; precision: (train=0.891, test=0.877) true_positives: (train=0.206, test=0.196) total time= 3.6min\n",
      "[CV 3/5] END class_weight={0: 5.5, 1: 1}, l2_regularization=0.01, learning_rate=0.01, max_bins=63, max_depth=3, max_iter=1000, min_samples_leaf=5; precision: (train=0.888, test=0.894) true_positives: (train=0.201, test=0.201) total time= 3.5min\n",
      "[CV 2/5] END class_weight={0: 5.5, 1: 1}, l2_regularization=0.01, learning_rate=0.01, max_bins=63, max_depth=3, max_iter=1000, min_samples_leaf=5; precision: (train=0.887, test=0.893) true_positives: (train=0.201, test=0.204) total time= 3.4min\n",
      "[CV 5/5] END class_weight={0: 5.5, 1: 1}, l2_regularization=0.01, learning_rate=0.01, max_bins=63, max_depth=3, max_iter=1000, min_samples_leaf=5; precision: (train=0.890, test=0.884) true_positives: (train=0.201, test=0.207) total time= 3.7min\n",
      "[CV 2/5] END class_weight={0: 4.5, 1: 1}, l2_regularization=0.01, learning_rate=0.01, max_bins=63, max_depth=9, max_iter=500, min_samples_leaf=5; precision: (train=0.890, test=0.895) true_positives: (train=0.266, test=0.269) total time= 3.6min\n",
      "[CV 1/5] END class_weight={0: 4.5, 1: 1}, l2_regularization=0.01, learning_rate=0.01, max_bins=63, max_depth=9, max_iter=500, min_samples_leaf=5; precision: (train=0.894, test=0.882) true_positives: (train=0.267, test=0.257) total time= 3.7min\n",
      "[CV 3/5] END class_weight={0: 4.5, 1: 1}, l2_regularization=0.01, learning_rate=0.01, max_bins=63, max_depth=9, max_iter=500, min_samples_leaf=5; precision: (train=0.889, test=0.889) true_positives: (train=0.267, test=0.268) total time= 3.7min\n",
      "[CV 4/5] END class_weight={0: 4.5, 1: 1}, l2_regularization=0.01, learning_rate=0.01, max_bins=63, max_depth=9, max_iter=500, min_samples_leaf=5; precision: (train=0.893, test=0.887) true_positives: (train=0.266, test=0.263) total time= 3.7min\n",
      "[CV 5/5] END class_weight={0: 4.5, 1: 1}, l2_regularization=0.01, learning_rate=0.01, max_bins=63, max_depth=9, max_iter=500, min_samples_leaf=5; precision: (train=0.892, test=0.888) true_positives: (train=0.265, test=0.271) total time= 3.7min\n",
      "[CV 1/5] END class_weight={0: 4.0, 1: 1}, l2_regularization=0.1, learning_rate=0.01, max_bins=255, max_depth=3, max_iter=1000, min_samples_leaf=5; precision: (train=0.884, test=0.877) true_positives: (train=0.297, test=0.285) total time= 4.6min\n",
      "[CV 2/5] END class_weight={0: 4.0, 1: 1}, l2_regularization=0.1, learning_rate=0.01, max_bins=255, max_depth=3, max_iter=1000, min_samples_leaf=5; precision: (train=0.882, test=0.887) true_positives: (train=0.294, test=0.299) total time= 4.7min\n",
      "[CV 3/5] END class_weight={0: 4.0, 1: 1}, l2_regularization=0.1, learning_rate=0.01, max_bins=255, max_depth=3, max_iter=1000, min_samples_leaf=5; precision: (train=0.881, test=0.886) true_positives: (train=0.293, test=0.294) total time= 4.7min\n",
      "[CV 4/5] END class_weight={0: 4.0, 1: 1}, l2_regularization=0.1, learning_rate=0.01, max_bins=255, max_depth=3, max_iter=1000, min_samples_leaf=5; precision: (train=0.883, test=0.880) true_positives: (train=0.295, test=0.292) total time= 4.6min\n",
      "[CV 5/5] END class_weight={0: 4.0, 1: 1}, l2_regularization=0.1, learning_rate=0.01, max_bins=255, max_depth=3, max_iter=1000, min_samples_leaf=5; precision: (train=0.881, test=0.883) true_positives: (train=0.292, test=0.299) total time= 4.6min\n",
      "[CV 1/5] END class_weight=None, l2_regularization=0.1, learning_rate=0.001, max_bins=127, max_depth=7, max_iter=1000, min_samples_leaf=20; precision: (train=0.808, test=0.799) true_positives: (train=0.654, test=0.639) total time= 9.0min\n",
      "[CV 2/5] END class_weight=None, l2_regularization=0.1, learning_rate=0.001, max_bins=127, max_depth=7, max_iter=1000, min_samples_leaf=20; precision: (train=0.806, test=0.806) true_positives: (train=0.647, test=0.658) total time= 8.9min\n",
      "[CV 4/5] END class_weight=None, l2_regularization=0.1, learning_rate=0.001, max_bins=127, max_depth=7, max_iter=1000, min_samples_leaf=20; precision: (train=0.804, test=0.812) true_positives: (train=0.650, test=0.647) total time= 8.9min\n",
      "[CV 3/5] END class_weight=None, l2_regularization=0.1, learning_rate=0.001, max_bins=127, max_depth=7, max_iter=1000, min_samples_leaf=20; precision: (train=0.807, test=0.801) true_positives: (train=0.651, test=0.649) total time= 8.9min\n",
      "[CV 1/5] END class_weight={0: 4.5, 1: 1}, l2_regularization=0.001, learning_rate=0.01, max_bins=255, max_depth=3, max_iter=100, min_samples_leaf=1; precision: (train=0.829, test=0.812) true_positives: (train=0.119, test=0.111) total time=  33.9s\n",
      "[CV 2/5] END class_weight={0: 4.5, 1: 1}, l2_regularization=0.001, learning_rate=0.01, max_bins=255, max_depth=3, max_iter=100, min_samples_leaf=1; precision: (train=0.839, test=0.833) true_positives: (train=0.116, test=0.120) total time=  36.0s\n",
      "[CV 5/5] END class_weight=None, l2_regularization=0.1, learning_rate=0.001, max_bins=127, max_depth=7, max_iter=1000, min_samples_leaf=20; precision: (train=0.805, test=0.812) true_positives: (train=0.647, test=0.657) total time= 8.7min\n",
      "[CV 3/5] END class_weight={0: 4.5, 1: 1}, l2_regularization=0.001, learning_rate=0.01, max_bins=255, max_depth=3, max_iter=100, min_samples_leaf=1; precision: (train=0.824, test=0.827) true_positives: (train=0.093, test=0.093) total time=  36.5s\n",
      "[CV 4/5] END class_weight={0: 4.5, 1: 1}, l2_regularization=0.001, learning_rate=0.01, max_bins=255, max_depth=3, max_iter=100, min_samples_leaf=1; precision: (train=0.831, test=0.842) true_positives: (train=0.115, test=0.115) total time=  35.4s\n",
      "[CV 5/5] END class_weight={0: 4.5, 1: 1}, l2_regularization=0.001, learning_rate=0.01, max_bins=255, max_depth=3, max_iter=100, min_samples_leaf=1; precision: (train=0.828, test=0.836) true_positives: (train=0.112, test=0.116) total time=  37.4s\n"
     ]
    },
    {
     "name": "stderr",
     "output_type": "stream",
     "text": [
      "/home/tiago/mambaforge/envs/fastai/lib/python3.10/site-packages/sklearn/metrics/_classification.py:1344: UndefinedMetricWarning: Precision is ill-defined and being set to 0.0 due to no predicted samples. Use `zero_division` parameter to control this behavior.\n",
      "  _warn_prf(average, modifier, msg_start, len(result))\n",
      "/home/tiago/mambaforge/envs/fastai/lib/python3.10/site-packages/sklearn/metrics/_classification.py:1344: UndefinedMetricWarning: Precision is ill-defined and being set to 0.0 due to no predicted samples. Use `zero_division` parameter to control this behavior.\n",
      "  _warn_prf(average, modifier, msg_start, len(result))\n",
      "/home/tiago/mambaforge/envs/fastai/lib/python3.10/site-packages/sklearn/metrics/_classification.py:1344: UndefinedMetricWarning: Precision is ill-defined and being set to 0.0 due to no predicted samples. Use `zero_division` parameter to control this behavior.\n",
      "  _warn_prf(average, modifier, msg_start, len(result))\n",
      "/home/tiago/mambaforge/envs/fastai/lib/python3.10/site-packages/sklearn/metrics/_classification.py:1344: UndefinedMetricWarning: Precision is ill-defined and being set to 0.0 due to no predicted samples. Use `zero_division` parameter to control this behavior.\n",
      "  _warn_prf(average, modifier, msg_start, len(result))\n",
      "/home/tiago/mambaforge/envs/fastai/lib/python3.10/site-packages/sklearn/metrics/_classification.py:1344: UndefinedMetricWarning: Precision is ill-defined and being set to 0.0 due to no predicted samples. Use `zero_division` parameter to control this behavior.\n",
      "  _warn_prf(average, modifier, msg_start, len(result))\n"
     ]
    },
    {
     "name": "stdout",
     "output_type": "stream",
     "text": [
      "[CV 1/5] END class_weight={0: 5.0, 1: 1}, l2_regularization=0.0, learning_rate=0.001, max_bins=63, max_depth=7, max_iter=200, min_samples_leaf=10; precision: (train=0.000, test=0.000) true_positives: (train=0.000, test=0.000) total time= 2.0min\n"
     ]
    },
    {
     "name": "stderr",
     "output_type": "stream",
     "text": [
      "/home/tiago/mambaforge/envs/fastai/lib/python3.10/site-packages/sklearn/metrics/_classification.py:1344: UndefinedMetricWarning: Precision is ill-defined and being set to 0.0 due to no predicted samples. Use `zero_division` parameter to control this behavior.\n",
      "  _warn_prf(average, modifier, msg_start, len(result))\n"
     ]
    },
    {
     "name": "stdout",
     "output_type": "stream",
     "text": [
      "[CV 2/5] END class_weight={0: 5.0, 1: 1}, l2_regularization=0.0, learning_rate=0.001, max_bins=63, max_depth=7, max_iter=200, min_samples_leaf=10; precision: (train=0.000, test=0.000) true_positives: (train=0.000, test=0.000) total time= 2.0min\n"
     ]
    },
    {
     "name": "stderr",
     "output_type": "stream",
     "text": [
      "/home/tiago/mambaforge/envs/fastai/lib/python3.10/site-packages/sklearn/metrics/_classification.py:1344: UndefinedMetricWarning: Precision is ill-defined and being set to 0.0 due to no predicted samples. Use `zero_division` parameter to control this behavior.\n",
      "  _warn_prf(average, modifier, msg_start, len(result))\n",
      "/home/tiago/mambaforge/envs/fastai/lib/python3.10/site-packages/sklearn/metrics/_classification.py:1344: UndefinedMetricWarning: Precision is ill-defined and being set to 0.0 due to no predicted samples. Use `zero_division` parameter to control this behavior.\n",
      "  _warn_prf(average, modifier, msg_start, len(result))\n"
     ]
    },
    {
     "name": "stdout",
     "output_type": "stream",
     "text": [
      "[CV 3/5] END class_weight={0: 5.0, 1: 1}, l2_regularization=0.0, learning_rate=0.001, max_bins=63, max_depth=7, max_iter=200, min_samples_leaf=10; precision: (train=0.000, test=0.000) true_positives: (train=0.000, test=0.000) total time= 2.0min\n"
     ]
    },
    {
     "name": "stderr",
     "output_type": "stream",
     "text": [
      "/home/tiago/mambaforge/envs/fastai/lib/python3.10/site-packages/sklearn/metrics/_classification.py:1344: UndefinedMetricWarning: Precision is ill-defined and being set to 0.0 due to no predicted samples. Use `zero_division` parameter to control this behavior.\n",
      "  _warn_prf(average, modifier, msg_start, len(result))\n"
     ]
    },
    {
     "name": "stdout",
     "output_type": "stream",
     "text": [
      "[CV 4/5] END class_weight={0: 5.0, 1: 1}, l2_regularization=0.0, learning_rate=0.001, max_bins=63, max_depth=7, max_iter=200, min_samples_leaf=10; precision: (train=0.000, test=0.000) true_positives: (train=0.000, test=0.000) total time= 2.0min\n"
     ]
    },
    {
     "name": "stderr",
     "output_type": "stream",
     "text": [
      "/home/tiago/mambaforge/envs/fastai/lib/python3.10/site-packages/sklearn/metrics/_classification.py:1344: UndefinedMetricWarning: Precision is ill-defined and being set to 0.0 due to no predicted samples. Use `zero_division` parameter to control this behavior.\n",
      "  _warn_prf(average, modifier, msg_start, len(result))\n"
     ]
    },
    {
     "name": "stdout",
     "output_type": "stream",
     "text": [
      "[CV 5/5] END class_weight={0: 5.0, 1: 1}, l2_regularization=0.0, learning_rate=0.001, max_bins=63, max_depth=7, max_iter=200, min_samples_leaf=10; precision: (train=0.000, test=0.000) true_positives: (train=0.000, test=0.000) total time= 1.9min\n",
      "[CV 3/5] END class_weight={0: 3.5, 1: 1}, l2_regularization=0.001, learning_rate=0.001, max_bins=127, max_depth=9, max_iter=500, min_samples_leaf=5; precision: (train=0.881, test=0.894) true_positives: (train=0.066, test=0.067) total time= 3.9min\n",
      "[CV 4/5] END class_weight={0: 3.5, 1: 1}, l2_regularization=0.001, learning_rate=0.001, max_bins=127, max_depth=9, max_iter=500, min_samples_leaf=5; precision: (train=0.895, test=0.897) true_positives: (train=0.076, test=0.076) total time= 3.8min\n",
      "[CV 1/5] END class_weight={0: 3.5, 1: 1}, l2_regularization=0.001, learning_rate=0.001, max_bins=127, max_depth=9, max_iter=500, min_samples_leaf=5; precision: (train=0.901, test=0.891) true_positives: (train=0.077, test=0.072) total time= 3.9min\n",
      "[CV 2/5] END class_weight={0: 3.5, 1: 1}, l2_regularization=0.001, learning_rate=0.001, max_bins=127, max_depth=9, max_iter=500, min_samples_leaf=5; precision: (train=0.899, test=0.879) true_positives: (train=0.072, test=0.074) total time= 4.0min\n",
      "[CV 5/5] END class_weight={0: 3.5, 1: 1}, l2_regularization=0.001, learning_rate=0.001, max_bins=127, max_depth=9, max_iter=500, min_samples_leaf=5; precision: (train=0.888, test=0.904) true_positives: (train=0.074, test=0.075) total time= 3.6min\n",
      "[CV 3/5] END class_weight={0: 2.0, 1: 1}, l2_regularization=0.001, learning_rate=0.1, max_bins=127, max_depth=3, max_iter=500, min_samples_leaf=20; precision: (train=0.866, test=0.865) true_positives: (train=0.484, test=0.483) total time= 1.7min\n",
      "[CV 2/5] END class_weight={0: 2.0, 1: 1}, l2_regularization=0.001, learning_rate=0.1, max_bins=127, max_depth=3, max_iter=500, min_samples_leaf=20; precision: (train=0.865, test=0.869) true_positives: (train=0.482, test=0.489) total time= 1.8min\n",
      "[CV 1/5] END class_weight={0: 2.0, 1: 1}, l2_regularization=0.001, learning_rate=0.1, max_bins=127, max_depth=3, max_iter=500, min_samples_leaf=20; precision: (train=0.868, test=0.851) true_positives: (train=0.487, test=0.470) total time= 1.8min\n",
      "[CV 4/5] END class_weight={0: 2.0, 1: 1}, l2_regularization=0.001, learning_rate=0.1, max_bins=127, max_depth=3, max_iter=500, min_samples_leaf=20; precision: (train=0.866, test=0.863) true_positives: (train=0.484, test=0.482) total time= 2.1min\n",
      "[CV 5/5] END class_weight={0: 2.0, 1: 1}, l2_regularization=0.001, learning_rate=0.1, max_bins=127, max_depth=3, max_iter=500, min_samples_leaf=20; precision: (train=0.864, test=0.873) true_positives: (train=0.481, test=0.491) total time= 1.8min\n",
      "[CV 1/5] END class_weight={0: 2.0, 1: 1}, l2_regularization=0.01, learning_rate=0.01, max_bins=63, max_depth=3, max_iter=100, min_samples_leaf=20; precision: (train=0.850, test=0.844) true_positives: (train=0.456, test=0.442) total time=  33.3s\n",
      "[CV 2/5] END class_weight={0: 2.0, 1: 1}, l2_regularization=0.01, learning_rate=0.01, max_bins=63, max_depth=3, max_iter=100, min_samples_leaf=20; precision: (train=0.848, test=0.852) true_positives: (train=0.451, test=0.459) total time=  33.2s\n",
      "[CV 3/5] END class_weight={0: 2.0, 1: 1}, l2_regularization=0.01, learning_rate=0.01, max_bins=63, max_depth=3, max_iter=100, min_samples_leaf=20; precision: (train=0.850, test=0.845) true_positives: (train=0.453, test=0.454) total time=  33.3s\n",
      "[CV 4/5] END class_weight={0: 2.0, 1: 1}, l2_regularization=0.01, learning_rate=0.01, max_bins=63, max_depth=3, max_iter=100, min_samples_leaf=20; precision: (train=0.848, test=0.847) true_positives: (train=0.444, test=0.441) total time=  29.5s\n",
      "[CV 5/5] END class_weight={0: 2.0, 1: 1}, l2_regularization=0.01, learning_rate=0.01, max_bins=63, max_depth=3, max_iter=100, min_samples_leaf=20; precision: (train=0.848, test=0.851) true_positives: (train=0.447, test=0.452) total time=  29.4s\n"
     ]
    },
    {
     "name": "stderr",
     "output_type": "stream",
     "text": [
      "/home/tiago/mambaforge/envs/fastai/lib/python3.10/site-packages/sklearn/metrics/_classification.py:1344: UndefinedMetricWarning: Precision is ill-defined and being set to 0.0 due to no predicted samples. Use `zero_division` parameter to control this behavior.\n",
      "  _warn_prf(average, modifier, msg_start, len(result))\n",
      "/home/tiago/mambaforge/envs/fastai/lib/python3.10/site-packages/sklearn/metrics/_classification.py:1344: UndefinedMetricWarning: Precision is ill-defined and being set to 0.0 due to no predicted samples. Use `zero_division` parameter to control this behavior.\n",
      "  _warn_prf(average, modifier, msg_start, len(result))\n",
      "/home/tiago/mambaforge/envs/fastai/lib/python3.10/site-packages/sklearn/metrics/_classification.py:1344: UndefinedMetricWarning: Precision is ill-defined and being set to 0.0 due to no predicted samples. Use `zero_division` parameter to control this behavior.\n",
      "  _warn_prf(average, modifier, msg_start, len(result))\n",
      "/home/tiago/mambaforge/envs/fastai/lib/python3.10/site-packages/sklearn/metrics/_classification.py:1344: UndefinedMetricWarning: Precision is ill-defined and being set to 0.0 due to no predicted samples. Use `zero_division` parameter to control this behavior.\n",
      "  _warn_prf(average, modifier, msg_start, len(result))\n"
     ]
    },
    {
     "name": "stdout",
     "output_type": "stream",
     "text": [
      "[CV 1/5] END class_weight={0: 6.0, 1: 1}, l2_regularization=0.001, learning_rate=0.001, max_bins=255, max_depth=5, max_iter=200, min_samples_leaf=1; precision: (train=0.000, test=0.000) true_positives: (train=0.000, test=0.000) total time= 1.4min\n"
     ]
    },
    {
     "name": "stderr",
     "output_type": "stream",
     "text": [
      "/home/tiago/mambaforge/envs/fastai/lib/python3.10/site-packages/sklearn/metrics/_classification.py:1344: UndefinedMetricWarning: Precision is ill-defined and being set to 0.0 due to no predicted samples. Use `zero_division` parameter to control this behavior.\n",
      "  _warn_prf(average, modifier, msg_start, len(result))\n",
      "/home/tiago/mambaforge/envs/fastai/lib/python3.10/site-packages/sklearn/metrics/_classification.py:1344: UndefinedMetricWarning: Precision is ill-defined and being set to 0.0 due to no predicted samples. Use `zero_division` parameter to control this behavior.\n",
      "  _warn_prf(average, modifier, msg_start, len(result))\n"
     ]
    },
    {
     "name": "stdout",
     "output_type": "stream",
     "text": [
      "[CV 2/5] END class_weight={0: 6.0, 1: 1}, l2_regularization=0.001, learning_rate=0.001, max_bins=255, max_depth=5, max_iter=200, min_samples_leaf=1; precision: (train=0.000, test=0.000) true_positives: (train=0.000, test=0.000) total time= 1.4min\n"
     ]
    },
    {
     "name": "stderr",
     "output_type": "stream",
     "text": [
      "/home/tiago/mambaforge/envs/fastai/lib/python3.10/site-packages/sklearn/metrics/_classification.py:1344: UndefinedMetricWarning: Precision is ill-defined and being set to 0.0 due to no predicted samples. Use `zero_division` parameter to control this behavior.\n",
      "  _warn_prf(average, modifier, msg_start, len(result))\n"
     ]
    },
    {
     "name": "stdout",
     "output_type": "stream",
     "text": [
      "[CV 3/5] END class_weight={0: 6.0, 1: 1}, l2_regularization=0.001, learning_rate=0.001, max_bins=255, max_depth=5, max_iter=200, min_samples_leaf=1; precision: (train=0.000, test=0.000) true_positives: (train=0.000, test=0.000) total time= 1.5min\n"
     ]
    },
    {
     "name": "stderr",
     "output_type": "stream",
     "text": [
      "/home/tiago/mambaforge/envs/fastai/lib/python3.10/site-packages/sklearn/metrics/_classification.py:1344: UndefinedMetricWarning: Precision is ill-defined and being set to 0.0 due to no predicted samples. Use `zero_division` parameter to control this behavior.\n",
      "  _warn_prf(average, modifier, msg_start, len(result))\n",
      "/home/tiago/mambaforge/envs/fastai/lib/python3.10/site-packages/sklearn/metrics/_classification.py:1344: UndefinedMetricWarning: Precision is ill-defined and being set to 0.0 due to no predicted samples. Use `zero_division` parameter to control this behavior.\n",
      "  _warn_prf(average, modifier, msg_start, len(result))\n"
     ]
    },
    {
     "name": "stdout",
     "output_type": "stream",
     "text": [
      "[CV 4/5] END class_weight={0: 6.0, 1: 1}, l2_regularization=0.001, learning_rate=0.001, max_bins=255, max_depth=5, max_iter=200, min_samples_leaf=1; precision: (train=0.000, test=0.000) true_positives: (train=0.000, test=0.000) total time= 1.5min\n"
     ]
    },
    {
     "name": "stderr",
     "output_type": "stream",
     "text": [
      "/home/tiago/mambaforge/envs/fastai/lib/python3.10/site-packages/sklearn/metrics/_classification.py:1344: UndefinedMetricWarning: Precision is ill-defined and being set to 0.0 due to no predicted samples. Use `zero_division` parameter to control this behavior.\n",
      "  _warn_prf(average, modifier, msg_start, len(result))\n",
      "/home/tiago/mambaforge/envs/fastai/lib/python3.10/site-packages/sklearn/metrics/_classification.py:1344: UndefinedMetricWarning: Precision is ill-defined and being set to 0.0 due to no predicted samples. Use `zero_division` parameter to control this behavior.\n",
      "  _warn_prf(average, modifier, msg_start, len(result))\n"
     ]
    },
    {
     "name": "stdout",
     "output_type": "stream",
     "text": [
      "[CV 5/5] END class_weight={0: 6.0, 1: 1}, l2_regularization=0.001, learning_rate=0.001, max_bins=255, max_depth=5, max_iter=200, min_samples_leaf=1; precision: (train=0.000, test=0.000) true_positives: (train=0.000, test=0.000) total time= 1.6min\n"
     ]
    },
    {
     "name": "stderr",
     "output_type": "stream",
     "text": [
      "/home/tiago/mambaforge/envs/fastai/lib/python3.10/site-packages/sklearn/metrics/_classification.py:1344: UndefinedMetricWarning: Precision is ill-defined and being set to 0.0 due to no predicted samples. Use `zero_division` parameter to control this behavior.\n",
      "  _warn_prf(average, modifier, msg_start, len(result))\n",
      "/home/tiago/mambaforge/envs/fastai/lib/python3.10/site-packages/sklearn/metrics/_classification.py:1344: UndefinedMetricWarning: Precision is ill-defined and being set to 0.0 due to no predicted samples. Use `zero_division` parameter to control this behavior.\n",
      "  _warn_prf(average, modifier, msg_start, len(result))\n"
     ]
    },
    {
     "name": "stdout",
     "output_type": "stream",
     "text": [
      "[CV 1/5] END class_weight={0: 5.5, 1: 1}, l2_regularization=0.0, learning_rate=0.01, max_bins=63, max_depth=3, max_iter=100, min_samples_leaf=10; precision: (train=0.000, test=0.000) true_positives: (train=0.000, test=0.000) total time=  37.9s\n"
     ]
    },
    {
     "name": "stderr",
     "output_type": "stream",
     "text": [
      "/home/tiago/mambaforge/envs/fastai/lib/python3.10/site-packages/sklearn/metrics/_classification.py:1344: UndefinedMetricWarning: Precision is ill-defined and being set to 0.0 due to no predicted samples. Use `zero_division` parameter to control this behavior.\n",
      "  _warn_prf(average, modifier, msg_start, len(result))\n",
      "/home/tiago/mambaforge/envs/fastai/lib/python3.10/site-packages/sklearn/metrics/_classification.py:1344: UndefinedMetricWarning: Precision is ill-defined and being set to 0.0 due to no predicted samples. Use `zero_division` parameter to control this behavior.\n",
      "  _warn_prf(average, modifier, msg_start, len(result))\n"
     ]
    },
    {
     "name": "stdout",
     "output_type": "stream",
     "text": [
      "[CV 2/5] END class_weight={0: 5.5, 1: 1}, l2_regularization=0.0, learning_rate=0.01, max_bins=63, max_depth=3, max_iter=100, min_samples_leaf=10; precision: (train=0.000, test=0.000) true_positives: (train=0.000, test=0.000) total time=  37.1s\n"
     ]
    },
    {
     "name": "stderr",
     "output_type": "stream",
     "text": [
      "/home/tiago/mambaforge/envs/fastai/lib/python3.10/site-packages/sklearn/metrics/_classification.py:1344: UndefinedMetricWarning: Precision is ill-defined and being set to 0.0 due to no predicted samples. Use `zero_division` parameter to control this behavior.\n",
      "  _warn_prf(average, modifier, msg_start, len(result))\n"
     ]
    },
    {
     "name": "stdout",
     "output_type": "stream",
     "text": [
      "[CV 3/5] END class_weight={0: 5.5, 1: 1}, l2_regularization=0.0, learning_rate=0.01, max_bins=63, max_depth=3, max_iter=100, min_samples_leaf=10; precision: (train=0.000, test=0.000) true_positives: (train=0.000, test=0.000) total time=  38.2s\n"
     ]
    },
    {
     "name": "stderr",
     "output_type": "stream",
     "text": [
      "/home/tiago/mambaforge/envs/fastai/lib/python3.10/site-packages/sklearn/metrics/_classification.py:1344: UndefinedMetricWarning: Precision is ill-defined and being set to 0.0 due to no predicted samples. Use `zero_division` parameter to control this behavior.\n",
      "  _warn_prf(average, modifier, msg_start, len(result))\n",
      "/home/tiago/mambaforge/envs/fastai/lib/python3.10/site-packages/sklearn/metrics/_classification.py:1344: UndefinedMetricWarning: Precision is ill-defined and being set to 0.0 due to no predicted samples. Use `zero_division` parameter to control this behavior.\n",
      "  _warn_prf(average, modifier, msg_start, len(result))\n"
     ]
    },
    {
     "name": "stdout",
     "output_type": "stream",
     "text": [
      "[CV 4/5] END class_weight={0: 5.5, 1: 1}, l2_regularization=0.0, learning_rate=0.01, max_bins=63, max_depth=3, max_iter=100, min_samples_leaf=10; precision: (train=0.000, test=0.000) true_positives: (train=0.000, test=0.000) total time=  38.9s\n"
     ]
    },
    {
     "name": "stderr",
     "output_type": "stream",
     "text": [
      "/home/tiago/mambaforge/envs/fastai/lib/python3.10/site-packages/sklearn/metrics/_classification.py:1344: UndefinedMetricWarning: Precision is ill-defined and being set to 0.0 due to no predicted samples. Use `zero_division` parameter to control this behavior.\n",
      "  _warn_prf(average, modifier, msg_start, len(result))\n",
      "/home/tiago/mambaforge/envs/fastai/lib/python3.10/site-packages/sklearn/metrics/_classification.py:1344: UndefinedMetricWarning: Precision is ill-defined and being set to 0.0 due to no predicted samples. Use `zero_division` parameter to control this behavior.\n",
      "  _warn_prf(average, modifier, msg_start, len(result))\n"
     ]
    },
    {
     "name": "stdout",
     "output_type": "stream",
     "text": [
      "[CV 5/5] END class_weight={0: 5.5, 1: 1}, l2_regularization=0.0, learning_rate=0.01, max_bins=63, max_depth=3, max_iter=100, min_samples_leaf=10; precision: (train=0.000, test=0.000) true_positives: (train=0.000, test=0.000) total time=  40.1s\n",
      "[CV 3/5] END class_weight={0: 6.0, 1: 1}, l2_regularization=0.001, learning_rate=0.1, max_bins=255, max_depth=9, max_iter=500, min_samples_leaf=10; precision: (train=0.917, test=0.912) true_positives: (train=0.217, test=0.216) total time= 1.7min\n",
      "[CV 1/5] END class_weight={0: 6.0, 1: 1}, l2_regularization=0.001, learning_rate=0.1, max_bins=255, max_depth=9, max_iter=500, min_samples_leaf=10; precision: (train=0.925, test=0.894) true_positives: (train=0.224, test=0.212) total time= 2.0min\n",
      "[CV 2/5] END class_weight={0: 6.0, 1: 1}, l2_regularization=0.001, learning_rate=0.1, max_bins=255, max_depth=9, max_iter=500, min_samples_leaf=10; precision: (train=0.920, test=0.906) true_positives: (train=0.221, test=0.221) total time= 2.0min\n",
      "[CV 4/5] END class_weight={0: 6.0, 1: 1}, l2_regularization=0.001, learning_rate=0.1, max_bins=255, max_depth=9, max_iter=500, min_samples_leaf=10; precision: (train=0.922, test=0.904) true_positives: (train=0.219, test=0.214) total time= 1.8min\n",
      "[CV 5/5] END class_weight={0: 6.0, 1: 1}, l2_regularization=0.001, learning_rate=0.1, max_bins=255, max_depth=9, max_iter=500, min_samples_leaf=10; precision: (train=0.915, test=0.910) true_positives: (train=0.218, test=0.224) total time= 1.6min\n",
      "[CV 1/5] END class_weight={0: 6.0, 1: 1}, l2_regularization=0.1, learning_rate=0.01, max_bins=255, max_depth=9, max_iter=200, min_samples_leaf=20; precision: (train=0.904, test=0.878) true_positives: (train=0.145, test=0.137) total time= 1.8min\n",
      "[CV 2/5] END class_weight={0: 6.0, 1: 1}, l2_regularization=0.1, learning_rate=0.01, max_bins=255, max_depth=9, max_iter=200, min_samples_leaf=20; precision: (train=0.896, test=0.894) true_positives: (train=0.138, test=0.139) total time= 1.8min\n",
      "[CV 3/5] END class_weight={0: 6.0, 1: 1}, l2_regularization=0.1, learning_rate=0.01, max_bins=255, max_depth=9, max_iter=200, min_samples_leaf=20; precision: (train=0.896, test=0.900) true_positives: (train=0.137, test=0.137) total time= 1.9min\n",
      "[CV 4/5] END class_weight={0: 6.0, 1: 1}, l2_regularization=0.1, learning_rate=0.01, max_bins=255, max_depth=9, max_iter=200, min_samples_leaf=20; precision: (train=0.897, test=0.893) true_positives: (train=0.136, test=0.134) total time= 1.8min\n",
      "[CV 5/5] END class_weight={0: 6.0, 1: 1}, l2_regularization=0.1, learning_rate=0.01, max_bins=255, max_depth=9, max_iter=200, min_samples_leaf=20; precision: (train=0.896, test=0.897) true_positives: (train=0.138, test=0.145) total time= 1.8min\n",
      "[CV 2/5] END class_weight={0: 4.0, 1: 1}, l2_regularization=0.001, learning_rate=0.1, max_bins=255, max_depth=9, max_iter=500, min_samples_leaf=1; precision: (train=0.893, test=0.897) true_positives: (train=0.314, test=0.318) total time= 1.3min\n",
      "[CV 3/5] END class_weight={0: 4.0, 1: 1}, l2_regularization=0.001, learning_rate=0.1, max_bins=255, max_depth=9, max_iter=500, min_samples_leaf=1; precision: (train=0.892, test=0.894) true_positives: (train=0.315, test=0.312) total time= 1.3min\n",
      "[CV 4/5] END class_weight={0: 4.0, 1: 1}, l2_regularization=0.001, learning_rate=0.1, max_bins=255, max_depth=9, max_iter=500, min_samples_leaf=1; precision: (train=0.897, test=0.881) true_positives: (train=0.316, test=0.311) total time= 1.4min\n",
      "[CV 1/5] END class_weight={0: 4.0, 1: 1}, l2_regularization=0.001, learning_rate=0.1, max_bins=255, max_depth=9, max_iter=500, min_samples_leaf=1; precision: (train=0.904, test=0.884) true_positives: (train=0.324, test=0.310) total time= 2.0min\n",
      "[CV 5/5] END class_weight={0: 4.0, 1: 1}, l2_regularization=0.001, learning_rate=0.1, max_bins=255, max_depth=9, max_iter=500, min_samples_leaf=1; precision: (train=0.902, test=0.891) true_positives: (train=0.323, test=0.327) total time= 2.1min\n",
      "[CV 1/5] END class_weight={0: 1.5, 1: 1}, l2_regularization=0.1, learning_rate=0.001, max_bins=255, max_depth=3, max_iter=500, min_samples_leaf=10; precision: (train=0.824, test=0.813) true_positives: (train=0.596, test=0.580) total time= 2.9min\n",
      "[CV 2/5] END class_weight={0: 1.5, 1: 1}, l2_regularization=0.1, learning_rate=0.001, max_bins=255, max_depth=3, max_iter=500, min_samples_leaf=10; precision: (train=0.817, test=0.821) true_positives: (train=0.596, test=0.606) total time= 3.0min\n",
      "[CV 3/5] END class_weight={0: 1.5, 1: 1}, l2_regularization=0.1, learning_rate=0.001, max_bins=255, max_depth=3, max_iter=500, min_samples_leaf=10; precision: (train=0.821, test=0.813) true_positives: (train=0.598, test=0.595) total time= 3.0min\n",
      "[CV 4/5] END class_weight={0: 1.5, 1: 1}, l2_regularization=0.1, learning_rate=0.001, max_bins=255, max_depth=3, max_iter=500, min_samples_leaf=10; precision: (train=0.819, test=0.825) true_positives: (train=0.597, test=0.595) total time= 3.0min\n",
      "[CV 5/5] END class_weight={0: 1.5, 1: 1}, l2_regularization=0.1, learning_rate=0.001, max_bins=255, max_depth=3, max_iter=500, min_samples_leaf=10; precision: (train=0.817, test=0.827) true_positives: (train=0.598, test=0.607) total time= 2.9min\n"
     ]
    },
    {
     "name": "stderr",
     "output_type": "stream",
     "text": [
      "/home/tiago/mambaforge/envs/fastai/lib/python3.10/site-packages/sklearn/metrics/_classification.py:1344: UndefinedMetricWarning: Precision is ill-defined and being set to 0.0 due to no predicted samples. Use `zero_division` parameter to control this behavior.\n",
      "  _warn_prf(average, modifier, msg_start, len(result))\n",
      "/home/tiago/mambaforge/envs/fastai/lib/python3.10/site-packages/sklearn/metrics/_classification.py:1344: UndefinedMetricWarning: Precision is ill-defined and being set to 0.0 due to no predicted samples. Use `zero_division` parameter to control this behavior.\n",
      "  _warn_prf(average, modifier, msg_start, len(result))\n",
      "/home/tiago/mambaforge/envs/fastai/lib/python3.10/site-packages/sklearn/metrics/_classification.py:1344: UndefinedMetricWarning: Precision is ill-defined and being set to 0.0 due to no predicted samples. Use `zero_division` parameter to control this behavior.\n",
      "  _warn_prf(average, modifier, msg_start, len(result))\n",
      "/home/tiago/mambaforge/envs/fastai/lib/python3.10/site-packages/sklearn/metrics/_classification.py:1344: UndefinedMetricWarning: Precision is ill-defined and being set to 0.0 due to no predicted samples. Use `zero_division` parameter to control this behavior.\n",
      "  _warn_prf(average, modifier, msg_start, len(result))\n",
      "/home/tiago/mambaforge/envs/fastai/lib/python3.10/site-packages/sklearn/metrics/_classification.py:1344: UndefinedMetricWarning: Precision is ill-defined and being set to 0.0 due to no predicted samples. Use `zero_division` parameter to control this behavior.\n",
      "  _warn_prf(average, modifier, msg_start, len(result))\n"
     ]
    },
    {
     "name": "stdout",
     "output_type": "stream",
     "text": [
      "[CV 1/5] END class_weight={0: 4.0, 1: 1}, l2_regularization=0.01, learning_rate=0.001, max_bins=127, max_depth=3, max_iter=500, min_samples_leaf=10; precision: (train=0.000, test=0.000) true_positives: (train=0.000, test=0.000) total time= 3.0min\n"
     ]
    },
    {
     "name": "stderr",
     "output_type": "stream",
     "text": [
      "/home/tiago/mambaforge/envs/fastai/lib/python3.10/site-packages/sklearn/metrics/_classification.py:1344: UndefinedMetricWarning: Precision is ill-defined and being set to 0.0 due to no predicted samples. Use `zero_division` parameter to control this behavior.\n",
      "  _warn_prf(average, modifier, msg_start, len(result))\n"
     ]
    },
    {
     "name": "stdout",
     "output_type": "stream",
     "text": [
      "[CV 2/5] END class_weight={0: 4.0, 1: 1}, l2_regularization=0.01, learning_rate=0.001, max_bins=127, max_depth=3, max_iter=500, min_samples_leaf=10; precision: (train=0.000, test=0.000) true_positives: (train=0.000, test=0.000) total time= 2.9min\n"
     ]
    },
    {
     "name": "stderr",
     "output_type": "stream",
     "text": [
      "/home/tiago/mambaforge/envs/fastai/lib/python3.10/site-packages/sklearn/metrics/_classification.py:1344: UndefinedMetricWarning: Precision is ill-defined and being set to 0.0 due to no predicted samples. Use `zero_division` parameter to control this behavior.\n",
      "  _warn_prf(average, modifier, msg_start, len(result))\n"
     ]
    },
    {
     "name": "stdout",
     "output_type": "stream",
     "text": [
      "[CV 3/5] END class_weight={0: 4.0, 1: 1}, l2_regularization=0.01, learning_rate=0.001, max_bins=127, max_depth=3, max_iter=500, min_samples_leaf=10; precision: (train=0.000, test=0.000) true_positives: (train=0.000, test=0.000) total time= 3.0min\n"
     ]
    },
    {
     "name": "stderr",
     "output_type": "stream",
     "text": [
      "/home/tiago/mambaforge/envs/fastai/lib/python3.10/site-packages/sklearn/metrics/_classification.py:1344: UndefinedMetricWarning: Precision is ill-defined and being set to 0.0 due to no predicted samples. Use `zero_division` parameter to control this behavior.\n",
      "  _warn_prf(average, modifier, msg_start, len(result))\n"
     ]
    },
    {
     "name": "stdout",
     "output_type": "stream",
     "text": [
      "[CV 4/5] END class_weight={0: 4.0, 1: 1}, l2_regularization=0.01, learning_rate=0.001, max_bins=127, max_depth=3, max_iter=500, min_samples_leaf=10; precision: (train=0.000, test=0.000) true_positives: (train=0.000, test=0.000) total time= 2.9min\n"
     ]
    },
    {
     "name": "stderr",
     "output_type": "stream",
     "text": [
      "/home/tiago/mambaforge/envs/fastai/lib/python3.10/site-packages/sklearn/metrics/_classification.py:1344: UndefinedMetricWarning: Precision is ill-defined and being set to 0.0 due to no predicted samples. Use `zero_division` parameter to control this behavior.\n",
      "  _warn_prf(average, modifier, msg_start, len(result))\n",
      "/home/tiago/mambaforge/envs/fastai/lib/python3.10/site-packages/sklearn/metrics/_classification.py:1344: UndefinedMetricWarning: Precision is ill-defined and being set to 0.0 due to no predicted samples. Use `zero_division` parameter to control this behavior.\n",
      "  _warn_prf(average, modifier, msg_start, len(result))\n",
      "/home/tiago/mambaforge/envs/fastai/lib/python3.10/site-packages/sklearn/metrics/_classification.py:1344: UndefinedMetricWarning: Precision is ill-defined and being set to 0.0 due to no predicted samples. Use `zero_division` parameter to control this behavior.\n",
      "  _warn_prf(average, modifier, msg_start, len(result))\n",
      "/home/tiago/mambaforge/envs/fastai/lib/python3.10/site-packages/sklearn/metrics/_classification.py:1344: UndefinedMetricWarning: Precision is ill-defined and being set to 0.0 due to no predicted samples. Use `zero_division` parameter to control this behavior.\n",
      "  _warn_prf(average, modifier, msg_start, len(result))\n"
     ]
    },
    {
     "name": "stdout",
     "output_type": "stream",
     "text": [
      "[CV 1/5] END class_weight={0: 3.0, 1: 1}, l2_regularization=0.1, learning_rate=0.001, max_bins=63, max_depth=3, max_iter=200, min_samples_leaf=1; precision: (train=0.000, test=0.000) true_positives: (train=0.000, test=0.000) total time= 1.1min\n"
     ]
    },
    {
     "name": "stderr",
     "output_type": "stream",
     "text": [
      "/home/tiago/mambaforge/envs/fastai/lib/python3.10/site-packages/sklearn/metrics/_classification.py:1344: UndefinedMetricWarning: Precision is ill-defined and being set to 0.0 due to no predicted samples. Use `zero_division` parameter to control this behavior.\n",
      "  _warn_prf(average, modifier, msg_start, len(result))\n"
     ]
    },
    {
     "name": "stdout",
     "output_type": "stream",
     "text": [
      "[CV 5/5] END class_weight={0: 4.0, 1: 1}, l2_regularization=0.01, learning_rate=0.001, max_bins=127, max_depth=3, max_iter=500, min_samples_leaf=10; precision: (train=0.000, test=0.000) true_positives: (train=0.000, test=0.000) total time= 2.7min\n"
     ]
    },
    {
     "name": "stderr",
     "output_type": "stream",
     "text": [
      "/home/tiago/mambaforge/envs/fastai/lib/python3.10/site-packages/sklearn/metrics/_classification.py:1344: UndefinedMetricWarning: Precision is ill-defined and being set to 0.0 due to no predicted samples. Use `zero_division` parameter to control this behavior.\n",
      "  _warn_prf(average, modifier, msg_start, len(result))\n",
      "/home/tiago/mambaforge/envs/fastai/lib/python3.10/site-packages/sklearn/metrics/_classification.py:1344: UndefinedMetricWarning: Precision is ill-defined and being set to 0.0 due to no predicted samples. Use `zero_division` parameter to control this behavior.\n",
      "  _warn_prf(average, modifier, msg_start, len(result))\n"
     ]
    },
    {
     "name": "stdout",
     "output_type": "stream",
     "text": [
      "[CV 2/5] END class_weight={0: 3.0, 1: 1}, l2_regularization=0.1, learning_rate=0.001, max_bins=63, max_depth=3, max_iter=200, min_samples_leaf=1; precision: (train=0.000, test=0.000) true_positives: (train=0.000, test=0.000) total time= 1.1min\n"
     ]
    },
    {
     "name": "stderr",
     "output_type": "stream",
     "text": [
      "/home/tiago/mambaforge/envs/fastai/lib/python3.10/site-packages/sklearn/metrics/_classification.py:1344: UndefinedMetricWarning: Precision is ill-defined and being set to 0.0 due to no predicted samples. Use `zero_division` parameter to control this behavior.\n",
      "  _warn_prf(average, modifier, msg_start, len(result))\n",
      "/home/tiago/mambaforge/envs/fastai/lib/python3.10/site-packages/sklearn/metrics/_classification.py:1344: UndefinedMetricWarning: Precision is ill-defined and being set to 0.0 due to no predicted samples. Use `zero_division` parameter to control this behavior.\n",
      "  _warn_prf(average, modifier, msg_start, len(result))\n"
     ]
    },
    {
     "name": "stdout",
     "output_type": "stream",
     "text": [
      "[CV 3/5] END class_weight={0: 3.0, 1: 1}, l2_regularization=0.1, learning_rate=0.001, max_bins=63, max_depth=3, max_iter=200, min_samples_leaf=1; precision: (train=0.000, test=0.000) true_positives: (train=0.000, test=0.000) total time= 1.3min\n"
     ]
    },
    {
     "name": "stderr",
     "output_type": "stream",
     "text": [
      "/home/tiago/mambaforge/envs/fastai/lib/python3.10/site-packages/sklearn/metrics/_classification.py:1344: UndefinedMetricWarning: Precision is ill-defined and being set to 0.0 due to no predicted samples. Use `zero_division` parameter to control this behavior.\n",
      "  _warn_prf(average, modifier, msg_start, len(result))\n"
     ]
    },
    {
     "name": "stdout",
     "output_type": "stream",
     "text": [
      "[CV 4/5] END class_weight={0: 3.0, 1: 1}, l2_regularization=0.1, learning_rate=0.001, max_bins=63, max_depth=3, max_iter=200, min_samples_leaf=1; precision: (train=0.000, test=0.000) true_positives: (train=0.000, test=0.000) total time= 1.3min\n",
      "[CV 1/5] END class_weight={0: 4.5, 1: 1}, l2_regularization=0.01, learning_rate=0.1, max_bins=255, max_depth=7, max_iter=50, min_samples_leaf=1; precision: (train=0.893, test=0.884) true_positives: (train=0.272, test=0.261) total time=  36.4s\n",
      "[CV 2/5] END class_weight={0: 4.5, 1: 1}, l2_regularization=0.01, learning_rate=0.1, max_bins=255, max_depth=7, max_iter=50, min_samples_leaf=1; precision: (train=0.891, test=0.898) true_positives: (train=0.268, test=0.272) total time=  37.3s\n"
     ]
    },
    {
     "name": "stderr",
     "output_type": "stream",
     "text": [
      "/home/tiago/mambaforge/envs/fastai/lib/python3.10/site-packages/sklearn/metrics/_classification.py:1344: UndefinedMetricWarning: Precision is ill-defined and being set to 0.0 due to no predicted samples. Use `zero_division` parameter to control this behavior.\n",
      "  _warn_prf(average, modifier, msg_start, len(result))\n"
     ]
    },
    {
     "name": "stdout",
     "output_type": "stream",
     "text": [
      "[CV 3/5] END class_weight={0: 4.5, 1: 1}, l2_regularization=0.01, learning_rate=0.1, max_bins=255, max_depth=7, max_iter=50, min_samples_leaf=1; precision: (train=0.889, test=0.892) true_positives: (train=0.269, test=0.269) total time=  36.1s\n",
      "[CV 4/5] END class_weight={0: 4.5, 1: 1}, l2_regularization=0.01, learning_rate=0.1, max_bins=255, max_depth=7, max_iter=50, min_samples_leaf=1; precision: (train=0.891, test=0.885) true_positives: (train=0.269, test=0.266) total time=  36.7s\n",
      "[CV 5/5] END class_weight={0: 4.5, 1: 1}, l2_regularization=0.01, learning_rate=0.1, max_bins=255, max_depth=7, max_iter=50, min_samples_leaf=1; precision: (train=0.891, test=0.886) true_positives: (train=0.269, test=0.273) total time=  36.4s\n"
     ]
    },
    {
     "name": "stderr",
     "output_type": "stream",
     "text": [
      "/home/tiago/mambaforge/envs/fastai/lib/python3.10/site-packages/sklearn/metrics/_classification.py:1344: UndefinedMetricWarning: Precision is ill-defined and being set to 0.0 due to no predicted samples. Use `zero_division` parameter to control this behavior.\n",
      "  _warn_prf(average, modifier, msg_start, len(result))\n"
     ]
    },
    {
     "name": "stdout",
     "output_type": "stream",
     "text": [
      "[CV 5/5] END class_weight={0: 3.0, 1: 1}, l2_regularization=0.1, learning_rate=0.001, max_bins=63, max_depth=3, max_iter=200, min_samples_leaf=1; precision: (train=0.000, test=0.000) true_positives: (train=0.000, test=0.000) total time= 1.3min\n"
     ]
    },
    {
     "name": "stderr",
     "output_type": "stream",
     "text": [
      "/home/tiago/mambaforge/envs/fastai/lib/python3.10/site-packages/sklearn/metrics/_classification.py:1344: UndefinedMetricWarning: Precision is ill-defined and being set to 0.0 due to no predicted samples. Use `zero_division` parameter to control this behavior.\n",
      "  _warn_prf(average, modifier, msg_start, len(result))\n",
      "/home/tiago/mambaforge/envs/fastai/lib/python3.10/site-packages/sklearn/metrics/_classification.py:1344: UndefinedMetricWarning: Precision is ill-defined and being set to 0.0 due to no predicted samples. Use `zero_division` parameter to control this behavior.\n",
      "  _warn_prf(average, modifier, msg_start, len(result))\n",
      "/home/tiago/mambaforge/envs/fastai/lib/python3.10/site-packages/sklearn/metrics/_classification.py:1344: UndefinedMetricWarning: Precision is ill-defined and being set to 0.0 due to no predicted samples. Use `zero_division` parameter to control this behavior.\n",
      "  _warn_prf(average, modifier, msg_start, len(result))\n"
     ]
    },
    {
     "name": "stdout",
     "output_type": "stream",
     "text": [
      "[CV 1/5] END class_weight={0: 2.5, 1: 1}, l2_regularization=0.01, learning_rate=0.001, max_bins=127, max_depth=9, max_iter=100, min_samples_leaf=5; precision: (train=0.000, test=0.000) true_positives: (train=0.000, test=0.000) total time= 1.2min\n"
     ]
    },
    {
     "name": "stderr",
     "output_type": "stream",
     "text": [
      "/home/tiago/mambaforge/envs/fastai/lib/python3.10/site-packages/sklearn/metrics/_classification.py:1344: UndefinedMetricWarning: Precision is ill-defined and being set to 0.0 due to no predicted samples. Use `zero_division` parameter to control this behavior.\n",
      "  _warn_prf(average, modifier, msg_start, len(result))\n",
      "/home/tiago/mambaforge/envs/fastai/lib/python3.10/site-packages/sklearn/metrics/_classification.py:1344: UndefinedMetricWarning: Precision is ill-defined and being set to 0.0 due to no predicted samples. Use `zero_division` parameter to control this behavior.\n",
      "  _warn_prf(average, modifier, msg_start, len(result))\n"
     ]
    },
    {
     "name": "stdout",
     "output_type": "stream",
     "text": [
      "[CV 2/5] END class_weight={0: 2.5, 1: 1}, l2_regularization=0.01, learning_rate=0.001, max_bins=127, max_depth=9, max_iter=100, min_samples_leaf=5; precision: (train=0.000, test=0.000) true_positives: (train=0.000, test=0.000) total time= 1.2min\n"
     ]
    },
    {
     "name": "stderr",
     "output_type": "stream",
     "text": [
      "/home/tiago/mambaforge/envs/fastai/lib/python3.10/site-packages/sklearn/metrics/_classification.py:1344: UndefinedMetricWarning: Precision is ill-defined and being set to 0.0 due to no predicted samples. Use `zero_division` parameter to control this behavior.\n",
      "  _warn_prf(average, modifier, msg_start, len(result))\n",
      "/home/tiago/mambaforge/envs/fastai/lib/python3.10/site-packages/sklearn/metrics/_classification.py:1344: UndefinedMetricWarning: Precision is ill-defined and being set to 0.0 due to no predicted samples. Use `zero_division` parameter to control this behavior.\n",
      "  _warn_prf(average, modifier, msg_start, len(result))\n",
      "/home/tiago/mambaforge/envs/fastai/lib/python3.10/site-packages/sklearn/metrics/_classification.py:1344: UndefinedMetricWarning: Precision is ill-defined and being set to 0.0 due to no predicted samples. Use `zero_division` parameter to control this behavior.\n",
      "  _warn_prf(average, modifier, msg_start, len(result))\n"
     ]
    },
    {
     "name": "stdout",
     "output_type": "stream",
     "text": [
      "[CV 3/5] END class_weight={0: 2.5, 1: 1}, l2_regularization=0.01, learning_rate=0.001, max_bins=127, max_depth=9, max_iter=100, min_samples_leaf=5; precision: (train=0.000, test=0.000) true_positives: (train=0.000, test=0.000) total time= 1.2min\n"
     ]
    },
    {
     "name": "stderr",
     "output_type": "stream",
     "text": [
      "/home/tiago/mambaforge/envs/fastai/lib/python3.10/site-packages/sklearn/metrics/_classification.py:1344: UndefinedMetricWarning: Precision is ill-defined and being set to 0.0 due to no predicted samples. Use `zero_division` parameter to control this behavior.\n",
      "  _warn_prf(average, modifier, msg_start, len(result))\n"
     ]
    },
    {
     "name": "stdout",
     "output_type": "stream",
     "text": [
      "[CV 4/5] END class_weight={0: 2.5, 1: 1}, l2_regularization=0.01, learning_rate=0.001, max_bins=127, max_depth=9, max_iter=100, min_samples_leaf=5; precision: (train=0.000, test=0.000) true_positives: (train=0.000, test=0.000) total time= 1.2min\n"
     ]
    },
    {
     "name": "stderr",
     "output_type": "stream",
     "text": [
      "/home/tiago/mambaforge/envs/fastai/lib/python3.10/site-packages/sklearn/metrics/_classification.py:1344: UndefinedMetricWarning: Precision is ill-defined and being set to 0.0 due to no predicted samples. Use `zero_division` parameter to control this behavior.\n",
      "  _warn_prf(average, modifier, msg_start, len(result))\n"
     ]
    },
    {
     "name": "stdout",
     "output_type": "stream",
     "text": [
      "[CV 5/5] END class_weight={0: 2.5, 1: 1}, l2_regularization=0.01, learning_rate=0.001, max_bins=127, max_depth=9, max_iter=100, min_samples_leaf=5; precision: (train=0.000, test=0.000) true_positives: (train=0.000, test=0.000) total time= 1.2min\n",
      "[CV 1/5] END class_weight={0: 4.0, 1: 1}, l2_regularization=0.1, learning_rate=0.01, max_bins=255, max_depth=3, max_iter=500, min_samples_leaf=20; precision: (train=0.874, test=0.865) true_positives: (train=0.278, test=0.265) total time= 2.8min\n",
      "[CV 2/5] END class_weight={0: 4.0, 1: 1}, l2_regularization=0.1, learning_rate=0.01, max_bins=255, max_depth=3, max_iter=500, min_samples_leaf=20; precision: (train=0.872, test=0.878) true_positives: (train=0.273, test=0.278) total time= 2.7min\n",
      "[CV 3/5] END class_weight={0: 4.0, 1: 1}, l2_regularization=0.1, learning_rate=0.01, max_bins=255, max_depth=3, max_iter=500, min_samples_leaf=20; precision: (train=0.873, test=0.870) true_positives: (train=0.274, test=0.276) total time= 2.8min\n",
      "[CV 4/5] END class_weight={0: 4.0, 1: 1}, l2_regularization=0.1, learning_rate=0.01, max_bins=255, max_depth=3, max_iter=500, min_samples_leaf=20; precision: (train=0.872, test=0.870) true_positives: (train=0.275, test=0.273) total time= 2.8min\n",
      "[CV 5/5] END class_weight={0: 4.0, 1: 1}, l2_regularization=0.1, learning_rate=0.01, max_bins=255, max_depth=3, max_iter=500, min_samples_leaf=20; precision: (train=0.873, test=0.872) true_positives: (train=0.271, test=0.279) total time= 2.7min\n"
     ]
    },
    {
     "data": {
      "text/html": [
       "<style>#sk-container-id-2 {color: black;background-color: white;}#sk-container-id-2 pre{padding: 0;}#sk-container-id-2 div.sk-toggleable {background-color: white;}#sk-container-id-2 label.sk-toggleable__label {cursor: pointer;display: block;width: 100%;margin-bottom: 0;padding: 0.3em;box-sizing: border-box;text-align: center;}#sk-container-id-2 label.sk-toggleable__label-arrow:before {content: \"▸\";float: left;margin-right: 0.25em;color: #696969;}#sk-container-id-2 label.sk-toggleable__label-arrow:hover:before {color: black;}#sk-container-id-2 div.sk-estimator:hover label.sk-toggleable__label-arrow:before {color: black;}#sk-container-id-2 div.sk-toggleable__content {max-height: 0;max-width: 0;overflow: hidden;text-align: left;background-color: #f0f8ff;}#sk-container-id-2 div.sk-toggleable__content pre {margin: 0.2em;color: black;border-radius: 0.25em;background-color: #f0f8ff;}#sk-container-id-2 input.sk-toggleable__control:checked~div.sk-toggleable__content {max-height: 200px;max-width: 100%;overflow: auto;}#sk-container-id-2 input.sk-toggleable__control:checked~label.sk-toggleable__label-arrow:before {content: \"▾\";}#sk-container-id-2 div.sk-estimator input.sk-toggleable__control:checked~label.sk-toggleable__label {background-color: #d4ebff;}#sk-container-id-2 div.sk-label input.sk-toggleable__control:checked~label.sk-toggleable__label {background-color: #d4ebff;}#sk-container-id-2 input.sk-hidden--visually {border: 0;clip: rect(1px 1px 1px 1px);clip: rect(1px, 1px, 1px, 1px);height: 1px;margin: -1px;overflow: hidden;padding: 0;position: absolute;width: 1px;}#sk-container-id-2 div.sk-estimator {font-family: monospace;background-color: #f0f8ff;border: 1px dotted black;border-radius: 0.25em;box-sizing: border-box;margin-bottom: 0.5em;}#sk-container-id-2 div.sk-estimator:hover {background-color: #d4ebff;}#sk-container-id-2 div.sk-parallel-item::after {content: \"\";width: 100%;border-bottom: 1px solid gray;flex-grow: 1;}#sk-container-id-2 div.sk-label:hover label.sk-toggleable__label {background-color: #d4ebff;}#sk-container-id-2 div.sk-serial::before {content: \"\";position: absolute;border-left: 1px solid gray;box-sizing: border-box;top: 0;bottom: 0;left: 50%;z-index: 0;}#sk-container-id-2 div.sk-serial {display: flex;flex-direction: column;align-items: center;background-color: white;padding-right: 0.2em;padding-left: 0.2em;position: relative;}#sk-container-id-2 div.sk-item {position: relative;z-index: 1;}#sk-container-id-2 div.sk-parallel {display: flex;align-items: stretch;justify-content: center;background-color: white;position: relative;}#sk-container-id-2 div.sk-item::before, #sk-container-id-2 div.sk-parallel-item::before {content: \"\";position: absolute;border-left: 1px solid gray;box-sizing: border-box;top: 0;bottom: 0;left: 50%;z-index: -1;}#sk-container-id-2 div.sk-parallel-item {display: flex;flex-direction: column;z-index: 1;position: relative;background-color: white;}#sk-container-id-2 div.sk-parallel-item:first-child::after {align-self: flex-end;width: 50%;}#sk-container-id-2 div.sk-parallel-item:last-child::after {align-self: flex-start;width: 50%;}#sk-container-id-2 div.sk-parallel-item:only-child::after {width: 0;}#sk-container-id-2 div.sk-dashed-wrapped {border: 1px dashed gray;margin: 0 0.4em 0.5em 0.4em;box-sizing: border-box;padding-bottom: 0.4em;background-color: white;}#sk-container-id-2 div.sk-label label {font-family: monospace;font-weight: bold;display: inline-block;line-height: 1.2em;}#sk-container-id-2 div.sk-label-container {text-align: center;}#sk-container-id-2 div.sk-container {/* jupyter's `normalize.less` sets `[hidden] { display: none; }` but bootstrap.min.css set `[hidden] { display: none !important; }` so we also need the `!important` here to be able to override the default hidden behavior on the sphinx rendered scikit-learn.org. See: https://github.com/scikit-learn/scikit-learn/issues/21755 */display: inline-block !important;position: relative;}#sk-container-id-2 div.sk-text-repr-fallback {display: none;}</style><div id=\"sk-container-id-2\" class=\"sk-top-container\"><div class=\"sk-text-repr-fallback\"><pre>RandomizedSearchCV(cv=5, estimator=HistGradientBoostingClassifier(), n_iter=25,\n",
       "                   n_jobs=5,\n",
       "                   param_distributions={&#x27;class_weight&#x27;: [None, &#x27;balanced&#x27;,\n",
       "                                                         {0: 1.5, 1: 1},\n",
       "                                                         {0: 2.0, 1: 1},\n",
       "                                                         {0: 2.5, 1: 1},\n",
       "                                                         {0: 3.0, 1: 1},\n",
       "                                                         {0: 3.5, 1: 1},\n",
       "                                                         {0: 4.0, 1: 1},\n",
       "                                                         {0: 4.5, 1: 1},\n",
       "                                                         {0: 5.0, 1: 1},\n",
       "                                                         {0: 5.5, 1: 1},\n",
       "                                                         {0: 6.0, 1: 1}],\n",
       "                                        &#x27;l2_regularization&#x27;: [0.0, 0.1, 0.01,\n",
       "                                                              0.001],\n",
       "                                        &#x27;learning_rate&#x27;: [0.001, 0.01, 0.1],\n",
       "                                        &#x27;max_bins&#x27;: [63, 1...\n",
       "380343     0.001118\n",
       "948045     0.000141\n",
       "Name: rescaled_weight, Length: 958093, dtype: float64),\n",
       "                            &#x27;true_positives&#x27;: make_scorer(weighted_true_positives, sample_weight=336596     0.000622\n",
       "1046443    0.000402\n",
       "994441     0.000627\n",
       "131389     0.000868\n",
       "45434      0.000367\n",
       "             ...   \n",
       "957916    -0.001084\n",
       "557435     0.009622\n",
       "834372     0.000635\n",
       "380343     0.001118\n",
       "948045     0.000141\n",
       "Name: rescaled_weight, Length: 958093, dtype: float64)},\n",
       "                   verbose=4)</pre><b>In a Jupyter environment, please rerun this cell to show the HTML representation or trust the notebook. <br />On GitHub, the HTML representation is unable to render, please try loading this page with nbviewer.org.</b></div><div class=\"sk-container\" hidden><div class=\"sk-item sk-dashed-wrapped\"><div class=\"sk-label-container\"><div class=\"sk-label sk-toggleable\"><input class=\"sk-toggleable__control sk-hidden--visually\" id=\"sk-estimator-id-4\" type=\"checkbox\" ><label for=\"sk-estimator-id-4\" class=\"sk-toggleable__label sk-toggleable__label-arrow\">RandomizedSearchCV</label><div class=\"sk-toggleable__content\"><pre>RandomizedSearchCV(cv=5, estimator=HistGradientBoostingClassifier(), n_iter=25,\n",
       "                   n_jobs=5,\n",
       "                   param_distributions={&#x27;class_weight&#x27;: [None, &#x27;balanced&#x27;,\n",
       "                                                         {0: 1.5, 1: 1},\n",
       "                                                         {0: 2.0, 1: 1},\n",
       "                                                         {0: 2.5, 1: 1},\n",
       "                                                         {0: 3.0, 1: 1},\n",
       "                                                         {0: 3.5, 1: 1},\n",
       "                                                         {0: 4.0, 1: 1},\n",
       "                                                         {0: 4.5, 1: 1},\n",
       "                                                         {0: 5.0, 1: 1},\n",
       "                                                         {0: 5.5, 1: 1},\n",
       "                                                         {0: 6.0, 1: 1}],\n",
       "                                        &#x27;l2_regularization&#x27;: [0.0, 0.1, 0.01,\n",
       "                                                              0.001],\n",
       "                                        &#x27;learning_rate&#x27;: [0.001, 0.01, 0.1],\n",
       "                                        &#x27;max_bins&#x27;: [63, 1...\n",
       "380343     0.001118\n",
       "948045     0.000141\n",
       "Name: rescaled_weight, Length: 958093, dtype: float64),\n",
       "                            &#x27;true_positives&#x27;: make_scorer(weighted_true_positives, sample_weight=336596     0.000622\n",
       "1046443    0.000402\n",
       "994441     0.000627\n",
       "131389     0.000868\n",
       "45434      0.000367\n",
       "             ...   \n",
       "957916    -0.001084\n",
       "557435     0.009622\n",
       "834372     0.000635\n",
       "380343     0.001118\n",
       "948045     0.000141\n",
       "Name: rescaled_weight, Length: 958093, dtype: float64)},\n",
       "                   verbose=4)</pre></div></div></div><div class=\"sk-parallel\"><div class=\"sk-parallel-item\"><div class=\"sk-item\"><div class=\"sk-label-container\"><div class=\"sk-label sk-toggleable\"><input class=\"sk-toggleable__control sk-hidden--visually\" id=\"sk-estimator-id-5\" type=\"checkbox\" ><label for=\"sk-estimator-id-5\" class=\"sk-toggleable__label sk-toggleable__label-arrow\">estimator: HistGradientBoostingClassifier</label><div class=\"sk-toggleable__content\"><pre>HistGradientBoostingClassifier()</pre></div></div></div><div class=\"sk-serial\"><div class=\"sk-item\"><div class=\"sk-estimator sk-toggleable\"><input class=\"sk-toggleable__control sk-hidden--visually\" id=\"sk-estimator-id-6\" type=\"checkbox\" ><label for=\"sk-estimator-id-6\" class=\"sk-toggleable__label sk-toggleable__label-arrow\">HistGradientBoostingClassifier</label><div class=\"sk-toggleable__content\"><pre>HistGradientBoostingClassifier()</pre></div></div></div></div></div></div></div></div></div></div>"
      ],
      "text/plain": [
       "RandomizedSearchCV(cv=5, estimator=HistGradientBoostingClassifier(), n_iter=25,\n",
       "                   n_jobs=5,\n",
       "                   param_distributions={'class_weight': [None, 'balanced',\n",
       "                                                         {0: 1.5, 1: 1},\n",
       "                                                         {0: 2.0, 1: 1},\n",
       "                                                         {0: 2.5, 1: 1},\n",
       "                                                         {0: 3.0, 1: 1},\n",
       "                                                         {0: 3.5, 1: 1},\n",
       "                                                         {0: 4.0, 1: 1},\n",
       "                                                         {0: 4.5, 1: 1},\n",
       "                                                         {0: 5.0, 1: 1},\n",
       "                                                         {0: 5.5, 1: 1},\n",
       "                                                         {0: 6.0, 1: 1}],\n",
       "                                        'l2_regularization': [0.0, 0.1, 0.01,\n",
       "                                                              0.001],\n",
       "                                        'learning_rate': [0.001, 0.01, 0.1],\n",
       "                                        'max_bins': [63, 1...\n",
       "380343     0.001118\n",
       "948045     0.000141\n",
       "Name: rescaled_weight, Length: 958093, dtype: float64),\n",
       "                            'true_positives': make_scorer(weighted_true_positives, sample_weight=336596     0.000622\n",
       "1046443    0.000402\n",
       "994441     0.000627\n",
       "131389     0.000868\n",
       "45434      0.000367\n",
       "             ...   \n",
       "957916    -0.001084\n",
       "557435     0.009622\n",
       "834372     0.000635\n",
       "380343     0.001118\n",
       "948045     0.000141\n",
       "Name: rescaled_weight, Length: 958093, dtype: float64)},\n",
       "                   verbose=4)"
      ]
     },
     "execution_count": null,
     "metadata": {},
     "output_type": "execute_result"
    }
   ],
   "source": [
    "random_search.fit(xs, y)"
   ]
  },
  {
   "cell_type": "code",
   "execution_count": null,
   "metadata": {},
   "outputs": [
    {
     "name": "stdout",
     "output_type": "stream",
     "text": [
      "loaded file\n"
     ]
    }
   ],
   "source": [
    "fname = 'bdt_random_search.pkl'\n",
    "if not (searches_path/fname).exists():\n",
    "    random_search_results = pd.DataFrame(random_search.cv_results_)\n",
    "    random_search_results.drop(columns=['params'], inplace=True)\n",
    "    random_search_results = random_search_results.loc[:, ~random_search_results.columns.str.startswith('split')]\n",
    "    random_search_results = random_search_results.loc[:, ~random_search_results.columns.str.startswith('std')]\n",
    "    random_search_results.to_pickle(searches_path/fname)\n",
    "else:\n",
    "    print('loaded file')\n",
    "    random_search_results = pd.read_pickle(searches_path/fname)    "
   ]
  },
  {
   "cell_type": "code",
   "execution_count": null,
   "metadata": {},
   "outputs": [
    {
     "data": {
      "text/html": [
       "<div>\n",
       "<style scoped>\n",
       "    .dataframe tbody tr th:only-of-type {\n",
       "        vertical-align: middle;\n",
       "    }\n",
       "\n",
       "    .dataframe tbody tr th {\n",
       "        vertical-align: top;\n",
       "    }\n",
       "\n",
       "    .dataframe thead th {\n",
       "        text-align: right;\n",
       "    }\n",
       "</style>\n",
       "<table border=\"1\" class=\"dataframe\">\n",
       "  <thead>\n",
       "    <tr style=\"text-align: right;\">\n",
       "      <th></th>\n",
       "      <th>mean_fit_time</th>\n",
       "      <th>mean_score_time</th>\n",
       "      <th>param_min_samples_leaf</th>\n",
       "      <th>param_max_iter</th>\n",
       "      <th>param_max_depth</th>\n",
       "      <th>param_max_bins</th>\n",
       "      <th>param_learning_rate</th>\n",
       "      <th>param_l2_regularization</th>\n",
       "      <th>param_class_weight</th>\n",
       "      <th>mean_test_precision</th>\n",
       "      <th>rank_test_precision</th>\n",
       "      <th>mean_train_precision</th>\n",
       "      <th>mean_test_true_positives</th>\n",
       "      <th>rank_test_true_positives</th>\n",
       "      <th>mean_train_true_positives</th>\n",
       "    </tr>\n",
       "  </thead>\n",
       "  <tbody>\n",
       "    <tr>\n",
       "      <th>12</th>\n",
       "      <td>100.972994</td>\n",
       "      <td>9.782878</td>\n",
       "      <td>20</td>\n",
       "      <td>500</td>\n",
       "      <td>3</td>\n",
       "      <td>127</td>\n",
       "      <td>0.1</td>\n",
       "      <td>0.001</td>\n",
       "      <td>{0: 2.0, 1: 1}</td>\n",
       "      <td>0.864375</td>\n",
       "      <td>13</td>\n",
       "      <td>0.865795</td>\n",
       "      <td>0.482958</td>\n",
       "      <td>3</td>\n",
       "      <td>0.483549</td>\n",
       "    </tr>\n",
       "    <tr>\n",
       "      <th>13</th>\n",
       "      <td>29.421305</td>\n",
       "      <td>2.300100</td>\n",
       "      <td>20</td>\n",
       "      <td>100</td>\n",
       "      <td>3</td>\n",
       "      <td>63</td>\n",
       "      <td>0.01</td>\n",
       "      <td>0.01</td>\n",
       "      <td>{0: 2.0, 1: 1}</td>\n",
       "      <td>0.847923</td>\n",
       "      <td>15</td>\n",
       "      <td>0.848648</td>\n",
       "      <td>0.449621</td>\n",
       "      <td>4</td>\n",
       "      <td>0.450038</td>\n",
       "    </tr>\n",
       "    <tr>\n",
       "      <th>19</th>\n",
       "      <td>164.603853</td>\n",
       "      <td>13.132235</td>\n",
       "      <td>10</td>\n",
       "      <td>500</td>\n",
       "      <td>3</td>\n",
       "      <td>255</td>\n",
       "      <td>0.001</td>\n",
       "      <td>0.1</td>\n",
       "      <td>{0: 1.5, 1: 1}</td>\n",
       "      <td>0.819722</td>\n",
       "      <td>17</td>\n",
       "      <td>0.819553</td>\n",
       "      <td>0.596576</td>\n",
       "      <td>2</td>\n",
       "      <td>0.596748</td>\n",
       "    </tr>\n",
       "    <tr>\n",
       "      <th>8</th>\n",
       "      <td>497.518895</td>\n",
       "      <td>35.046717</td>\n",
       "      <td>20</td>\n",
       "      <td>1000</td>\n",
       "      <td>7</td>\n",
       "      <td>127</td>\n",
       "      <td>0.001</td>\n",
       "      <td>0.1</td>\n",
       "      <td>None</td>\n",
       "      <td>0.806288</td>\n",
       "      <td>18</td>\n",
       "      <td>0.806024</td>\n",
       "      <td>0.649803</td>\n",
       "      <td>1</td>\n",
       "      <td>0.649700</td>\n",
       "    </tr>\n",
       "  </tbody>\n",
       "</table>\n",
       "</div>"
      ],
      "text/plain": [
       "    mean_fit_time  mean_score_time param_min_samples_leaf param_max_iter  \\\n",
       "12     100.972994         9.782878                     20            500   \n",
       "13      29.421305         2.300100                     20            100   \n",
       "19     164.603853        13.132235                     10            500   \n",
       "8      497.518895        35.046717                     20           1000   \n",
       "\n",
       "   param_max_depth param_max_bins param_learning_rate param_l2_regularization  \\\n",
       "12               3            127                 0.1                   0.001   \n",
       "13               3             63                0.01                    0.01   \n",
       "19               3            255               0.001                     0.1   \n",
       "8                7            127               0.001                     0.1   \n",
       "\n",
       "   param_class_weight  mean_test_precision  rank_test_precision  \\\n",
       "12     {0: 2.0, 1: 1}             0.864375                   13   \n",
       "13     {0: 2.0, 1: 1}             0.847923                   15   \n",
       "19     {0: 1.5, 1: 1}             0.819722                   17   \n",
       "8                None             0.806288                   18   \n",
       "\n",
       "    mean_train_precision  mean_test_true_positives  rank_test_true_positives  \\\n",
       "12              0.865795                  0.482958                         3   \n",
       "13              0.848648                  0.449621                         4   \n",
       "19              0.819553                  0.596576                         2   \n",
       "8               0.806024                  0.649803                         1   \n",
       "\n",
       "    mean_train_true_positives  \n",
       "12                   0.483549  \n",
       "13                   0.450038  \n",
       "19                   0.596748  \n",
       "8                    0.649700  "
      ]
     },
     "execution_count": null,
     "metadata": {},
     "output_type": "execute_result"
    }
   ],
   "source": [
    "random_search_results.query('mean_test_precision > 0.8 and mean_test_true_positives > 0.35').sort_values('mean_test_precision', ascending=False).head()"
   ]
  },
  {
   "cell_type": "code",
   "execution_count": null,
   "metadata": {},
   "outputs": [
    {
     "data": {
      "text/html": [
       "<style>#sk-container-id-2 {color: black;background-color: white;}#sk-container-id-2 pre{padding: 0;}#sk-container-id-2 div.sk-toggleable {background-color: white;}#sk-container-id-2 label.sk-toggleable__label {cursor: pointer;display: block;width: 100%;margin-bottom: 0;padding: 0.3em;box-sizing: border-box;text-align: center;}#sk-container-id-2 label.sk-toggleable__label-arrow:before {content: \"▸\";float: left;margin-right: 0.25em;color: #696969;}#sk-container-id-2 label.sk-toggleable__label-arrow:hover:before {color: black;}#sk-container-id-2 div.sk-estimator:hover label.sk-toggleable__label-arrow:before {color: black;}#sk-container-id-2 div.sk-toggleable__content {max-height: 0;max-width: 0;overflow: hidden;text-align: left;background-color: #f0f8ff;}#sk-container-id-2 div.sk-toggleable__content pre {margin: 0.2em;color: black;border-radius: 0.25em;background-color: #f0f8ff;}#sk-container-id-2 input.sk-toggleable__control:checked~div.sk-toggleable__content {max-height: 200px;max-width: 100%;overflow: auto;}#sk-container-id-2 input.sk-toggleable__control:checked~label.sk-toggleable__label-arrow:before {content: \"▾\";}#sk-container-id-2 div.sk-estimator input.sk-toggleable__control:checked~label.sk-toggleable__label {background-color: #d4ebff;}#sk-container-id-2 div.sk-label input.sk-toggleable__control:checked~label.sk-toggleable__label {background-color: #d4ebff;}#sk-container-id-2 input.sk-hidden--visually {border: 0;clip: rect(1px 1px 1px 1px);clip: rect(1px, 1px, 1px, 1px);height: 1px;margin: -1px;overflow: hidden;padding: 0;position: absolute;width: 1px;}#sk-container-id-2 div.sk-estimator {font-family: monospace;background-color: #f0f8ff;border: 1px dotted black;border-radius: 0.25em;box-sizing: border-box;margin-bottom: 0.5em;}#sk-container-id-2 div.sk-estimator:hover {background-color: #d4ebff;}#sk-container-id-2 div.sk-parallel-item::after {content: \"\";width: 100%;border-bottom: 1px solid gray;flex-grow: 1;}#sk-container-id-2 div.sk-label:hover label.sk-toggleable__label {background-color: #d4ebff;}#sk-container-id-2 div.sk-serial::before {content: \"\";position: absolute;border-left: 1px solid gray;box-sizing: border-box;top: 0;bottom: 0;left: 50%;z-index: 0;}#sk-container-id-2 div.sk-serial {display: flex;flex-direction: column;align-items: center;background-color: white;padding-right: 0.2em;padding-left: 0.2em;position: relative;}#sk-container-id-2 div.sk-item {position: relative;z-index: 1;}#sk-container-id-2 div.sk-parallel {display: flex;align-items: stretch;justify-content: center;background-color: white;position: relative;}#sk-container-id-2 div.sk-item::before, #sk-container-id-2 div.sk-parallel-item::before {content: \"\";position: absolute;border-left: 1px solid gray;box-sizing: border-box;top: 0;bottom: 0;left: 50%;z-index: -1;}#sk-container-id-2 div.sk-parallel-item {display: flex;flex-direction: column;z-index: 1;position: relative;background-color: white;}#sk-container-id-2 div.sk-parallel-item:first-child::after {align-self: flex-end;width: 50%;}#sk-container-id-2 div.sk-parallel-item:last-child::after {align-self: flex-start;width: 50%;}#sk-container-id-2 div.sk-parallel-item:only-child::after {width: 0;}#sk-container-id-2 div.sk-dashed-wrapped {border: 1px dashed gray;margin: 0 0.4em 0.5em 0.4em;box-sizing: border-box;padding-bottom: 0.4em;background-color: white;}#sk-container-id-2 div.sk-label label {font-family: monospace;font-weight: bold;display: inline-block;line-height: 1.2em;}#sk-container-id-2 div.sk-label-container {text-align: center;}#sk-container-id-2 div.sk-container {/* jupyter's `normalize.less` sets `[hidden] { display: none; }` but bootstrap.min.css set `[hidden] { display: none !important; }` so we also need the `!important` here to be able to override the default hidden behavior on the sphinx rendered scikit-learn.org. See: https://github.com/scikit-learn/scikit-learn/issues/21755 */display: inline-block !important;position: relative;}#sk-container-id-2 div.sk-text-repr-fallback {display: none;}</style><div id=\"sk-container-id-2\" class=\"sk-top-container\"><div class=\"sk-text-repr-fallback\"><pre>HistGradientBoostingClassifier(class_weight={0: 2.0, 1: 1},\n",
       "                               l2_regularization=0.001, max_bins=127,\n",
       "                               max_depth=3, max_iter=500)</pre><b>In a Jupyter environment, please rerun this cell to show the HTML representation or trust the notebook. <br />On GitHub, the HTML representation is unable to render, please try loading this page with nbviewer.org.</b></div><div class=\"sk-container\" hidden><div class=\"sk-item\"><div class=\"sk-estimator sk-toggleable\"><input class=\"sk-toggleable__control sk-hidden--visually\" id=\"sk-estimator-id-2\" type=\"checkbox\" checked><label for=\"sk-estimator-id-2\" class=\"sk-toggleable__label sk-toggleable__label-arrow\">HistGradientBoostingClassifier</label><div class=\"sk-toggleable__content\"><pre>HistGradientBoostingClassifier(class_weight={0: 2.0, 1: 1},\n",
       "                               l2_regularization=0.001, max_bins=127,\n",
       "                               max_depth=3, max_iter=500)</pre></div></div></div></div></div>"
      ],
      "text/plain": [
       "HistGradientBoostingClassifier(class_weight={0: 2.0, 1: 1},\n",
       "                               l2_regularization=0.001, max_bins=127,\n",
       "                               max_depth=3, max_iter=500)"
      ]
     },
     "execution_count": null,
     "metadata": {},
     "output_type": "execute_result"
    }
   ],
   "source": [
    "bdt = HistGradientBoostingClassifier(min_samples_leaf=20, max_iter=500, max_depth=3, max_bins=127, \n",
    "                                     learning_rate=0.1, l2_regularization=0.001, class_weight={0: 2.0, 1: 1})\n",
    "bdt.fit(xs, y)"
   ]
  },
  {
   "cell_type": "code",
   "execution_count": null,
   "metadata": {},
   "outputs": [
    {
     "name": "stdout",
     "output_type": "stream",
     "text": [
      "loaded file\n"
     ]
    }
   ],
   "source": [
    "fname = 'best_bdt.joblib'\n",
    "if not (models_path/fname).exists():\n",
    "    bdt = HistGradientBoostingClassifier(min_samples_leaf=20, max_iter=500, max_depth=3, max_bins=127, \n",
    "                                     learning_rate=0.1, l2_regularization=0.001, class_weight={0: 2.0, 1: 1})\n",
    "    bdt.fit(xs, y)\n",
    "    dump(bdt, models_path/fname)\n",
    "else:\n",
    "    print('loaded file')\n",
    "    bdt = load(models_path/fname)"
   ]
  },
  {
   "cell_type": "code",
   "execution_count": null,
   "metadata": {},
   "outputs": [],
   "source": []
  }
 ],
 "metadata": {
  "kernelspec": {
   "display_name": "python3",
   "language": "python",
   "name": "python3"
  }
 },
 "nbformat": 4,
 "nbformat_minor": 2
}
